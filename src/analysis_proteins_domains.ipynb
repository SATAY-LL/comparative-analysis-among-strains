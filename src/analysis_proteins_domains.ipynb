{
 "cells": [
  {
   "cell_type": "code",
   "execution_count": 1,
   "metadata": {},
   "outputs": [],
   "source": [
    "## Importing the required python libraries \n",
    "import os, sys\n",
    "import warnings\n",
    "import timeit\n",
    "import numpy as np\n",
    "import pandas as pd \n",
    "import pkg_resources\n",
    "import matplotlib.pyplot as plt\n",
    "import re\n",
    "import seaborn as sns\n",
    "from collections import defaultdict\n"
   ]
  },
  {
   "cell_type": "code",
   "execution_count": 2,
   "metadata": {},
   "outputs": [],
   "source": [
    "## Importing pergene files \n",
    "\n",
    "pergene_files=[]\n",
    "#data_dir= \"../satay/data_files/data_unmerged/\"\n",
    "#data_dir=\"../transposonmapper/data_files/files4test/\"\n",
    "data_dir=\"../postprocessed-data/\"\n",
    "#data_dir=\"../transposonmapper/data_files/\"\n",
    "for root, dirs, files in os.walk(data_dir):\n",
    "    for file in files:\n",
    "        if file.endswith(\"pergene_insertions.xlsx\"):\n",
    "            pergene_files.append(os.path.join(root, file))\n",
    "\n",
    "list_data=[]\n",
    "for i in pergene_files:\n",
    "    list_data.append(pd.read_excel(i,engine='openpyxl',index_col=\"Unnamed: 0\"))\n",
    "\n",
    "keys=[]\n",
    "for i in np.arange(0,len(pergene_files)):\n",
    "    keys.append(pergene_files[i].split(\"/\")[-1].split(\"_\")[0]+\"_\"+pergene_files[i].split(\"/\")[-1].split(\"_\")[1])\n",
    "\n",
    "list_data_pd=pd.concat(list_data,axis=0,keys=keys)"
   ]
  },
  {
   "cell_type": "code",
   "execution_count": 3,
   "metadata": {},
   "outputs": [],
   "source": [
    "## Importing postproccesed data from pipeline\n",
    "\n",
    "data_post=[]\n",
    "\n",
    "for i in keys:\n",
    "    data_post.append(pd.read_excel(data_dir+i+\".xlsx\",index_col=\"Unnamed: 0\",engine='openpyxl'))\n",
    "    \n",
    "list_data_post=pd.concat(data_post,axis=0,keys=keys)\n",
    "list_data_post.drop(columns=[\"Feature_alias\",\"Feature_name\"],inplace=True)\n",
    "list_data_post.fillna(1,inplace=True)\n"
   ]
  },
  {
   "cell_type": "code",
   "execution_count": 4,
   "metadata": {},
   "outputs": [],
   "source": [
    "## Importing gene protein length , and protein domains coordinates of every gene \n",
    "\n",
    "protein_length=pd.read_csv('../data/Gene_Protein_length_yeastmine.tsv',sep=\"\\t\")\n",
    "protein_length.index=protein_length.loc[:,\"Gene Name\"]\n",
    "protein_length.drop(columns=\"Gene Name\",inplace=True)\n",
    "\n",
    "domains_coordinates=pd.read_csv('../data/Domains_all_genes_protein_coordinates_yeastmine.tsv',sep=\"\\t\")\n",
    "\n",
    "domains_coordinates.dropna(inplace=True)\n",
    "gene_with_introns=pd.read_csv('../data/Gene_Introns.tsv',sep=\"\\t\")\n",
    "\n"
   ]
  },
  {
   "cell_type": "code",
   "execution_count": 5,
   "metadata": {},
   "outputs": [],
   "source": [
    "## Combine protein length and protein domains coordinates\n",
    "domains_coordinates.loc[:,\"Protein Length\"]=np.nan\n",
    "for gene_name in protein_length.index: \n",
    "    tmp=np.where(domains_coordinates.loc[:,\"Gene Name\"]==gene_name)[0]\n",
    "    if tmp.size!=0: \n",
    "        for i in np.arange(0,len(tmp)):\n",
    "            domains_coordinates.loc[tmp[i], \"Protein Length\"]=protein_length.loc[gene_name, \"Protein Length\"]\n",
    "\n",
    "domains_coordinates.dropna(inplace=True) # to drop the proteins that do not have protein domains annotated\n",
    "domains_coordinates.index=domains_coordinates.loc[:,\"Gene Name\"]\n",
    "domains_coordinates.drop(columns=\"Gene Name\",inplace=True)"
   ]
  },
  {
   "cell_type": "code",
   "execution_count": 6,
   "metadata": {},
   "outputs": [
    {
     "data": {
      "text/html": [
       "<div>\n",
       "<style scoped>\n",
       "    .dataframe tbody tr th:only-of-type {\n",
       "        vertical-align: middle;\n",
       "    }\n",
       "\n",
       "    .dataframe tbody tr th {\n",
       "        vertical-align: top;\n",
       "    }\n",
       "\n",
       "    .dataframe thead th {\n",
       "        text-align: right;\n",
       "    }\n",
       "</style>\n",
       "<table border=\"1\" class=\"dataframe\">\n",
       "  <thead>\n",
       "    <tr style=\"text-align: right;\">\n",
       "      <th></th>\n",
       "      <th>Protein Domain</th>\n",
       "      <th>Protein domain description</th>\n",
       "      <th>Protein start location</th>\n",
       "      <th>Protein End location</th>\n",
       "      <th>Method</th>\n",
       "      <th>Domain ID</th>\n",
       "      <th>Protein Length</th>\n",
       "    </tr>\n",
       "    <tr>\n",
       "      <th>Gene Name</th>\n",
       "      <th></th>\n",
       "      <th></th>\n",
       "      <th></th>\n",
       "      <th></th>\n",
       "      <th></th>\n",
       "      <th></th>\n",
       "      <th></th>\n",
       "    </tr>\n",
       "  </thead>\n",
       "  <tbody>\n",
       "    <tr>\n",
       "      <th>AAC1</th>\n",
       "      <td>PF00153</td>\n",
       "      <td>Mitochondrial carrier protein; Mitochondrial s...</td>\n",
       "      <td>10</td>\n",
       "      <td>106</td>\n",
       "      <td>Pfam</td>\n",
       "      <td>2106639</td>\n",
       "      <td>309.0</td>\n",
       "    </tr>\n",
       "    <tr>\n",
       "      <th>AAC1</th>\n",
       "      <td>PF00153</td>\n",
       "      <td>Mitochondrial carrier protein; Mitochondrial s...</td>\n",
       "      <td>116</td>\n",
       "      <td>210</td>\n",
       "      <td>Pfam</td>\n",
       "      <td>2106640</td>\n",
       "      <td>309.0</td>\n",
       "    </tr>\n",
       "  </tbody>\n",
       "</table>\n",
       "</div>"
      ],
      "text/plain": [
       "          Protein Domain                         Protein domain description  \\\n",
       "Gene Name                                                                     \n",
       "AAC1             PF00153  Mitochondrial carrier protein; Mitochondrial s...   \n",
       "AAC1             PF00153  Mitochondrial carrier protein; Mitochondrial s...   \n",
       "\n",
       "           Protein start location  Protein End location Method  Domain ID  \\\n",
       "Gene Name                                                                   \n",
       "AAC1                           10                   106   Pfam    2106639   \n",
       "AAC1                          116                   210   Pfam    2106640   \n",
       "\n",
       "           Protein Length  \n",
       "Gene Name                  \n",
       "AAC1                309.0  \n",
       "AAC1                309.0  "
      ]
     },
     "execution_count": 6,
     "metadata": {},
     "output_type": "execute_result"
    }
   ],
   "source": [
    "domains_coordinates.head(2)"
   ]
  },
  {
   "cell_type": "code",
   "execution_count": 7,
   "metadata": {},
   "outputs": [],
   "source": [
    "\n",
    "## make a dictionary with protein domains locations per gene , the solution of an array and attaching it\n",
    "# a dataframe do not work, so I will use a dictionary\n",
    "\n",
    "list_data_domains_data=list_data_pd.copy()\n",
    "df=list_data_domains_data.loc[\"wt_merged\"] # as dataset to take info about proteins \n",
    "df.set_index(\"Gene name\",inplace=True)\n",
    "\n",
    "domain_locations=defaultdict(dict)\n",
    "\n",
    "for j in df.index:\n",
    "    if j in domains_coordinates.index:\n",
    "        if len([domains_coordinates.loc[j,\"Protein Domain\"]])>1:\n",
    "            for i in np.arange(0,len(domains_coordinates.loc[j,\"Protein Domain\"].tolist())):\n",
    "            \n",
    "                domain_locations[j][i]=(np.array([domains_coordinates.loc[j,\"Protein start location\"][i],domains_coordinates.loc[j,\n",
    "        \"Protein End location\"][i]]))\n",
    "        else:\n",
    "            domain_locations[j]=(np.array([domains_coordinates.loc[j,\"Protein start location\"],domains_coordinates.loc[j,\n",
    "    \"Protein End location\"]]))\n",
    "    else:\n",
    "        domain_locations[j]=np.nan\n",
    "\n",
    "\n",
    "domains_names=defaultdict(dict)\n",
    "\n",
    "\n",
    "for j in df.index:\n",
    "    if j in domains_coordinates.index:\n",
    "        if type(domains_coordinates.loc[j,\"Protein Domain\"])!=str:\n",
    "            if len(domains_coordinates.loc[j,\"Protein Domain\"].tolist())>1:\n",
    "                for i in np.arange(0,len(domains_coordinates.loc[j,\"Protein Domain\"].tolist())):\n",
    "                    domains_names[j][i]=np.array(domains_coordinates.loc[j,\"Protein Domain\"][i])\n",
    "            else:\n",
    "                domains_names[j]=np.array(domains_coordinates.loc[j,\"Protein Domain\"])\n",
    "        else:\n",
    "            domains_names[j]=np.array(domains_coordinates.loc[j,\"Protein Domain\"])\n",
    "    else:\n",
    "        domains_names[j]=np.nan\n",
    "        \n",
    "\n",
    "\n",
    "# for i in df.index:\n",
    "#     if i in domains_coordinates.index:\n",
    "#         df.loc[i,\"protein length\"]=np.unique(domains_coordinates.loc[i,\"Protein Length\"]).tolist()\n",
    "\n",
    "#     else:\n",
    "#         df.loc[i,\"protein length\"]=np.nan\n",
    "\n",
    "protein_length_dict=defaultdict(dict)\n",
    "\n",
    "for i in df.index:\n",
    "    if i in domains_coordinates.index:\n",
    "        protein_length_dict[i]=np.unique(domains_coordinates.loc[i,\"Protein Length\"]).tolist()\n",
    "    else:\n",
    "        protein_length_dict[i]=np.nan\n"
   ]
  },
  {
   "cell_type": "code",
   "execution_count": 8,
   "metadata": {},
   "outputs": [],
   "source": [
    "domains_names_df=pd.DataFrame.from_dict(domains_names,orient=\"index\")\n",
    "domains_names_df.columns=[\"protein domain\"]\n",
    "\n",
    "domain_locations_df=pd.DataFrame.from_dict(domain_locations,orient=\"index\")\n",
    "domain_locations_df.columns=[\"domain locations\"]\n",
    "\n",
    "protein_length_dict_df=pd.DataFrame.from_dict(protein_length_dict,orient=\"index\")\n",
    "\n",
    "protein_length_dict_df.columns=[\"protein length\"]"
   ]
  },
  {
   "cell_type": "code",
   "execution_count": 9,
   "metadata": {},
   "outputs": [],
   "source": [
    "# Merge this info with all the keys from the different backgrounds\n",
    "list_data_pd_merged=[]\n",
    "for key in keys:\n",
    "    df=list_data_pd.loc[key]\n",
    "    df.set_index(\"Gene name\",inplace=True)\n",
    "    tmp=pd.merge(df,domain_locations_df,left_index=True,right_index=True)\n",
    "    tmp_I=pd.merge(tmp,domains_names_df,left_index=True,right_index=True)\n",
    "    tmp_II=pd.merge(tmp_I,protein_length_dict_df,left_index=True,right_index=True)\n",
    "    list_data_pd_merged.append(tmp_II)\n",
    "\n"
   ]
  },
  {
   "cell_type": "code",
   "execution_count": 10,
   "metadata": {},
   "outputs": [],
   "source": [
    "list_data_pd_merged_pd=pd.concat(list_data_pd_merged,keys=keys)\n",
    "\n",
    "# saving information into an excel sheet to reuse \n",
    "\n",
    "#list_data_pd_merged_pd.to_excel(\"../postprocessed-data/merged-data-with-domains-info.xlsx\")\n"
   ]
  },
  {
   "cell_type": "code",
   "execution_count": 11,
   "metadata": {},
   "outputs": [
    {
     "data": {
      "text/plain": [
       "Chromosome                                                                   XIII\n",
       "Start location                                                             387315\n",
       "End location                                                               388244\n",
       "Insertion locations             [387357, 387361, 387373, 387402, 387480, 38751...\n",
       "Reads per insertion location    [6, 41, 48, 6, 104, 262, 19, 95, 155, 84, 9, 7...\n",
       "Reads                                                                        2388\n",
       "Insertions                                                                     37\n",
       "domain locations                                [[10, 116, 217], [106, 210, 304]]\n",
       "protein domain                               {0: PF00153, 1: PF00153, 2: PF00153}\n",
       "protein length                                                            [309.0]\n",
       "Name: AAC1, dtype: object"
      ]
     },
     "execution_count": 11,
     "metadata": {},
     "output_type": "execute_result"
    }
   ],
   "source": [
    "a=list_data_pd_merged_pd.loc[\"wt_merged\"]\n",
    "\n",
    "a.loc[\"AAC1\"]"
   ]
  },
  {
   "cell_type": "code",
   "execution_count": 12,
   "metadata": {},
   "outputs": [],
   "source": [
    "from get_reads_per_domain import get_reads_per_domain\n",
    "\n",
    "reads_per_domain_dict=defaultdict(dict)\n",
    "domain_genomics_dict=defaultdict(dict)\n",
    "\n",
    "for key in keys:\n",
    "    A=list_data_pd_merged_pd.loc[key]\n",
    "    \n",
    "    for gene in A.index:\n",
    "  \n",
    "        a,b=get_reads_per_domain(A,gene)\n",
    "\n",
    "        reads_per_domain_dict[key,gene]=a\n",
    "        domain_genomics_dict[key,gene]=b\n",
    "\n"
   ]
  },
  {
   "cell_type": "code",
   "execution_count": 13,
   "metadata": {},
   "outputs": [
    {
     "data": {
      "text/plain": [
       "[[621106.0, 621244.0], [621356.0, 621500.0], [621797.0, 622064.0]]"
      ]
     },
     "execution_count": 13,
     "metadata": {},
     "output_type": "execute_result"
    }
   ],
   "source": [
    "\n",
    "reads_per_domain_df=pd.DataFrame.from_dict(reads_per_domain_dict,orient=\"index\")\n",
    "domain_genomics_df=pd.DataFrame.from_dict(domain_genomics_dict,orient=\"index\")\n",
    "\n",
    "\n",
    "\n",
    "\n",
    "#b=reads_per_domain_df.loc[[(\"wt_merged\",\"BEM2\")],:].dropna(axis=1)\n",
    "\n",
    "# a=domain_genomics_df.index[0]\n",
    "# gene=\"BEM1\"\n",
    "# key=\"wt_merged\"\n",
    "# gene= \"BEM1\"\n",
    "\n",
    "# b=domain_genomics_df.loc[[(key,gene)],:].dropna(axis=1)\n",
    "\n",
    "# np.array(b).tolist()[0]\n",
    "\n",
    "\n",
    "# reads_per_domain_df.to_excel(\"../postprocessed-data/reads-per-domain-all-backgrounds.xlsx\")\n",
    "# domain_genomics_df.to_excel(\"../postprocessed-data/genetic-coordinates-domains-pfam.xlsx\")\n",
    "\n",
    "#"
   ]
  },
  {
   "cell_type": "code",
   "execution_count": 22,
   "metadata": {},
   "outputs": [
    {
     "name": "stderr",
     "output_type": "stream",
     "text": [
      "/data/localhome/linigodelacruz/anaconda3/envs/transposonmapper/lib/python3.9/site-packages/pandas/core/indexing.py:1817: SettingWithCopyWarning: \n",
      "A value is trying to be set on a copy of a slice from a DataFrame.\n",
      "Try using .loc[row_indexer,col_indexer] = value instead\n",
      "\n",
      "See the caveats in the documentation: https://pandas.pydata.org/pandas-docs/stable/user_guide/indexing.html#returning-a-view-versus-a-copy\n",
      "  self._setitem_single_column(loc, value, pi)\n"
     ]
    },
    {
     "data": {
      "image/png": "[encoded data removed]",
      "text/plain": [
       "<Figure size 432x288 with 2 Axes>"
      ]
     },
     "metadata": {
      "needs_background": "light"
     },
     "output_type": "display_data"
    }
   ],
   "source": [
    "from plot_reads_per_gene_with_domains import plot_reads_per_gene_with_domains\n",
    "gene=\"CDC24\"\n",
    "key=\"wt_merged\"\n",
    "data=list_data_pd_merged_pd.loc[key]\n",
    "plot_reads_per_gene_with_domains(data=data,gene=gene,domain_genomics_coordinates=domain_genomics_df,key=key)\n",
    "plt.savefig(\"../figures/fig_reads_per_gene_with_domains_\" + gene + \"_\"+key+ \".png\",dpi=300)"
   ]
  },
  {
   "cell_type": "code",
   "execution_count": 15,
   "metadata": {},
   "outputs": [
    {
     "data": {
      "text/plain": [
       "[[621106.0, 621244.0], [621356.0, 621500.0], [621797.0, 622064.0]]"
      ]
     },
     "execution_count": 15,
     "metadata": {},
     "output_type": "execute_result"
    }
   ],
   "source": [
    "\n",
    "domain_genomic=domain_genomics_df.loc[[(key,gene)],:].dropna(axis=1)\n",
    "\n",
    "domain_genomic.iloc[0,:].tolist()"
   ]
  },
  {
   "cell_type": "code",
   "execution_count": 16,
   "metadata": {},
   "outputs": [
    {
     "name": "stdout",
     "output_type": "stream",
     "text": [
      "[620955.0, 620961.0, 621093.0, 621127.0, 621149.0, 621153.0, 621153.0, 621154.0, 621154.0, 621240.0, 621265.0, 621337.0, 621338.0, 621338.0, 621526.0, 621842.0] [5.0, 3.0, 1.0, 1.0, 103.0, 1.0, 1.0, 1.0, 43.0, 91.0, 2.0, 64.0, 5.0, 1.0, 1.0, 3.0]\n"
     ]
    }
   ],
   "source": [
    "from from_excel_to_list import from_excel_to_list\n",
    "\n",
    "data=list_data_pd_merged_pd.loc[key]\n",
    "insertions_vector=from_excel_to_list(data.loc[gene,\"Insertion locations\"])\n",
    "reads_vector=from_excel_to_list(data.loc[gene,\"Reads per insertion location\"])\n",
    "print(insertions_vector,reads_vector)"
   ]
  },
  {
   "cell_type": "code",
   "execution_count": 23,
   "metadata": {},
   "outputs": [
    {
     "data": {
      "text/plain": [
       "[410.0, 0.0, 267.0]"
      ]
     },
     "execution_count": 23,
     "metadata": {},
     "output_type": "execute_result"
    }
   ],
   "source": [
    "\n",
    "b=reads_per_domain_df.loc[[(key,gene)],:].dropna(axis=1)\n",
    "\n",
    "np.array(b).tolist()[0]"
   ]
  },
  {
   "cell_type": "code",
   "execution_count": 27,
   "metadata": {},
   "outputs": [
    {
     "data": {
      "text/plain": [
       "array({0: array('PF00621', dtype='<U7'), 1: array('PF06395', dtype='<U7'), 2: array('PF15411', dtype='<U7')},\n",
       "      dtype=object)"
      ]
     },
     "execution_count": 27,
     "metadata": {},
     "output_type": "execute_result"
    }
   ],
   "source": [
    "list_data_pd_merged_pd.loc[key,gene][\"protein domain\"]"
   ]
  },
  {
   "cell_type": "code",
   "execution_count": null,
   "metadata": {},
   "outputs": [],
   "source": []
  }
 ],
 "metadata": {
  "interpreter": {
   "hash": "4e417b9778b47a28d8b1724066397982bdf41da0689af0bd29246ac5809779c3"
  },
  "kernelspec": {
   "display_name": "Python 3.9.7 64-bit ('transposonmapper': conda)",
   "language": "python",
   "name": "python3"
  },
  "language_info": {
   "codemirror_mode": {
    "name": "ipython",
    "version": 3
   },
   "file_extension": ".py",
   "mimetype": "text/x-python",
   "name": "python",
   "nbconvert_exporter": "python",
   "pygments_lexer": "ipython3",
   "version": "3.9.7"
  },
  "orig_nbformat": 4
 },
 "nbformat": 4,
 "nbformat_minor": 2
}
