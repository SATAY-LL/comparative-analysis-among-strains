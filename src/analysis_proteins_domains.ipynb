{
 "cells": [
  {
   "cell_type": "code",
   "execution_count": 1,
   "metadata": {},
   "outputs": [],
   "source": [
    "## Importing the required python libraries \n",
    "import os, sys\n",
    "import warnings\n",
    "import timeit\n",
    "import numpy as np\n",
    "import pandas as pd \n",
    "import pkg_resources\n",
    "import matplotlib.pyplot as plt\n",
    "import re\n",
    "import seaborn as sns\n",
    "from collections import defaultdict\n"
   ]
  },
  {
   "cell_type": "code",
   "execution_count": 2,
   "metadata": {},
   "outputs": [],
   "source": [
    "## Importing pergene files \n",
    "\n",
    "pergene_files=[]\n",
    "#data_dir= \"../satay/data_files/data_unmerged/\"\n",
    "#data_dir=\"../transposonmapper/data_files/files4test/\"\n",
    "data_dir=\"../postprocessed-data/\"\n",
    "#data_dir=\"../transposonmapper/data_files/\"\n",
    "for root, dirs, files in os.walk(data_dir):\n",
    "    for file in files:\n",
    "        if file.endswith(\"pergene_insertions.xlsx\"):\n",
    "            pergene_files.append(os.path.join(root, file))\n",
    "\n",
    "list_data=[]\n",
    "for i in pergene_files:\n",
    "    list_data.append(pd.read_excel(i,engine='openpyxl',index_col=\"Unnamed: 0\"))\n",
    "\n",
    "keys=[]\n",
    "for i in np.arange(0,len(pergene_files)):\n",
    "    keys.append(pergene_files[i].split(\"/\")[-1].split(\"_\")[0]+\"_\"+pergene_files[i].split(\"/\")[-1].split(\"_\")[1])\n",
    "\n",
    "list_data_pd=pd.concat(list_data,axis=0,keys=keys)"
   ]
  },
  {
   "cell_type": "code",
   "execution_count": 3,
   "metadata": {},
   "outputs": [],
   "source": [
    "## Importing postproccesed data from pipeline\n",
    "\n",
    "data_post=[]\n",
    "\n",
    "for i in keys:\n",
    "    data_post.append(pd.read_excel(data_dir+i+\".xlsx\",index_col=\"Unnamed: 0\",engine='openpyxl'))\n",
    "    \n",
    "list_data_post=pd.concat(data_post,axis=0,keys=keys)\n",
    "list_data_post.drop(columns=[\"Feature_alias\",\"Feature_name\"],inplace=True)\n",
    "list_data_post.fillna(1,inplace=True)\n"
   ]
  },
  {
   "cell_type": "code",
   "execution_count": 4,
   "metadata": {},
   "outputs": [
    {
     "data": {
      "text/html": [
       "<div>\n",
       "<style scoped>\n",
       "    .dataframe tbody tr th:only-of-type {\n",
       "        vertical-align: middle;\n",
       "    }\n",
       "\n",
       "    .dataframe tbody tr th {\n",
       "        vertical-align: top;\n",
       "    }\n",
       "\n",
       "    .dataframe thead th {\n",
       "        text-align: right;\n",
       "    }\n",
       "</style>\n",
       "<table border=\"1\" class=\"dataframe\">\n",
       "  <thead>\n",
       "    <tr style=\"text-align: right;\">\n",
       "      <th></th>\n",
       "      <th></th>\n",
       "      <th>Standard_name</th>\n",
       "      <th>Feature_type</th>\n",
       "      <th>Essentiality</th>\n",
       "      <th>Chromosome</th>\n",
       "      <th>Position</th>\n",
       "      <th>Nbasepairs</th>\n",
       "      <th>Ninsertions</th>\n",
       "      <th>Ninsertions_truncatedgene</th>\n",
       "      <th>Nreads</th>\n",
       "      <th>Nreads_list</th>\n",
       "      <th>Nreads_truncatedgene</th>\n",
       "      <th>Nreadsperinsrt</th>\n",
       "      <th>Nreadsperinsrt_truncatedgene</th>\n",
       "    </tr>\n",
       "  </thead>\n",
       "  <tbody>\n",
       "    <tr>\n",
       "      <th rowspan=\"2\" valign=\"top\">dbem3_b</th>\n",
       "      <th>0</th>\n",
       "      <td>noncoding</td>\n",
       "      <td>1</td>\n",
       "      <td>1.0</td>\n",
       "      <td>I</td>\n",
       "      <td>[0, 1]</td>\n",
       "      <td>2</td>\n",
       "      <td>0</td>\n",
       "      <td>0</td>\n",
       "      <td>0</td>\n",
       "      <td>[0.]</td>\n",
       "      <td>0</td>\n",
       "      <td>0.000000</td>\n",
       "      <td>0.0</td>\n",
       "    </tr>\n",
       "    <tr>\n",
       "      <th>1</th>\n",
       "      <td>TEL01L</td>\n",
       "      <td>Telomere</td>\n",
       "      <td>1.0</td>\n",
       "      <td>I</td>\n",
       "      <td>[2, 335]</td>\n",
       "      <td>334</td>\n",
       "      <td>38</td>\n",
       "      <td>38</td>\n",
       "      <td>2356</td>\n",
       "      <td>[  0.   0.   0.   0.   0.   0.   0.   0.   0. ...</td>\n",
       "      <td>2356</td>\n",
       "      <td>63.675676</td>\n",
       "      <td>62.0</td>\n",
       "    </tr>\n",
       "  </tbody>\n",
       "</table>\n",
       "</div>"
      ],
      "text/plain": [
       "          Standard_name Feature_type  Essentiality Chromosome  Position  \\\n",
       "dbem3_b 0     noncoding            1           1.0          I    [0, 1]   \n",
       "        1        TEL01L     Telomere           1.0          I  [2, 335]   \n",
       "\n",
       "           Nbasepairs  Ninsertions  Ninsertions_truncatedgene  Nreads  \\\n",
       "dbem3_b 0           2            0                          0       0   \n",
       "        1         334           38                         38    2356   \n",
       "\n",
       "                                                 Nreads_list  \\\n",
       "dbem3_b 0                                               [0.]   \n",
       "        1  [  0.   0.   0.   0.   0.   0.   0.   0.   0. ...   \n",
       "\n",
       "           Nreads_truncatedgene  Nreadsperinsrt  Nreadsperinsrt_truncatedgene  \n",
       "dbem3_b 0                     0        0.000000                           0.0  \n",
       "        1                  2356       63.675676                          62.0  "
      ]
     },
     "execution_count": 4,
     "metadata": {},
     "output_type": "execute_result"
    }
   ],
   "source": [
    "list_data_post.head(2)\n",
    "# list_data_pd.head()"
   ]
  },
  {
   "cell_type": "code",
   "execution_count": 5,
   "metadata": {},
   "outputs": [],
   "source": [
    "## Importing gene protein length , and protein domains coordinates of every gene \n",
    "\n",
    "protein_length=pd.read_csv('../data/Gene_Protein_length_yeastmine.tsv',sep=\"\\t\")\n",
    "protein_length.index=protein_length.loc[:,\"Gene Name\"]\n",
    "protein_length.drop(columns=\"Gene Name\",inplace=True)\n",
    "\n",
    "domains_coordinates=pd.read_csv('../data/Domains_all_genes_protein_coordinates_yeastmine.tsv',sep=\"\\t\")\n",
    "\n",
    "domains_coordinates.dropna(inplace=True)\n",
    "gene_with_introns=pd.read_csv('../data/Gene_Introns.tsv',sep=\"\\t\")\n",
    "\n"
   ]
  },
  {
   "cell_type": "code",
   "execution_count": 6,
   "metadata": {},
   "outputs": [],
   "source": [
    "## Combine protein length and protein domains coordinates\n",
    "domains_coordinates.loc[:,\"Protein Length\"]=np.nan\n",
    "for gene_name in protein_length.index: \n",
    "    tmp=np.where(domains_coordinates.loc[:,\"Gene Name\"]==gene_name)[0]\n",
    "    if tmp.size!=0: \n",
    "        for i in np.arange(0,len(tmp)):\n",
    "            domains_coordinates.loc[tmp[i], \"Protein Length\"]=protein_length.loc[gene_name, \"Protein Length\"]\n",
    "\n",
    "domains_coordinates.dropna(inplace=True) # to drop the proteins that do not have protein domains annotated\n",
    "domains_coordinates.index=domains_coordinates.loc[:,\"Gene Name\"]\n",
    "domains_coordinates.drop(columns=\"Gene Name\",inplace=True)"
   ]
  },
  {
   "cell_type": "code",
   "execution_count": 7,
   "metadata": {},
   "outputs": [
    {
     "data": {
      "text/html": [
       "<div>\n",
       "<style scoped>\n",
       "    .dataframe tbody tr th:only-of-type {\n",
       "        vertical-align: middle;\n",
       "    }\n",
       "\n",
       "    .dataframe tbody tr th {\n",
       "        vertical-align: top;\n",
       "    }\n",
       "\n",
       "    .dataframe thead th {\n",
       "        text-align: right;\n",
       "    }\n",
       "</style>\n",
       "<table border=\"1\" class=\"dataframe\">\n",
       "  <thead>\n",
       "    <tr style=\"text-align: right;\">\n",
       "      <th></th>\n",
       "      <th>Protein Domain</th>\n",
       "      <th>Protein domain description</th>\n",
       "      <th>Protein start location</th>\n",
       "      <th>Protein End location</th>\n",
       "      <th>Method</th>\n",
       "      <th>Domain ID</th>\n",
       "      <th>Protein Length</th>\n",
       "    </tr>\n",
       "    <tr>\n",
       "      <th>Gene Name</th>\n",
       "      <th></th>\n",
       "      <th></th>\n",
       "      <th></th>\n",
       "      <th></th>\n",
       "      <th></th>\n",
       "      <th></th>\n",
       "      <th></th>\n",
       "    </tr>\n",
       "  </thead>\n",
       "  <tbody>\n",
       "    <tr>\n",
       "      <th>AAC1</th>\n",
       "      <td>PF00153</td>\n",
       "      <td>Mitochondrial carrier protein; Mitochondrial s...</td>\n",
       "      <td>10</td>\n",
       "      <td>106</td>\n",
       "      <td>Pfam</td>\n",
       "      <td>2106639</td>\n",
       "      <td>309.0</td>\n",
       "    </tr>\n",
       "    <tr>\n",
       "      <th>AAC1</th>\n",
       "      <td>PF00153</td>\n",
       "      <td>Mitochondrial carrier protein; Mitochondrial s...</td>\n",
       "      <td>116</td>\n",
       "      <td>210</td>\n",
       "      <td>Pfam</td>\n",
       "      <td>2106640</td>\n",
       "      <td>309.0</td>\n",
       "    </tr>\n",
       "  </tbody>\n",
       "</table>\n",
       "</div>"
      ],
      "text/plain": [
       "          Protein Domain                         Protein domain description  \\\n",
       "Gene Name                                                                     \n",
       "AAC1             PF00153  Mitochondrial carrier protein; Mitochondrial s...   \n",
       "AAC1             PF00153  Mitochondrial carrier protein; Mitochondrial s...   \n",
       "\n",
       "           Protein start location  Protein End location Method  Domain ID  \\\n",
       "Gene Name                                                                   \n",
       "AAC1                           10                   106   Pfam    2106639   \n",
       "AAC1                          116                   210   Pfam    2106640   \n",
       "\n",
       "           Protein Length  \n",
       "Gene Name                  \n",
       "AAC1                309.0  \n",
       "AAC1                309.0  "
      ]
     },
     "execution_count": 7,
     "metadata": {},
     "output_type": "execute_result"
    }
   ],
   "source": [
    "domains_coordinates.head(2)"
   ]
  },
  {
   "cell_type": "code",
   "execution_count": 8,
   "metadata": {},
   "outputs": [],
   "source": [
    "## Add for every gene name from the pergene files , a column with an array of the protein domains\n",
    "# founded in the domains coordinates file, as well as the length of the protein,and the\n",
    "# end location and start location of every protein domain\n",
    "list_data_domains_data=list_data_pd.copy()\n",
    "df=list_data_domains_data.loc[keys[0]]\n",
    "df.set_index(\"Gene name\",inplace=True)\n",
    "\n",
    "    \n"
   ]
  },
  {
   "cell_type": "code",
   "execution_count": 9,
   "metadata": {},
   "outputs": [
    {
     "name": "stderr",
     "output_type": "stream",
     "text": [
      "/data/localhome/linigodelacruz/anaconda3/envs/transposonmapper/lib/python3.9/site-packages/pandas/core/indexing.py:1684: SettingWithCopyWarning: \n",
      "A value is trying to be set on a copy of a slice from a DataFrame.\n",
      "Try using .loc[row_indexer,col_indexer] = value instead\n",
      "\n",
      "See the caveats in the documentation: https://pandas.pydata.org/pandas-docs/stable/user_guide/indexing.html#returning-a-view-versus-a-copy\n",
      "  self.obj[key] = infer_fill_value(value)\n",
      "/data/localhome/linigodelacruz/anaconda3/envs/transposonmapper/lib/python3.9/site-packages/pandas/core/indexing.py:1817: SettingWithCopyWarning: \n",
      "A value is trying to be set on a copy of a slice from a DataFrame.\n",
      "Try using .loc[row_indexer,col_indexer] = value instead\n",
      "\n",
      "See the caveats in the documentation: https://pandas.pydata.org/pandas-docs/stable/user_guide/indexing.html#returning-a-view-versus-a-copy\n",
      "  self._setitem_single_column(loc, value, pi)\n",
      "/data/localhome/linigodelacruz/anaconda3/envs/transposonmapper/lib/python3.9/site-packages/pandas/core/indexing.py:1797: SettingWithCopyWarning: \n",
      "A value is trying to be set on a copy of a slice from a DataFrame.\n",
      "Try using .loc[row_indexer,col_indexer] = value instead\n",
      "\n",
      "See the caveats in the documentation: https://pandas.pydata.org/pandas-docs/stable/user_guide/indexing.html#returning-a-view-versus-a-copy\n",
      "  self._setitem_single_column(loc, v, pi)\n"
     ]
    }
   ],
   "source": [
    "\n",
    "## make a dictionary with protein domains locations per gene , the solution of an array and attaching it\n",
    "# a dataframe do not work, so I will use a dictionary\n",
    "\n",
    "domain_locations=defaultdict(dict)\n",
    "\n",
    "for j in df.index:\n",
    "    if j in domains_coordinates.index:\n",
    "        if len([domains_coordinates.loc[j,\"Protein Domain\"]])>1:\n",
    "            for i in np.arange(0,len(domains_coordinates.loc[j,\"Protein Domain\"].tolist())):\n",
    "            \n",
    "                domain_locations[j][i]=(np.array([domains_coordinates.loc[j,\"Protein start location\"][i],domains_coordinates.loc[j,\n",
    "        \"Protein End location\"][i]]))\n",
    "        else:\n",
    "            domain_locations[j]=(np.array([domains_coordinates.loc[j,\"Protein start location\"],domains_coordinates.loc[j,\n",
    "    \"Protein End location\"]]))\n",
    "    else:\n",
    "        domain_locations[j]=np.nan\n",
    "\n",
    "\n",
    "domains_names=defaultdict(dict)\n",
    "\n",
    "\n",
    "for j in df.index:\n",
    "    if j in domains_coordinates.index:\n",
    "        if type(domains_coordinates.loc[j,\"Protein Domain\"])!=str:\n",
    "            if len(domains_coordinates.loc[j,\"Protein Domain\"].tolist())>1:\n",
    "                for i in np.arange(0,len(domains_coordinates.loc[j,\"Protein Domain\"].tolist())):\n",
    "                    domains_names[j][i]=np.array(domains_coordinates.loc[j,\"Protein Domain\"][i])\n",
    "            else:\n",
    "                domains_names[j]=np.array(domains_coordinates.loc[j,\"Protein Domain\"])\n",
    "        else:\n",
    "            domains_names[j]=np.array(domains_coordinates.loc[j,\"Protein Domain\"])\n",
    "    else:\n",
    "        domains_names[j]=np.nan\n",
    "        \n",
    "\n",
    "\n",
    "for i in df.index:\n",
    "    if i in domains_coordinates.index:\n",
    "        df.loc[i,\"protein length\"]=np.unique(domains_coordinates.loc[i,\"Protein Length\"]).tolist()\n",
    "\n",
    "    else:\n",
    "        df.loc[i,\"protein length\"]=np.nan\n",
    "\n"
   ]
  },
  {
   "cell_type": "code",
   "execution_count": 10,
   "metadata": {},
   "outputs": [],
   "source": [
    "domains_names_df=pd.DataFrame.from_dict(domains_names,orient=\"index\")\n",
    "domains_names_df.columns=[\"protein domain\"]\n",
    "\n",
    "domain_locations_df=pd.DataFrame.from_dict(domain_locations,orient=\"index\")\n",
    "domain_locations_df.columns=[\"domain locations\"]\n"
   ]
  },
  {
   "cell_type": "code",
   "execution_count": 11,
   "metadata": {},
   "outputs": [
    {
     "data": {
      "text/plain": [
       "Chromosome                                                                   XIII\n",
       "Start location                                                             387315\n",
       "End location                                                               388244\n",
       "Insertion locations             [387338, 387376, 387380, 387386, 387393, 38740...\n",
       "Reads per insertion location    [9, 89, 2, 2, 1, 2, 4, 4, 2, 1, 1, 5, 3, 1, 1,...\n",
       "Reads                                                                        2563\n",
       "Insertions                                                                     77\n",
       "protein length                                                              309.0\n",
       "domain locations                                [[10, 116, 217], [106, 210, 304]]\n",
       "protein domain                               {0: PF00153, 1: PF00153, 2: PF00153}\n",
       "Name: AAC1, dtype: object"
      ]
     },
     "execution_count": 11,
     "metadata": {},
     "output_type": "execute_result"
    }
   ],
   "source": [
    "df_merged=pd.merge(df,domain_locations_df,left_index=True,right_index=True)\n",
    "\n",
    "df_merged_II=pd.merge(df_merged,domains_names_df,left_index=True,right_index=True)\n",
    "\n",
    "df_merged_II.loc[\"AAC1\"]"
   ]
  },
  {
   "cell_type": "code",
   "execution_count": 14,
   "metadata": {},
   "outputs": [],
   "source": [
    "## Example on how to translate protein domains coordinates to genomic coordinates\n",
    "from from_excel_to_list import from_excel_to_list\n",
    "gene=\"AAC1\"\n",
    "\n",
    "genomic_length=df_merged_II.loc[gene,\"End location\"]-df_merged_II.loc[gene,\"Start location\"]\n",
    "protein_length=df_merged_II.loc[gene,\"protein length\"]\n",
    "\n",
    "domain_1_protein=[df_merged_II.loc[gene,\"domain locations\"][1][0],df_merged_II.loc[gene,\"domain locations\"][0][0]]\n",
    "\n",
    "domain_1_protein_rel=domain_1_protein/protein_length\n",
    "\n",
    "domain_1_genomic_rel=np.round(domain_1_protein_rel*genomic_length)\n",
    "\n",
    "domain_1_genomic=[domain_1_genomic_rel[1]+df_merged_II.loc[gene,\"Start location\"],\n",
    "domain_1_genomic_rel[0]+df_merged_II.loc[gene,\"Start location\"]]\n",
    "\n",
    "insertions_vector=from_excel_to_list(df_merged_II.loc[gene,\"Insertion locations\"])\n",
    "reads_vector=from_excel_to_list(df_merged_II.loc[gene,\"Reads per insertion location\"])\n",
    "\n",
    "pos_domain_1=[]\n",
    "\n",
    "for i in np.arange(0,len(insertions_vector)):\n",
    "    if domain_1_genomic[0]<=insertions_vector[i] and insertions_vector[i]<=domain_1_genomic[1]:\n",
    "        \n",
    "        pos_domain_1.append(reads_vector[i])\n",
    "       \n",
    "\n",
    "reads_domain_1=np.sum(pos_domain_1)"
   ]
  },
  {
   "cell_type": "code",
   "execution_count": 15,
   "metadata": {},
   "outputs": [
    {
     "data": {
      "text/plain": [
       "(387345.0, 387634.0, 293.0)"
      ]
     },
     "execution_count": 15,
     "metadata": {},
     "output_type": "execute_result"
    }
   ],
   "source": [
    "domain_1_genomic[0],domain_1_genomic[1],reads_domain_1"
   ]
  },
  {
   "cell_type": "code",
   "execution_count": 23,
   "metadata": {},
   "outputs": [
    {
     "data": {
      "text/plain": [
       "float"
      ]
     },
     "execution_count": 23,
     "metadata": {},
     "output_type": "execute_result"
    }
   ],
   "source": [
    "type(df_merged_II.loc[\"YAL069W\",\"domain locations\"])"
   ]
  },
  {
   "cell_type": "code",
   "execution_count": 12,
   "metadata": {},
   "outputs": [],
   "source": [
    "## Function to get the reads per domain per gene \n",
    "\n",
    "def get_reads_per_domain(data,gene):\n",
    "\n",
    "    from from_excel_to_list import from_excel_to_list\n",
    "\n",
    "    genomic_length=data.loc[gene,\"End location\"]-data.loc[gene,\"Start location\"]\n",
    "    protein_length=data.loc[gene,\"protein length\"]\n",
    "\n",
    "    insertions_vector=from_excel_to_list(df_merged_II.loc[gene,\"Insertion locations\"])\n",
    "    reads_vector=from_excel_to_list(df_merged_II.loc[gene,\"Reads per insertion location\"])\n",
    "\n",
    "    \n",
    "    domain_genomic=[]\n",
    "    tmp=df_merged_II.loc[gene,\"domain locations\"]\n",
    "    \n",
    "    if type(tmp)!=float : \n",
    "\n",
    "        if type(tmp.tolist()[0])!=int:\n",
    "            \n",
    "            for i in np.arange(0,int(len(np.concatenate(tmp).tolist())/2)):\n",
    "            \n",
    "                domain_protein=[data.loc[gene,\"domain locations\"][1][i],data.loc[gene,\"domain locations\"][0][i]]\n",
    "\n",
    "                domain_protein_rel=domain_protein/protein_length\n",
    "\n",
    "                domain_genomic_rel=np.round(domain_protein_rel*genomic_length)\n",
    "\n",
    "                domain_genomic.append([domain_genomic_rel[1]+df_merged_II.loc[gene,\"Start location\"],\n",
    "        domain_genomic_rel[0]+df_merged_II.loc[gene,\"Start location\"]])\n",
    "\n",
    "        else:\n",
    "\n",
    "                domain_protein=[data.loc[gene,\"domain locations\"][1],data.loc[gene,\"domain locations\"][0]]\n",
    "\n",
    "                domain_protein_rel=domain_protein/protein_length\n",
    "\n",
    "                domain_genomic_rel=np.round(domain_protein_rel*genomic_length)\n",
    "\n",
    "                domain_genomic.append([domain_genomic_rel[1]+df_merged_II.loc[gene,\"Start location\"],\n",
    "        domain_genomic_rel[0]+df_merged_II.loc[gene,\"Start location\"]])\n",
    "\n",
    "\n",
    "    \n",
    "\n",
    "    \n",
    "    reads_domain=[]\n",
    "    for j in np.arange(0,len(domain_genomic)):\n",
    "        pos_domain=[]\n",
    "        if type(insertions_vector)!=int:\n",
    "            for i in np.arange(0,len(insertions_vector)):     \n",
    "\n",
    "                if domain_genomic[j][0]<=insertions_vector[i] and insertions_vector[i]<=domain_genomic[j][1]:\n",
    "                    pos_domain.append(reads_vector[i])       \n",
    "\n",
    "            reads_domain.append(np.sum(pos_domain))\n",
    "\n",
    "    return reads_domain,domain_genomic"
   ]
  },
  {
   "cell_type": "code",
   "execution_count": 13,
   "metadata": {},
   "outputs": [],
   "source": [
    "reads_per_domain=defaultdict(dict)\n",
    "domain_genomics_coordinates=defaultdict(dict)\n",
    "for gene in df_merged_II.index:\n",
    "    reads_per_domain[gene],domain_genomics_coordinates[gene]=get_reads_per_domain(df_merged_II,gene)\n",
    "\n"
   ]
  },
  {
   "cell_type": "code",
   "execution_count": 42,
   "metadata": {},
   "outputs": [
    {
     "data": {
      "text/plain": [
       "[187.0, 0.0, 0.0]"
      ]
     },
     "execution_count": 42,
     "metadata": {},
     "output_type": "execute_result"
    }
   ],
   "source": [
    "reads_per_domain_df=pd.DataFrame.from_dict(reads_per_domain,orient=\"index\")\n",
    "\n",
    "domain_genomics_coordinates_df=pd.DataFrame.from_dict(domain_genomics_coordinates,orient=\"index\")\n",
    "\n",
    "#reads_per_domain_df.fillna(np.nan,inplace=True)\n",
    "\n",
    "reads_per_domain_df.loc[\"BEM1\"].dropna().tolist()"
   ]
  },
  {
   "cell_type": "code",
   "execution_count": null,
   "metadata": {},
   "outputs": [],
   "source": []
  },
  {
   "cell_type": "code",
   "execution_count": 29,
   "metadata": {},
   "outputs": [
    {
     "name": "stderr",
     "output_type": "stream",
     "text": [
      "/data/localhome/linigodelacruz/anaconda3/envs/transposonmapper/lib/python3.9/site-packages/pandas/core/frame.py:4906: SettingWithCopyWarning: \n",
      "A value is trying to be set on a copy of a slice from a DataFrame\n",
      "\n",
      "See the caveats in the documentation: https://pandas.pydata.org/pandas-docs/stable/user_guide/indexing.html#returning-a-view-versus-a-copy\n",
      "  return super().drop(\n"
     ]
    },
    {
     "data": {
      "text/plain": [
       "[0.0]"
      ]
     },
     "execution_count": 29,
     "metadata": {},
     "output_type": "execute_result"
    }
   ],
   "source": [
    "list_data_post_new=list_data_post.loc[keys[0]]\n",
    "\n",
    "list_data_post_new.index=list_data_post_new[\"Standard_name\"]\n",
    "list_data_post_new.drop([\"Standard_name\"],axis=1,inplace=True)\n",
    "\n",
    "list_data_post_new.loc[gene,\"Essentiality\"].unique().tolist()"
   ]
  },
  {
   "cell_type": "code",
   "execution_count": 32,
   "metadata": {},
   "outputs": [
    {
     "name": "stderr",
     "output_type": "stream",
     "text": [
      "/data/localhome/linigodelacruz/anaconda3/envs/transposonmapper/lib/python3.9/site-packages/pandas/core/frame.py:4906: SettingWithCopyWarning: \n",
      "A value is trying to be set on a copy of a slice from a DataFrame\n",
      "\n",
      "See the caveats in the documentation: https://pandas.pydata.org/pandas-docs/stable/user_guide/indexing.html#returning-a-view-versus-a-copy\n",
      "  return super().drop(\n"
     ]
    }
   ],
   "source": [
    "list_data_post_new=list_data_post.loc[keys[0]]\n",
    "\n",
    "list_data_post_new.index=list_data_post_new[\"Standard_name\"]\n",
    "list_data_post_new.drop([\"Standard_name\"],axis=1,inplace=True)\n",
    "\n",
    "for gene in df_merged_II.index:\n",
    "    if gene in list_data_post_new.index:\n",
    "        if type(list_data_post_new.loc[gene,\"Essentiality\"])!=np.float64:\n",
    "            df_merged_II.loc[gene,\"essentiality\"]=list_data_post_new.loc[gene,\"Essentiality\"].unique().tolist()\n",
    "        else:\n",
    "            df_merged_II.loc[gene,\"essentiality\"]=list_data_post_new.loc[gene,\"Essentiality\"]"
   ]
  },
  {
   "cell_type": "code",
   "execution_count": 35,
   "metadata": {},
   "outputs": [
    {
     "data": {
      "text/html": [
       "<div>\n",
       "<style scoped>\n",
       "    .dataframe tbody tr th:only-of-type {\n",
       "        vertical-align: middle;\n",
       "    }\n",
       "\n",
       "    .dataframe tbody tr th {\n",
       "        vertical-align: top;\n",
       "    }\n",
       "\n",
       "    .dataframe thead th {\n",
       "        text-align: right;\n",
       "    }\n",
       "</style>\n",
       "<table border=\"1\" class=\"dataframe\">\n",
       "  <thead>\n",
       "    <tr style=\"text-align: right;\">\n",
       "      <th></th>\n",
       "      <th>Chromosome</th>\n",
       "      <th>Start location</th>\n",
       "      <th>End location</th>\n",
       "      <th>Insertion locations</th>\n",
       "      <th>Reads per insertion location</th>\n",
       "      <th>Reads</th>\n",
       "      <th>Insertions</th>\n",
       "      <th>protein length</th>\n",
       "      <th>domain locations</th>\n",
       "      <th>protein domain</th>\n",
       "      <th>essentiality</th>\n",
       "    </tr>\n",
       "  </thead>\n",
       "  <tbody>\n",
       "    <tr>\n",
       "      <th>YAL069W</th>\n",
       "      <td>I</td>\n",
       "      <td>335</td>\n",
       "      <td>649</td>\n",
       "      <td>[336, 340, 349, 372, 377, 382, 386, 386, 387, ...</td>\n",
       "      <td>[3, 327, 87, 1, 3, 12, 39, 1, 43, 6, 3, 45, 1,...</td>\n",
       "      <td>2353</td>\n",
       "      <td>55</td>\n",
       "      <td>NaN</td>\n",
       "      <td>NaN</td>\n",
       "      <td>NaN</td>\n",
       "      <td>0.0</td>\n",
       "    </tr>\n",
       "    <tr>\n",
       "      <th>YAL068W-A</th>\n",
       "      <td>I</td>\n",
       "      <td>538</td>\n",
       "      <td>792</td>\n",
       "      <td>[559, 561, 564, 565, 569, 570, 570, 571, 573, ...</td>\n",
       "      <td>[6, 1, 2, 2, 147, 9, 154, 17, 177, 1, 132, 5, ...</td>\n",
       "      <td>694</td>\n",
       "      <td>25</td>\n",
       "      <td>NaN</td>\n",
       "      <td>NaN</td>\n",
       "      <td>NaN</td>\n",
       "      <td>NaN</td>\n",
       "    </tr>\n",
       "    <tr>\n",
       "      <th>PAU8</th>\n",
       "      <td>I</td>\n",
       "      <td>1807</td>\n",
       "      <td>2169</td>\n",
       "      <td>[1810, 1819, 1826, 1831, 1833, 1838, 1846, 188...</td>\n",
       "      <td>[3, 30, 16, 2, 8, 1, 12, 50, 1, 3, 2, 1, 44, 2...</td>\n",
       "      <td>416</td>\n",
       "      <td>29</td>\n",
       "      <td>120.0</td>\n",
       "      <td>[22, 114]</td>\n",
       "      <td>PF00660</td>\n",
       "      <td>0.0</td>\n",
       "    </tr>\n",
       "    <tr>\n",
       "      <th>YAL067W-A</th>\n",
       "      <td>I</td>\n",
       "      <td>2480</td>\n",
       "      <td>2707</td>\n",
       "      <td>[2494, 2534, 2552, 2560, 2561, 2561, 2574, 257...</td>\n",
       "      <td>[20, 1, 7, 6, 8, 1, 4, 4, 2, 21, 2, 1, 3, 4, 4...</td>\n",
       "      <td>90</td>\n",
       "      <td>17</td>\n",
       "      <td>NaN</td>\n",
       "      <td>NaN</td>\n",
       "      <td>NaN</td>\n",
       "      <td>NaN</td>\n",
       "    </tr>\n",
       "    <tr>\n",
       "      <th>SEO1</th>\n",
       "      <td>I</td>\n",
       "      <td>7235</td>\n",
       "      <td>9016</td>\n",
       "      <td>[7294, 7299, 7326, 7403, 7403, 7404, 7408, 744...</td>\n",
       "      <td>[38, 1, 1, 84, 1, 12, 32, 1, 3, 5, 1, 6, 52, 4...</td>\n",
       "      <td>1394</td>\n",
       "      <td>70</td>\n",
       "      <td>593.0</td>\n",
       "      <td>[144, 503]</td>\n",
       "      <td>PF07690</td>\n",
       "      <td>0.0</td>\n",
       "    </tr>\n",
       "    <tr>\n",
       "      <th>...</th>\n",
       "      <td>...</td>\n",
       "      <td>...</td>\n",
       "      <td>...</td>\n",
       "      <td>...</td>\n",
       "      <td>...</td>\n",
       "      <td>...</td>\n",
       "      <td>...</td>\n",
       "      <td>...</td>\n",
       "      <td>...</td>\n",
       "      <td>...</td>\n",
       "      <td>...</td>\n",
       "    </tr>\n",
       "    <tr>\n",
       "      <th>ARR3</th>\n",
       "      <td>XVI</td>\n",
       "      <td>939922</td>\n",
       "      <td>941136</td>\n",
       "      <td>[939931, 939933, 939934, 939943, 939945, 93996...</td>\n",
       "      <td>[74, 1, 2, 1, 1, 1, 27, 23, 19, 4, 3, 1, 1, 33...</td>\n",
       "      <td>1004</td>\n",
       "      <td>71</td>\n",
       "      <td>404.0</td>\n",
       "      <td>[78, 275]</td>\n",
       "      <td>PF01758</td>\n",
       "      <td>0.0</td>\n",
       "    </tr>\n",
       "    <tr>\n",
       "      <th>YPR202W</th>\n",
       "      <td>XVI</td>\n",
       "      <td>943032</td>\n",
       "      <td>943896</td>\n",
       "      <td>[943035, 943041, 943063, 943072, 943077, 94308...</td>\n",
       "      <td>[45, 1, 3, 8, 9, 1, 19, 9, 20, 27, 8, 12, 9, 1...</td>\n",
       "      <td>738</td>\n",
       "      <td>92</td>\n",
       "      <td>NaN</td>\n",
       "      <td>NaN</td>\n",
       "      <td>NaN</td>\n",
       "      <td>0.0</td>\n",
       "    </tr>\n",
       "    <tr>\n",
       "      <th>YPR203W</th>\n",
       "      <td>XVI</td>\n",
       "      <td>943880</td>\n",
       "      <td>944188</td>\n",
       "      <td>[943883, 943895, 943907, 943912, 943917, 94393...</td>\n",
       "      <td>[12, 5, 25, 1, 1, 1, 1, 1, 36, 9, 1, 1, 8, 2, ...</td>\n",
       "      <td>721</td>\n",
       "      <td>62</td>\n",
       "      <td>NaN</td>\n",
       "      <td>NaN</td>\n",
       "      <td>NaN</td>\n",
       "      <td>0.0</td>\n",
       "    </tr>\n",
       "    <tr>\n",
       "      <th>YPR204W</th>\n",
       "      <td>XVI</td>\n",
       "      <td>944603</td>\n",
       "      <td>947701</td>\n",
       "      <td>[944623, 944625, 944629, 944630, 944631, 94463...</td>\n",
       "      <td>[5, 2, 2, 7, 5, 60, 1, 9, 14, 2, 17, 9, 2, 11,...</td>\n",
       "      <td>4028</td>\n",
       "      <td>438</td>\n",
       "      <td>NaN</td>\n",
       "      <td>NaN</td>\n",
       "      <td>NaN</td>\n",
       "      <td>NaN</td>\n",
       "    </tr>\n",
       "    <tr>\n",
       "      <th>YPR204C-A</th>\n",
       "      <td>XVI</td>\n",
       "      <td>946856</td>\n",
       "      <td>947338</td>\n",
       "      <td>[946859, 946880, 946884, 946888, 946893, 94689...</td>\n",
       "      <td>[14, 1, 10, 1, 1, 1, 6, 51, 14, 5, 42, 5, 7, 8...</td>\n",
       "      <td>700</td>\n",
       "      <td>80</td>\n",
       "      <td>NaN</td>\n",
       "      <td>NaN</td>\n",
       "      <td>NaN</td>\n",
       "      <td>NaN</td>\n",
       "    </tr>\n",
       "  </tbody>\n",
       "</table>\n",
       "<p>6600 rows × 11 columns</p>\n",
       "</div>"
      ],
      "text/plain": [
       "          Chromosome  Start location  End location  \\\n",
       "YAL069W            I             335           649   \n",
       "YAL068W-A          I             538           792   \n",
       "PAU8               I            1807          2169   \n",
       "YAL067W-A          I            2480          2707   \n",
       "SEO1               I            7235          9016   \n",
       "...              ...             ...           ...   \n",
       "ARR3             XVI          939922        941136   \n",
       "YPR202W          XVI          943032        943896   \n",
       "YPR203W          XVI          943880        944188   \n",
       "YPR204W          XVI          944603        947701   \n",
       "YPR204C-A        XVI          946856        947338   \n",
       "\n",
       "                                         Insertion locations  \\\n",
       "YAL069W    [336, 340, 349, 372, 377, 382, 386, 386, 387, ...   \n",
       "YAL068W-A  [559, 561, 564, 565, 569, 570, 570, 571, 573, ...   \n",
       "PAU8       [1810, 1819, 1826, 1831, 1833, 1838, 1846, 188...   \n",
       "YAL067W-A  [2494, 2534, 2552, 2560, 2561, 2561, 2574, 257...   \n",
       "SEO1       [7294, 7299, 7326, 7403, 7403, 7404, 7408, 744...   \n",
       "...                                                      ...   \n",
       "ARR3       [939931, 939933, 939934, 939943, 939945, 93996...   \n",
       "YPR202W    [943035, 943041, 943063, 943072, 943077, 94308...   \n",
       "YPR203W    [943883, 943895, 943907, 943912, 943917, 94393...   \n",
       "YPR204W    [944623, 944625, 944629, 944630, 944631, 94463...   \n",
       "YPR204C-A  [946859, 946880, 946884, 946888, 946893, 94689...   \n",
       "\n",
       "                                Reads per insertion location  Reads  \\\n",
       "YAL069W    [3, 327, 87, 1, 3, 12, 39, 1, 43, 6, 3, 45, 1,...   2353   \n",
       "YAL068W-A  [6, 1, 2, 2, 147, 9, 154, 17, 177, 1, 132, 5, ...    694   \n",
       "PAU8       [3, 30, 16, 2, 8, 1, 12, 50, 1, 3, 2, 1, 44, 2...    416   \n",
       "YAL067W-A  [20, 1, 7, 6, 8, 1, 4, 4, 2, 21, 2, 1, 3, 4, 4...     90   \n",
       "SEO1       [38, 1, 1, 84, 1, 12, 32, 1, 3, 5, 1, 6, 52, 4...   1394   \n",
       "...                                                      ...    ...   \n",
       "ARR3       [74, 1, 2, 1, 1, 1, 27, 23, 19, 4, 3, 1, 1, 33...   1004   \n",
       "YPR202W    [45, 1, 3, 8, 9, 1, 19, 9, 20, 27, 8, 12, 9, 1...    738   \n",
       "YPR203W    [12, 5, 25, 1, 1, 1, 1, 1, 36, 9, 1, 1, 8, 2, ...    721   \n",
       "YPR204W    [5, 2, 2, 7, 5, 60, 1, 9, 14, 2, 17, 9, 2, 11,...   4028   \n",
       "YPR204C-A  [14, 1, 10, 1, 1, 1, 6, 51, 14, 5, 42, 5, 7, 8...    700   \n",
       "\n",
       "           Insertions  protein length domain locations protein domain  \\\n",
       "YAL069W            55             NaN              NaN            NaN   \n",
       "YAL068W-A          25             NaN              NaN            NaN   \n",
       "PAU8               29           120.0        [22, 114]        PF00660   \n",
       "YAL067W-A          17             NaN              NaN            NaN   \n",
       "SEO1               70           593.0       [144, 503]        PF07690   \n",
       "...               ...             ...              ...            ...   \n",
       "ARR3               71           404.0        [78, 275]        PF01758   \n",
       "YPR202W            92             NaN              NaN            NaN   \n",
       "YPR203W            62             NaN              NaN            NaN   \n",
       "YPR204W           438             NaN              NaN            NaN   \n",
       "YPR204C-A          80             NaN              NaN            NaN   \n",
       "\n",
       "           essentiality  \n",
       "YAL069W             0.0  \n",
       "YAL068W-A           NaN  \n",
       "PAU8                0.0  \n",
       "YAL067W-A           NaN  \n",
       "SEO1                0.0  \n",
       "...                 ...  \n",
       "ARR3                0.0  \n",
       "YPR202W             0.0  \n",
       "YPR203W             0.0  \n",
       "YPR204W             NaN  \n",
       "YPR204C-A           NaN  \n",
       "\n",
       "[6600 rows x 11 columns]"
      ]
     },
     "execution_count": 35,
     "metadata": {},
     "output_type": "execute_result"
    }
   ],
   "source": [
    "df_merged_II"
   ]
  },
  {
   "cell_type": "code",
   "execution_count": 52,
   "metadata": {},
   "outputs": [],
   "source": [
    "df.loc[\"AAC1\",\"Protein domains locations\"]=b[0][0]"
   ]
  },
  {
   "cell_type": "code",
   "execution_count": 41,
   "metadata": {},
   "outputs": [
    {
     "data": {
      "text/plain": [
       "[10, 106, 116, 210, 217, 304]"
      ]
     },
     "execution_count": 41,
     "metadata": {},
     "output_type": "execute_result"
    }
   ],
   "source": [
    "np.concatenate(b,axis=0).tolist()"
   ]
  },
  {
   "cell_type": "code",
   "execution_count": null,
   "metadata": {},
   "outputs": [
    {
     "data": {
      "text/plain": [
       "'AAC1'"
      ]
     },
     "execution_count": 60,
     "metadata": {},
     "output_type": "execute_result"
    }
   ],
   "source": [
    "df.loc[tmp,\"Gene name\"]"
   ]
  },
  {
   "cell_type": "code",
   "execution_count": null,
   "metadata": {},
   "outputs": [],
   "source": []
  }
 ],
 "metadata": {
  "interpreter": {
   "hash": "4e417b9778b47a28d8b1724066397982bdf41da0689af0bd29246ac5809779c3"
  },
  "kernelspec": {
   "display_name": "Python 3.9.7 64-bit ('transposonmapper': conda)",
   "language": "python",
   "name": "python3"
  },
  "language_info": {
   "codemirror_mode": {
    "name": "ipython",
    "version": 3
   },
   "file_extension": ".py",
   "mimetype": "text/x-python",
   "name": "python",
   "nbconvert_exporter": "python",
   "pygments_lexer": "ipython3",
   "version": "3.9.7"
  },
  "orig_nbformat": 4
 },
 "nbformat": 4,
 "nbformat_minor": 2
}
