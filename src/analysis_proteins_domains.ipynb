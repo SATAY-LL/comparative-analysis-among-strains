{
 "cells": [
  {
   "cell_type": "code",
   "execution_count": 2,
   "metadata": {},
   "outputs": [],
   "source": [
    "## Importing the required python libraries \n",
    "import os, sys\n",
    "import warnings\n",
    "import timeit\n",
    "import numpy as np\n",
    "import pandas as pd \n",
    "import pkg_resources\n",
    "import matplotlib.pyplot as plt\n",
    "import re\n",
    "import seaborn as sns\n",
    "from collections import defaultdict\n"
   ]
  },
  {
   "cell_type": "code",
   "execution_count": 3,
   "metadata": {},
   "outputs": [],
   "source": [
    "## Importing pergene files \n",
    "\n",
    "pergene_files=[]\n",
    "#data_dir= \"../satay/data_files/data_unmerged/\"\n",
    "#data_dir=\"../transposonmapper/data_files/files4test/\"\n",
    "data_dir=\"../postprocessed-data/\"\n",
    "#data_dir=\"../transposonmapper/data_files/\"\n",
    "for root, dirs, files in os.walk(data_dir):\n",
    "    for file in files:\n",
    "        if file.endswith(\"pergene_insertions.xlsx\"):\n",
    "            pergene_files.append(os.path.join(root, file))\n",
    "\n",
    "list_data=[]\n",
    "for i in pergene_files:\n",
    "    list_data.append(pd.read_excel(i,engine='openpyxl',index_col=\"Unnamed: 0\"))\n",
    "\n",
    "keys=[]\n",
    "for i in np.arange(0,len(pergene_files)):\n",
    "    keys.append(pergene_files[i].split(\"/\")[-1].split(\"_\")[0]+\"_\"+pergene_files[i].split(\"/\")[-1].split(\"_\")[1])\n",
    "\n",
    "list_data_pd=pd.concat(list_data,axis=0,keys=keys)"
   ]
  },
  {
   "cell_type": "code",
   "execution_count": 4,
   "metadata": {},
   "outputs": [],
   "source": [
    "## Importing postproccesed data from pipeline\n",
    "\n",
    "data_post=[]\n",
    "\n",
    "for i in keys:\n",
    "    data_post.append(pd.read_excel(data_dir+i+\".xlsx\",index_col=\"Unnamed: 0\",engine='openpyxl'))\n",
    "    \n",
    "list_data_post=pd.concat(data_post,axis=0,keys=keys)\n",
    "list_data_post.drop(columns=[\"Feature_alias\",\"Feature_name\"],inplace=True)\n",
    "list_data_post.fillna(1,inplace=True)\n"
   ]
  },
  {
   "cell_type": "code",
   "execution_count": 4,
   "metadata": {},
   "outputs": [
    {
     "data": {
      "text/html": [
       "<div>\n",
       "<style scoped>\n",
       "    .dataframe tbody tr th:only-of-type {\n",
       "        vertical-align: middle;\n",
       "    }\n",
       "\n",
       "    .dataframe tbody tr th {\n",
       "        vertical-align: top;\n",
       "    }\n",
       "\n",
       "    .dataframe thead th {\n",
       "        text-align: right;\n",
       "    }\n",
       "</style>\n",
       "<table border=\"1\" class=\"dataframe\">\n",
       "  <thead>\n",
       "    <tr style=\"text-align: right;\">\n",
       "      <th></th>\n",
       "      <th></th>\n",
       "      <th>Standard_name</th>\n",
       "      <th>Feature_type</th>\n",
       "      <th>Essentiality</th>\n",
       "      <th>Chromosome</th>\n",
       "      <th>Position</th>\n",
       "      <th>Nbasepairs</th>\n",
       "      <th>Ninsertions</th>\n",
       "      <th>Ninsertions_truncatedgene</th>\n",
       "      <th>Nreads</th>\n",
       "      <th>Nreads_list</th>\n",
       "      <th>Nreads_truncatedgene</th>\n",
       "      <th>Nreadsperinsrt</th>\n",
       "      <th>Nreadsperinsrt_truncatedgene</th>\n",
       "    </tr>\n",
       "  </thead>\n",
       "  <tbody>\n",
       "    <tr>\n",
       "      <th rowspan=\"2\" valign=\"top\">dbem3_b</th>\n",
       "      <th>0</th>\n",
       "      <td>noncoding</td>\n",
       "      <td>1</td>\n",
       "      <td>1.0</td>\n",
       "      <td>I</td>\n",
       "      <td>[0, 1]</td>\n",
       "      <td>2</td>\n",
       "      <td>0</td>\n",
       "      <td>0</td>\n",
       "      <td>0</td>\n",
       "      <td>[0.]</td>\n",
       "      <td>0</td>\n",
       "      <td>0.000000</td>\n",
       "      <td>0.0</td>\n",
       "    </tr>\n",
       "    <tr>\n",
       "      <th>1</th>\n",
       "      <td>TEL01L</td>\n",
       "      <td>Telomere</td>\n",
       "      <td>1.0</td>\n",
       "      <td>I</td>\n",
       "      <td>[2, 335]</td>\n",
       "      <td>334</td>\n",
       "      <td>38</td>\n",
       "      <td>38</td>\n",
       "      <td>2356</td>\n",
       "      <td>[  0.   0.   0.   0.   0.   0.   0.   0.   0. ...</td>\n",
       "      <td>2356</td>\n",
       "      <td>63.675676</td>\n",
       "      <td>62.0</td>\n",
       "    </tr>\n",
       "  </tbody>\n",
       "</table>\n",
       "</div>"
      ],
      "text/plain": [
       "          Standard_name Feature_type  Essentiality Chromosome  Position  \\\n",
       "dbem3_b 0     noncoding            1           1.0          I    [0, 1]   \n",
       "        1        TEL01L     Telomere           1.0          I  [2, 335]   \n",
       "\n",
       "           Nbasepairs  Ninsertions  Ninsertions_truncatedgene  Nreads  \\\n",
       "dbem3_b 0           2            0                          0       0   \n",
       "        1         334           38                         38    2356   \n",
       "\n",
       "                                                 Nreads_list  \\\n",
       "dbem3_b 0                                               [0.]   \n",
       "        1  [  0.   0.   0.   0.   0.   0.   0.   0.   0. ...   \n",
       "\n",
       "           Nreads_truncatedgene  Nreadsperinsrt  Nreadsperinsrt_truncatedgene  \n",
       "dbem3_b 0                     0        0.000000                           0.0  \n",
       "        1                  2356       63.675676                          62.0  "
      ]
     },
     "execution_count": 4,
     "metadata": {},
     "output_type": "execute_result"
    }
   ],
   "source": [
    "list_data_post.head(2)\n",
    "# list_data_pd.head()"
   ]
  },
  {
   "cell_type": "code",
   "execution_count": 5,
   "metadata": {},
   "outputs": [],
   "source": [
    "## Importing gene protein length , and protein domains coordinates of every gene \n",
    "\n",
    "protein_length=pd.read_csv('../data/Gene_Protein_length_yeastmine.tsv',sep=\"\\t\")\n",
    "protein_length.index=protein_length.loc[:,\"Gene Name\"]\n",
    "protein_length.drop(columns=\"Gene Name\",inplace=True)\n",
    "\n",
    "domains_coordinates=pd.read_csv('../data/Domains_all_genes_protein_coordinates_yeastmine.tsv',sep=\"\\t\")\n",
    "\n",
    "domains_coordinates.dropna(inplace=True)\n",
    "gene_with_introns=pd.read_csv('../data/Gene_Introns.tsv',sep=\"\\t\")\n",
    "\n"
   ]
  },
  {
   "cell_type": "code",
   "execution_count": 6,
   "metadata": {},
   "outputs": [],
   "source": [
    "## Combine protein length and protein domains coordinates\n",
    "domains_coordinates.loc[:,\"Protein Length\"]=np.nan\n",
    "for gene_name in protein_length.index: \n",
    "    tmp=np.where(domains_coordinates.loc[:,\"Gene Name\"]==gene_name)[0]\n",
    "    if tmp.size!=0: \n",
    "        for i in np.arange(0,len(tmp)):\n",
    "            domains_coordinates.loc[tmp[i], \"Protein Length\"]=protein_length.loc[gene_name, \"Protein Length\"]\n",
    "\n",
    "domains_coordinates.dropna(inplace=True) # to drop the proteins that do not have protein domains annotated\n",
    "domains_coordinates.index=domains_coordinates.loc[:,\"Gene Name\"]\n",
    "domains_coordinates.drop(columns=\"Gene Name\",inplace=True)"
   ]
  },
  {
   "cell_type": "code",
   "execution_count": 7,
   "metadata": {},
   "outputs": [
    {
     "data": {
      "text/html": [
       "<div>\n",
       "<style scoped>\n",
       "    .dataframe tbody tr th:only-of-type {\n",
       "        vertical-align: middle;\n",
       "    }\n",
       "\n",
       "    .dataframe tbody tr th {\n",
       "        vertical-align: top;\n",
       "    }\n",
       "\n",
       "    .dataframe thead th {\n",
       "        text-align: right;\n",
       "    }\n",
       "</style>\n",
       "<table border=\"1\" class=\"dataframe\">\n",
       "  <thead>\n",
       "    <tr style=\"text-align: right;\">\n",
       "      <th></th>\n",
       "      <th>Protein Domain</th>\n",
       "      <th>Protein domain description</th>\n",
       "      <th>Protein start location</th>\n",
       "      <th>Protein End location</th>\n",
       "      <th>Method</th>\n",
       "      <th>Domain ID</th>\n",
       "      <th>Protein Length</th>\n",
       "    </tr>\n",
       "    <tr>\n",
       "      <th>Gene Name</th>\n",
       "      <th></th>\n",
       "      <th></th>\n",
       "      <th></th>\n",
       "      <th></th>\n",
       "      <th></th>\n",
       "      <th></th>\n",
       "      <th></th>\n",
       "    </tr>\n",
       "  </thead>\n",
       "  <tbody>\n",
       "    <tr>\n",
       "      <th>AAC1</th>\n",
       "      <td>PF00153</td>\n",
       "      <td>Mitochondrial carrier protein; Mitochondrial s...</td>\n",
       "      <td>10</td>\n",
       "      <td>106</td>\n",
       "      <td>Pfam</td>\n",
       "      <td>2106639</td>\n",
       "      <td>309.0</td>\n",
       "    </tr>\n",
       "    <tr>\n",
       "      <th>AAC1</th>\n",
       "      <td>PF00153</td>\n",
       "      <td>Mitochondrial carrier protein; Mitochondrial s...</td>\n",
       "      <td>116</td>\n",
       "      <td>210</td>\n",
       "      <td>Pfam</td>\n",
       "      <td>2106640</td>\n",
       "      <td>309.0</td>\n",
       "    </tr>\n",
       "  </tbody>\n",
       "</table>\n",
       "</div>"
      ],
      "text/plain": [
       "          Protein Domain                         Protein domain description  \\\n",
       "Gene Name                                                                     \n",
       "AAC1             PF00153  Mitochondrial carrier protein; Mitochondrial s...   \n",
       "AAC1             PF00153  Mitochondrial carrier protein; Mitochondrial s...   \n",
       "\n",
       "           Protein start location  Protein End location Method  Domain ID  \\\n",
       "Gene Name                                                                   \n",
       "AAC1                           10                   106   Pfam    2106639   \n",
       "AAC1                          116                   210   Pfam    2106640   \n",
       "\n",
       "           Protein Length  \n",
       "Gene Name                  \n",
       "AAC1                309.0  \n",
       "AAC1                309.0  "
      ]
     },
     "execution_count": 7,
     "metadata": {},
     "output_type": "execute_result"
    }
   ],
   "source": [
    "domains_coordinates.head(2)"
   ]
  },
  {
   "cell_type": "code",
   "execution_count": 7,
   "metadata": {},
   "outputs": [],
   "source": [
    "## Add for every gene name from the pergene files , a column with an array of the protein domains\n",
    "# founded in the domains coordinates file, as well as the length of the protein,and the\n",
    "# end location and start location of every protein domain\n",
    "list_data_domains_data=list_data_pd.copy()\n",
    "df=list_data_domains_data.loc[keys[0]]\n",
    "df.set_index(\"Gene name\",inplace=True)\n",
    "\n",
    "    \n"
   ]
  },
  {
   "cell_type": "code",
   "execution_count": 8,
   "metadata": {},
   "outputs": [
    {
     "name": "stderr",
     "output_type": "stream",
     "text": [
      "/data/localhome/linigodelacruz/anaconda3/envs/transposonmapper/lib/python3.9/site-packages/pandas/core/indexing.py:1684: SettingWithCopyWarning: \n",
      "A value is trying to be set on a copy of a slice from a DataFrame.\n",
      "Try using .loc[row_indexer,col_indexer] = value instead\n",
      "\n",
      "See the caveats in the documentation: https://pandas.pydata.org/pandas-docs/stable/user_guide/indexing.html#returning-a-view-versus-a-copy\n",
      "  self.obj[key] = infer_fill_value(value)\n",
      "/data/localhome/linigodelacruz/anaconda3/envs/transposonmapper/lib/python3.9/site-packages/pandas/core/indexing.py:1817: SettingWithCopyWarning: \n",
      "A value is trying to be set on a copy of a slice from a DataFrame.\n",
      "Try using .loc[row_indexer,col_indexer] = value instead\n",
      "\n",
      "See the caveats in the documentation: https://pandas.pydata.org/pandas-docs/stable/user_guide/indexing.html#returning-a-view-versus-a-copy\n",
      "  self._setitem_single_column(loc, value, pi)\n",
      "/data/localhome/linigodelacruz/anaconda3/envs/transposonmapper/lib/python3.9/site-packages/pandas/core/indexing.py:1797: SettingWithCopyWarning: \n",
      "A value is trying to be set on a copy of a slice from a DataFrame.\n",
      "Try using .loc[row_indexer,col_indexer] = value instead\n",
      "\n",
      "See the caveats in the documentation: https://pandas.pydata.org/pandas-docs/stable/user_guide/indexing.html#returning-a-view-versus-a-copy\n",
      "  self._setitem_single_column(loc, v, pi)\n"
     ]
    }
   ],
   "source": [
    "\n",
    "## make a dictionary with protein domains locations per gene , the solution of an array and attaching it\n",
    "# a dataframe do not work, so I will use a dictionary\n",
    "domain_locations=defaultdict(dict)\n",
    "\n",
    "for j in df.index:\n",
    "    if j in domains_coordinates.index:\n",
    "        if len([domains_coordinates.loc[j,\"Protein Domain\"]])>1:\n",
    "            for i in np.arange(0,len(domains_coordinates.loc[j,\"Protein Domain\"].tolist())):\n",
    "            \n",
    "                domain_locations[j][i]=(np.array([domains_coordinates.loc[j,\"Protein start location\"][i],domains_coordinates.loc[j,\n",
    "        \"Protein End location\"][i]]))\n",
    "        else:\n",
    "            domain_locations[j]=(np.array([domains_coordinates.loc[j,\"Protein start location\"],domains_coordinates.loc[j,\n",
    "    \"Protein End location\"]]))\n",
    "    else:\n",
    "        domain_locations[j]=np.nan\n",
    "\n",
    "\n",
    "domains_names=defaultdict(dict)\n",
    "\n",
    "\n",
    "for j in df.index:\n",
    "    if j in domains_coordinates.index:\n",
    "        if type(domains_coordinates.loc[j,\"Protein Domain\"])!=str:\n",
    "            if len(domains_coordinates.loc[j,\"Protein Domain\"].tolist())>1:\n",
    "                for i in np.arange(0,len(domains_coordinates.loc[j,\"Protein Domain\"].tolist())):\n",
    "                    domains_names[j][i]=np.array(domains_coordinates.loc[j,\"Protein Domain\"][i])\n",
    "            else:\n",
    "                domains_names[j]=np.array(domains_coordinates.loc[j,\"Protein Domain\"])\n",
    "        else:\n",
    "            domains_names[j]=np.array(domains_coordinates.loc[j,\"Protein Domain\"])\n",
    "    else:\n",
    "        domains_names[j]=np.nan\n",
    "        \n",
    "\n",
    "\n",
    "for i in df.index:\n",
    "    if i in domains_coordinates.index:\n",
    "        df.loc[i,\"protein length\"]=np.unique(domains_coordinates.loc[i,\"Protein Length\"]).tolist()\n",
    "\n",
    "    else:\n",
    "        df.loc[i,\"protein length\"]=np.nan\n",
    "\n"
   ]
  },
  {
   "cell_type": "code",
   "execution_count": 9,
   "metadata": {},
   "outputs": [],
   "source": [
    "domains_names_df=pd.DataFrame.from_dict(domains_names,orient=\"index\")\n",
    "domains_names_df.columns=[\"protein domain\"]\n",
    "\n",
    "domain_locations_df=pd.DataFrame.from_dict(domain_locations,orient=\"index\")\n",
    "domain_locations_df.columns=[\"protein locations\"]\n"
   ]
  },
  {
   "cell_type": "code",
   "execution_count": 10,
   "metadata": {},
   "outputs": [
    {
     "data": {
      "text/plain": [
       "Chromosome                                                                   XIII\n",
       "Start location                                                             387315\n",
       "End location                                                               388244\n",
       "Insertion locations             [387338, 387376, 387380, 387386, 387393, 38740...\n",
       "Reads per insertion location    [9, 89, 2, 2, 1, 2, 4, 4, 2, 1, 1, 5, 3, 1, 1,...\n",
       "Reads                                                                        2563\n",
       "Insertions                                                                     77\n",
       "protein length                                                              309.0\n",
       "protein locations                               [[10, 116, 217], [106, 210, 304]]\n",
       "protein domain                               {0: PF00153, 1: PF00153, 2: PF00153}\n",
       "Name: AAC1, dtype: object"
      ]
     },
     "execution_count": 10,
     "metadata": {},
     "output_type": "execute_result"
    }
   ],
   "source": [
    "df_merged=pd.merge(df,domain_locations_df,left_index=True,right_index=True)\n",
    "\n",
    "df_merged_II=pd.merge(df_merged,domains_names_df,left_index=True,right_index=True)\n",
    "\n",
    "df_merged_II.loc[\"AAC1\"]"
   ]
  },
  {
   "cell_type": "code",
   "execution_count": 253,
   "metadata": {},
   "outputs": [
    {
     "name": "stdout",
     "output_type": "stream",
     "text": [
      "0\n",
      "0\n",
      "0\n",
      "0\n",
      "0\n",
      "0\n",
      "0\n",
      "0\n",
      "0\n",
      "0\n",
      "0\n",
      "0\n",
      "0\n",
      "0\n",
      "0\n",
      "0\n"
     ]
    }
   ],
   "source": [
    "## Example on how to translate protein domains coordinates to genomic coordinates\n",
    "from from_excel_to_list import from_excel_to_list\n",
    "gene=\"AAC1\"\n",
    "\n",
    "genomic_length=df_merged_II.loc[gene,\"End location\"]-df_merged_II.loc[gene,\"Start location\"]\n",
    "protein_length=df_merged_II.loc[gene,\"protein length\"]\n",
    "\n",
    "domain_1_protein=[df_merged_II.loc[gene,\"protein locations\"][1][0],df_merged_II.loc[gene,\"protein locations\"][0][0]]\n",
    "\n",
    "domain_1_protein_rel=domain_1_protein/protein_length\n",
    "\n",
    "domain_1_genomic_rel=np.round(domain_1_protein_rel*genomic_length)\n",
    "\n",
    "domain_1_genomic=[domain_1_genomic_rel[1]+df_merged_II.loc[gene,\"Start location\"],\n",
    "domain_1_genomic_rel[0]+df_merged_II.loc[gene,\"Start location\"]]\n",
    "\n",
    "insertions_vector=from_excel_to_list(df_merged_II.loc[gene,\"Insertion locations\"])\n",
    "reads_vector=from_excel_to_list(df_merged_II.loc[gene,\"Reads per insertion location\"])\n",
    "\n",
    "pos_domain_1=[]\n",
    "\n",
    "for i in insertions_vector:\n",
    "    if domain_1_genomic[0]<=i and i<=domain_1_genomic[1]:\n",
    "        j=np.where(insertions_vector.index(i))[0][0]\n",
    "        print(j)\n",
    "        pos_domain_1.append(reads_vector[j])\n",
    "       \n",
    "\n",
    "reads_domain_1=np.sum(pos_domain_1)"
   ]
  },
  {
   "cell_type": "code",
   "execution_count": 171,
   "metadata": {},
   "outputs": [
    {
     "data": {
      "text/plain": [
       "(387345.0, 387634.0, 0.050865418580007066)"
      ]
     },
     "execution_count": 171,
     "metadata": {},
     "output_type": "execute_result"
    }
   ],
   "source": [
    "domain_1_genomic[0],domain_1_genomic[1],reads_domain_1/np.sum(reads_vector)"
   ]
  },
  {
   "cell_type": "code",
   "execution_count": 250,
   "metadata": {},
   "outputs": [
    {
     "data": {
      "text/plain": [
       "0"
      ]
     },
     "execution_count": 250,
     "metadata": {},
     "output_type": "execute_result"
    }
   ],
   "source": [
    "a=[2,5]\n",
    "a.index(2)"
   ]
  },
  {
   "cell_type": "code",
   "execution_count": 296,
   "metadata": {},
   "outputs": [],
   "source": [
    "from from_excel_to_list import from_excel_to_list\n",
    "domain_genomic=defaultdict(dict)\n",
    "reads_genomic=defaultdict(dict)\n",
    "\n",
    "for gene in df_merged_II.index: \n",
    "\n",
    "\n",
    "    genomic_length=df_merged_II.loc[gene,\"End location\"]-df_merged_II.loc[gene,\"Start location\"]\n",
    "    protein_length=df_merged_II.loc[gene,\"protein length\"]\n",
    "\n",
    "    if type(df_merged_II.loc[gene,\"protein locations\"])!=float:\n",
    "        \n",
    "         tmp=df_merged_II.loc[gene,\"protein locations\"].tolist()\n",
    "\n",
    "         if type(tmp[0])!=int:\n",
    "\n",
    "            for i in np.arange(0,len(tmp[0])): \n",
    "                \n",
    "            \n",
    "                domain_protein=[df_merged_II.loc[gene,\"protein locations\"][1][i],\n",
    "            df_merged_II.loc[gene,\"protein locations\"][0][i]] # end location first\n",
    "\n",
    "                domain_protein_rel=domain_protein/protein_length\n",
    "\n",
    "                domain_genomic_rel=np.round(domain_protein_rel*genomic_length)\n",
    "\n",
    "                domain_genomic[gene][i]=([domain_genomic_rel[1]+df_merged_II.loc[gene,\"Start location\"],\n",
    "            domain_genomic_rel[0]+df_merged_II.loc[gene,\"Start location\"]])\n",
    "            \n",
    "         else: \n",
    "             \n",
    "                \n",
    "            domain_protein=[df_merged_II.loc[gene,\"protein locations\"][1],\n",
    "            df_merged_II.loc[gene,\"protein locations\"][0]]\n",
    "\n",
    "            domain_protein_rel=domain_protein/protein_length\n",
    "\n",
    "            domain_genomic_rel=np.round(domain_protein_rel*genomic_length)\n",
    "\n",
    "            domain_genomic[gene][0]=([domain_genomic_rel[1]+df_merged_II.loc[gene,\"Start location\"],\n",
    "            domain_genomic_rel[0]+df_merged_II.loc[gene,\"Start location\"]])\n",
    "\n",
    "                \n",
    "\n",
    "                \n",
    "            \n"
   ]
  },
  {
   "cell_type": "code",
   "execution_count": 1,
   "metadata": {},
   "outputs": [
    {
     "ename": "NameError",
     "evalue": "name 'df_merged_II' is not defined",
     "output_type": "error",
     "traceback": [
      "\u001b[0;31m---------------------------------------------------------------------------\u001b[0m",
      "\u001b[0;31mNameError\u001b[0m                                 Traceback (most recent call last)",
      "\u001b[0;32m/tmp/ipykernel_12905/3003071736.py\u001b[0m in \u001b[0;36m<module>\u001b[0;34m\u001b[0m\n\u001b[0;32m----> 1\u001b[0;31m \u001b[0;32mfor\u001b[0m \u001b[0mgene\u001b[0m \u001b[0;32min\u001b[0m \u001b[0mdf_merged_II\u001b[0m\u001b[0;34m.\u001b[0m\u001b[0mindex\u001b[0m\u001b[0;34m:\u001b[0m\u001b[0;34m\u001b[0m\u001b[0;34m\u001b[0m\u001b[0m\n\u001b[0m\u001b[1;32m      2\u001b[0m \u001b[0;34m\u001b[0m\u001b[0m\n\u001b[1;32m      3\u001b[0m     \u001b[0minsertions_vector\u001b[0m\u001b[0;34m=\u001b[0m\u001b[0mfrom_excel_to_list\u001b[0m\u001b[0;34m(\u001b[0m\u001b[0mdf_merged_II\u001b[0m\u001b[0;34m.\u001b[0m\u001b[0mloc\u001b[0m\u001b[0;34m[\u001b[0m\u001b[0mgene\u001b[0m\u001b[0;34m,\u001b[0m\u001b[0;34m\"Insertion locations\"\u001b[0m\u001b[0;34m]\u001b[0m\u001b[0;34m)\u001b[0m\u001b[0;34m\u001b[0m\u001b[0;34m\u001b[0m\u001b[0m\n\u001b[1;32m      4\u001b[0m     \u001b[0mreads_vector\u001b[0m\u001b[0;34m=\u001b[0m\u001b[0mfrom_excel_to_list\u001b[0m\u001b[0;34m(\u001b[0m\u001b[0mdf_merged_II\u001b[0m\u001b[0;34m.\u001b[0m\u001b[0mloc\u001b[0m\u001b[0;34m[\u001b[0m\u001b[0mgene\u001b[0m\u001b[0;34m,\u001b[0m\u001b[0;34m\"Reads per insertion location\"\u001b[0m\u001b[0;34m]\u001b[0m\u001b[0;34m)\u001b[0m\u001b[0;34m\u001b[0m\u001b[0;34m\u001b[0m\u001b[0m\n\u001b[1;32m      5\u001b[0m \u001b[0;34m\u001b[0m\u001b[0m\n",
      "\u001b[0;31mNameError\u001b[0m: name 'df_merged_II' is not defined"
     ]
    }
   ],
   "source": [
    "for gene in df_merged_II.index:\n",
    "\n",
    "    insertions_vector=from_excel_to_list(df_merged_II.loc[gene,\"Insertion locations\"])\n",
    "    reads_vector=from_excel_to_list(df_merged_II.loc[gene,\"Reads per insertion location\"]) \n",
    "\n",
    "    if type(insertions_vector)!=int:\n",
    "\n",
    "    \n",
    "\n",
    "        for i in np.arange(0,len(insertions_vector)):\n",
    "           \n",
    "            pos_domain=[]\n",
    "            if len(domain_genomic[gene])!=0:\n",
    "                \n",
    "                for k in np.arange(0,len(domain_genomic[gene])):\n",
    "\n",
    "                    if domain_genomic[gene][k][0]<=insertions_vector[i] and insertions_vector[i]<=domain_genomic[gene][k][1]:\n",
    "                        \n",
    "                        pos_domain.append(reads_vector[i])\n",
    "                        print(pos_domain)\n",
    "                \n",
    "\n",
    "                    reads_genomic[gene][k]=np.sum(pos_domain)\n",
    "            else:\n",
    "                reads_genomic[gene]=0\n",
    "                   "
   ]
  },
  {
   "cell_type": "code",
   "execution_count": 279,
   "metadata": {},
   "outputs": [
    {
     "data": {
      "text/plain": [
       "Chromosome                                                                      I\n",
       "Start location                                                               1807\n",
       "End location                                                                 2169\n",
       "Insertion locations             [1810, 1819, 1826, 1831, 1833, 1838, 1846, 188...\n",
       "Reads per insertion location    [3, 30, 16, 2, 8, 1, 12, 50, 1, 3, 2, 1, 44, 2...\n",
       "Reads                                                                         416\n",
       "Insertions                                                                     29\n",
       "protein length                                                              120.0\n",
       "protein locations                                                       [22, 114]\n",
       "protein domain                                                            PF00660\n",
       "Name: PAU8, dtype: object"
      ]
     },
     "execution_count": 279,
     "metadata": {},
     "output_type": "execute_result"
    }
   ],
   "source": [
    "\n",
    "df_merged_II.loc[\"PAU8\"]"
   ]
  },
  {
   "cell_type": "code",
   "execution_count": 243,
   "metadata": {},
   "outputs": [
    {
     "data": {
      "text/plain": [
       "(array([], dtype=int64),)"
      ]
     },
     "execution_count": 243,
     "metadata": {},
     "output_type": "execute_result"
    }
   ],
   "source": []
  },
  {
   "cell_type": "code",
   "execution_count": 67,
   "metadata": {},
   "outputs": [
    {
     "data": {
      "text/plain": [
       "Index(['AAC1', 'AAC1', 'AAC1', 'AAC3', 'AAC3', 'AAC3', 'AAD10', 'AAD14',\n",
       "       'AAD3', 'AAD4',\n",
       "       ...\n",
       "       'ZRC1', 'ZRT1', 'ZRT2', 'ZRT3', 'ZTA1', 'ZTA1', 'ZUO1', 'ZUO1', 'ZWF1',\n",
       "       'ZWF1'],\n",
       "      dtype='object', name='Gene Name', length=7327)"
      ]
     },
     "execution_count": 67,
     "metadata": {},
     "output_type": "execute_result"
    }
   ],
   "source": [
    "domains_coordinates.index"
   ]
  },
  {
   "cell_type": "code",
   "execution_count": 52,
   "metadata": {},
   "outputs": [],
   "source": [
    "df.loc[\"AAC1\",\"Protein domains locations\"]=b[0][0]"
   ]
  },
  {
   "cell_type": "code",
   "execution_count": 41,
   "metadata": {},
   "outputs": [
    {
     "data": {
      "text/plain": [
       "[10, 106, 116, 210, 217, 304]"
      ]
     },
     "execution_count": 41,
     "metadata": {},
     "output_type": "execute_result"
    }
   ],
   "source": [
    "np.concatenate(b,axis=0).tolist()"
   ]
  },
  {
   "cell_type": "code",
   "execution_count": null,
   "metadata": {},
   "outputs": [
    {
     "data": {
      "text/plain": [
       "'AAC1'"
      ]
     },
     "execution_count": 60,
     "metadata": {},
     "output_type": "execute_result"
    }
   ],
   "source": [
    "df.loc[tmp,\"Gene name\"]"
   ]
  },
  {
   "cell_type": "code",
   "execution_count": null,
   "metadata": {},
   "outputs": [],
   "source": []
  }
 ],
 "metadata": {
  "interpreter": {
   "hash": "4e417b9778b47a28d8b1724066397982bdf41da0689af0bd29246ac5809779c3"
  },
  "kernelspec": {
   "display_name": "Python 3.9.7 64-bit ('transposonmapper': conda)",
   "language": "python",
   "name": "python3"
  },
  "language_info": {
   "codemirror_mode": {
    "name": "ipython",
    "version": 3
   },
   "file_extension": ".py",
   "mimetype": "text/x-python",
   "name": "python",
   "nbconvert_exporter": "python",
   "pygments_lexer": "ipython3",
   "version": "3.9.7"
  },
  "orig_nbformat": 4
 },
 "nbformat": 4,
 "nbformat_minor": 2
}
