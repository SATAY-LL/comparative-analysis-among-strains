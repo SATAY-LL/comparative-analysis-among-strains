{
 "cells": [
  {
   "cell_type": "code",
   "execution_count": null,
   "metadata": {},
   "outputs": [],
   "source": [
    "import pandas as pd\n",
    "import numpy as np\n",
    "import matplotlib.pyplot as plt\n",
    "import seaborn as sns\n",
    "import os,sys\n",
    "from collections import defaultdict"
   ]
  },
  {
   "cell_type": "code",
   "execution_count": null,
   "metadata": {},
   "outputs": [],
   "source": [
    "data_all=pd.read_excel('../postprocessed-data/postprocessed_data_all_backgrounds.xlsx',engine=\"openpyxl\")"
   ]
  },
  {
   "cell_type": "code",
   "execution_count": null,
   "metadata": {},
   "outputs": [],
   "source": [
    "## Refine data \n",
    "data_all.index=np.arange(0,len(data_all))\n",
    "data_all.drop(columns=['Unnamed: 1'],inplace=True)\n",
    "data_all.fillna(0,inplace=True)\n",
    "data_all.rename(columns={'Unnamed: 0':'background'},inplace=True)\n",
    "\n",
    "keys=['dbem3_b',\n",
    " 'dnrp1_b',\n",
    " 'bem1-aid_a',\n",
    " 'dnrp1_a',\n",
    " 'dbem1dbem3_b',\n",
    " 'wt_merged',\n",
    " 'dbem1dbem3_a',\n",
    " 'bem1-aid-dbem3_a',\n",
    " 'bem1-aid-dbem3_b',\n",
    " 'wt_b',\n",
    " 'wt_a',\n",
    " 'dnrp1_merged',\n",
    " 'bem1-aid_b',\n",
    " 'dbem3_merged',\n",
    " 'dbem3_a']"
   ]
  },
  {
   "cell_type": "code",
   "execution_count": null,
   "metadata": {},
   "outputs": [],
   "source": [
    "indexes_back=[] # indexes for the start of each background\n",
    "\n",
    "for i in keys:\n",
    "    indexes_back.append(np.where(data_all.loc[:,\"background\"]==i)[0])\n",
    "\n",
    "# Filling the name of the background according to the index\n",
    "for k in np.arange(0,len(indexes_back)-1):\n",
    "    \n",
    "    data_all.loc[np.arange(indexes_back[k][0],indexes_back[k+1][0]),\"background\"]=keys[k]\n",
    "\n",
    "data_all.loc[np.arange(indexes_back[-1][0],len(data_all)),\"background\"]=keys[-1] # for the last key"
   ]
  },
  {
   "cell_type": "code",
   "execution_count": null,
   "metadata": {},
   "outputs": [],
   "source": [
    "# Compute average transposon density per background \n",
    "data_all_processed=data_all.copy()\n",
    "for key in keys:\n",
    "    sum_tr=data_all_processed[data_all_processed.loc[:,\"background\"]==key][\"Ninsertions\"].sum()\n",
    "    genome=data_all_processed[data_all_processed.loc[:,\"background\"]==key][\"Nbasepairs\"].sum()\n",
    "    data_all_processed.loc[data_all_processed.loc[:,\"background\"]==key,\"transposon_density\"]=sum_tr/genome"
   ]
  },
  {
   "cell_type": "code",
   "execution_count": null,
   "metadata": {},
   "outputs": [],
   "source": [
    "data_all_processed.index=data_all_processed.loc[:,\"Standard_name\"]\n",
    "data_subset_processed=data_all_processed.copy()\n",
    "data_subset_processed=data_subset_processed[data_subset_processed.loc[:,\"Feature_type\"]!=1]# remove unknown feature type\n"
   ]
  },
  {
   "cell_type": "code",
   "execution_count": null,
   "metadata": {},
   "outputs": [],
   "source": [
    "# Convert all positions to float\n",
    "from positions_float_dataframe import positions_float_dataframe\n",
    "positions_float_pd=positions_float_dataframe(data_subset_processed,keys=keys)\n",
    "\n",
    "positions_float_pd.to_csv(\"../postprocessed-data/genetic_positions_float_pd_all_backgrounds.csv\",index=True)        \n",
    "        "
   ]
  }
 ],
 "metadata": {
  "language_info": {
   "name": "python"
  },
  "orig_nbformat": 4
 },
 "nbformat": 4,
 "nbformat_minor": 2
}
