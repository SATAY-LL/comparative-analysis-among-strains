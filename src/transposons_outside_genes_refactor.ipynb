{
 "cells": [
  {
   "cell_type": "code",
   "execution_count": 2,
   "metadata": {},
   "outputs": [],
   "source": [
    "import pandas as pd\n",
    "import numpy as np\n",
    "import matplotlib.pyplot as plt\n",
    "import seaborn as sns\n",
    "import os,sys\n",
    "from collections import defaultdict\n",
    "\n",
    "from functions_transposons_outside_genes import get_genes_names\n",
    "from functions_transposons_outside_genes import defining_threshold_given_tr_density\n",
    "from functions_transposons_outside_genes import get_discarded_genes_by_duplication\n",
    "from functions_transposons_outside_genes import get_amenable_genes_coverage_neighborhood\n",
    "from functions_transposons_outside_genes import local_discrimination_genes_by_neighbors_coverage"
   ]
  },
  {
   "cell_type": "code",
   "execution_count": 3,
   "metadata": {},
   "outputs": [],
   "source": [
    "data_all=pd.read_excel('../postprocessed-data/postprocessed_data_all_backgrounds.xlsx',engine=\"openpyxl\")"
   ]
  },
  {
   "cell_type": "code",
   "execution_count": 4,
   "metadata": {},
   "outputs": [],
   "source": [
    "\n",
    "keys=['dbem3_b',\n",
    " 'dnrp1_b',\n",
    " 'bem1-aid_a',\n",
    " 'dnrp1_a',\n",
    " 'dbem1dbem3_b',\n",
    " 'wt_merged',\n",
    " 'dbem1dbem3_a',\n",
    " 'bem1-aid-dbem3_a',\n",
    " 'bem1-aid-dbem3_b',\n",
    " 'wt_b',\n",
    " 'wt_a',\n",
    " 'dnrp1_merged',\n",
    " 'bem1-aid_b',\n",
    " 'dbem3_merged',\n",
    " 'dbem3_a']"
   ]
  },
  {
   "cell_type": "code",
   "execution_count": 5,
   "metadata": {},
   "outputs": [],
   "source": [
    "from ast import literal_eval\n",
    "positions_float_pd=pd.read_csv(\"../postprocessed-data/genetic_positions_float_pd_all_backgrounds.csv\",converters={'Positions_float': literal_eval,'Ninsertions': literal_eval})\n",
    "positions_float_pd.rename(columns={'Unnamed: 0':'Gene name', \"Unnamed: 1\": \"background\"},inplace=True)"
   ]
  },
  {
   "cell_type": "code",
   "execution_count": 6,
   "metadata": {},
   "outputs": [],
   "source": [
    "data_all_modified,genes_names=get_genes_names(data_raw=data_all,keys=keys)"
   ]
  },
  {
   "cell_type": "code",
   "execution_count": 7,
   "metadata": {},
   "outputs": [],
   "source": [
    "\n",
    "## getting genes that are duplicated in the genome \n",
    "discarded_genes_by_duplication=get_discarded_genes_by_duplication(positions_float_pd,genes_names=genes_names)\n",
    "\n"
   ]
  },
  {
   "cell_type": "code",
   "execution_count": 8,
   "metadata": {},
   "outputs": [],
   "source": [
    "## Getting amenable genes for analysis of local neighborhood\n",
    "\n",
    "# Independent variables \n",
    "\n",
    "windows_size=10000\n",
    "targets,genes_not_discarded_by_location=get_amenable_genes_coverage_neighborhood(positions_float_pd,genes_names=genes_names,discarded_genes_by_duplication=discarded_genes_by_duplication,windows_size=windows_size)\n"
   ]
  },
  {
   "cell_type": "code",
   "execution_count": 17,
   "metadata": {},
   "outputs": [
    {
     "data": {
      "text/plain": [
       "array(['COX26', 'CUB1', 'ERG29', 'KCH1', 'MCY1', 'MPO1', 'NVJ2', 'PXP1',\n",
       "       'PXP2'], dtype=object)"
      ]
     },
     "execution_count": 17,
     "metadata": {},
     "output_type": "execute_result"
    }
   ],
   "source": [
    "genes_not_discarded_by_location"
   ]
  },
  {
   "cell_type": "code",
   "execution_count": 25,
   "metadata": {},
   "outputs": [],
   "source": [
    "background=\"wt_merged\"\n",
    "## defining the Threshold for each background\n",
    "threshold,density=defining_threshold_given_tr_density(data_all_modified,windows_size=windows_size,background=background)\n",
    "## Discriminating genes by local neighborhood coverage\n",
    "n=0\n",
    "k=10\n",
    "a,b,c,d=local_discrimination_genes_by_neighbors_coverage(positions_float_pd,background=background,gene_of_interest=\"BEM1\",windows_size=windows_size,threshold=k*threshold)\n"
   ]
  },
  {
   "cell_type": "code",
   "execution_count": 21,
   "metadata": {},
   "outputs": [
    {
     "data": {
      "text/plain": [
       "([], [], 21322, 194613, 4140.0, 0.04142334392876978)"
      ]
     },
     "execution_count": 21,
     "metadata": {},
     "output_type": "execute_result"
    }
   ],
   "source": [
    "a,b,c,d,k*threshold,density"
   ]
  },
  {
   "cell_type": "code",
   "execution_count": 26,
   "metadata": {},
   "outputs": [],
   "source": [
    "## Big loop to get the local neighborhood coverage for each background \n",
    "background=\"wt_merged\"\n",
    "k=10 # Amplified factor for the threshold\n",
    "for amenable_genes in targets:\n",
    "    genes_out=[]\n",
    "    a,b,c,d=local_discrimination_genes_by_neighbors_coverage(positions_float_pd,background=background,gene_of_interest=amenable_genes,windows_size=windows_size,threshold=k*threshold)\n",
    "    if a!=[]:\n",
    "        genes_out.append(a)\n",
    "    if b!=[]:\n",
    "        genes_out.append(b)"
   ]
  },
  {
   "cell_type": "code",
   "execution_count": null,
   "metadata": {},
   "outputs": [],
   "source": []
  }
 ],
 "metadata": {
  "interpreter": {
   "hash": "4e417b9778b47a28d8b1724066397982bdf41da0689af0bd29246ac5809779c3"
  },
  "kernelspec": {
   "display_name": "Python 3.9.7 64-bit ('transposonmapper': conda)",
   "language": "python",
   "name": "python3"
  },
  "language_info": {
   "codemirror_mode": {
    "name": "ipython",
    "version": 3
   },
   "file_extension": ".py",
   "mimetype": "text/x-python",
   "name": "python",
   "nbconvert_exporter": "python",
   "pygments_lexer": "ipython3",
   "version": "3.9.7"
  },
  "orig_nbformat": 4
 },
 "nbformat": 4,
 "nbformat_minor": 2
}
