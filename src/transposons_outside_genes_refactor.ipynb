{
 "cells": [
  {
   "cell_type": "code",
   "execution_count": 1,
   "metadata": {},
   "outputs": [],
   "source": [
    "import pandas as pd\n",
    "import numpy as np\n",
    "import matplotlib.pyplot as plt\n",
    "import seaborn as sns\n",
    "import os,sys\n",
    "from collections import defaultdict\n",
    "\n",
    "from functions_transposons_outside_genes import get_genes_names\n",
    "from functions_transposons_outside_genes import defining_threshold_given_tr_density\n",
    "from functions_transposons_outside_genes import get_discarded_genes_by_duplication\n",
    "from functions_transposons_outside_genes import get_amenable_genes_coverage_neighborhood\n",
    "from functions_transposons_outside_genes import local_discrimination_genes_by_neighbors_coverage"
   ]
  },
  {
   "cell_type": "code",
   "execution_count": 2,
   "metadata": {},
   "outputs": [],
   "source": [
    "data_all=pd.read_excel('../postprocessed-data/postprocessed_data_all_backgrounds.xlsx',engine=\"openpyxl\")"
   ]
  },
  {
   "cell_type": "code",
   "execution_count": 3,
   "metadata": {},
   "outputs": [],
   "source": [
    "\n",
    "keys=['dbem3_b',\n",
    " 'dnrp1_b',\n",
    " 'bem1-aid_a',\n",
    " 'dnrp1_a',\n",
    " 'dbem1dbem3_b',\n",
    " 'wt_merged',\n",
    " 'dbem1dbem3_a',\n",
    " 'bem1-aid-dbem3_a',\n",
    " 'bem1-aid-dbem3_b',\n",
    " 'wt_b',\n",
    " 'wt_a',\n",
    " 'dnrp1_merged',\n",
    " 'bem1-aid_b',\n",
    " 'dbem3_merged',\n",
    " 'dbem3_a']"
   ]
  },
  {
   "cell_type": "code",
   "execution_count": 4,
   "metadata": {},
   "outputs": [],
   "source": [
    "from ast import literal_eval\n",
    "positions_float_pd=pd.read_csv(\"../postprocessed-data/genetic_positions_float_pd_all_backgrounds.csv\",converters={'Positions_float': literal_eval,'Ninsertions': literal_eval})\n",
    "positions_float_pd.rename(columns={'Unnamed: 0':'Gene name', \"Unnamed: 1\": \"background\"},inplace=True)"
   ]
  },
  {
   "cell_type": "code",
   "execution_count": 5,
   "metadata": {},
   "outputs": [],
   "source": [
    "data_all_modified,genes_names=get_genes_names(data_raw=data_all,keys=keys)"
   ]
  },
  {
   "cell_type": "code",
   "execution_count": 8,
   "metadata": {},
   "outputs": [],
   "source": [
    "\n",
    "# ## getting genes that are duplicated in the genome \n",
    "\n",
    "\n",
    "# discarded_genes_by_duplication=get_discarded_genes_by_duplication(positions_float_pd,genes_names=genes_names)\n",
    "\n",
    "# np.savetxt(\"../postprocessed-data/discarded_genes_by_duplication.txt\",discarded_genes_by_duplication,fmt=\"%s\")\n"
   ]
  },
  {
   "cell_type": "code",
   "execution_count": 6,
   "metadata": {},
   "outputs": [],
   "source": [
    "discarded_genes_by_duplication=np.loadtxt(\"../postprocessed-data/discarded_genes_by_duplication.txt\",dtype=str)"
   ]
  },
  {
   "cell_type": "code",
   "execution_count": 53,
   "metadata": {},
   "outputs": [
    {
     "data": {
      "text/plain": [
       "array(['ECM1', 'MYO4', 'SSA1', 'RPL30', 'RPL19A', 'PRE8', 'PRE7',\n",
       "       'RPL19B', 'ELP6', 'ETR1', 'RPS11B', 'MMS4', 'SGS1', 'GGC1', 'REI1',\n",
       "       'MMS1', 'MDL2', 'FZF1', 'ACF2', 'FYV5', 'NCP1', 'PAD1', 'KCC4',\n",
       "       'PCI8', 'GNA1', 'BUL1', 'SBP1', 'COP1', 'POL3', 'OAC1', 'RPL31A',\n",
       "       'DYN2', 'HED1', 'ATG31', 'RPS11A', 'BCY1', 'BAP3', 'HEM12', 'CPR2',\n",
       "       'ASF1', 'CUP1-1', 'KAR2', 'ABF2', 'CDC40', 'RPL12B', 'PSO2',\n",
       "       'HXT13', 'RPL12A', 'DEF1', 'MOT2', 'ALD2', 'RPS22A', 'RPS21B',\n",
       "       'ECM32', 'RAD53', 'CDC14', 'RPS21A', 'MPT5', 'GPI13', 'RPL7A',\n",
       "       'IMO32', 'RPL26B', 'RPL11B', 'RPS23A', 'PRE9', 'TRX1', 'AMA1',\n",
       "       'AIF1', 'ARN2', 'MAS2', 'IFH1', 'KIC1', 'ARL3', 'RPS4B', 'RPL11A',\n",
       "       'RPS22B', 'RPL31B', 'PDR5', 'HXT14', 'RPL17B', 'IME2', 'ALY2',\n",
       "       'RPS4A', 'PRE10', 'RPL17A', 'KDX1', 'MCK1', 'PUB1', 'GAL2', 'SIL1',\n",
       "       'STM1', 'ELP4', 'RPS23B', 'TAD3', 'MMS22', 'RPL26A', 'ALD3',\n",
       "       'DSK2', 'RAP1', 'noncoding', 'RCL1', 'VPS5'], dtype='<U9')"
      ]
     },
     "execution_count": 53,
     "metadata": {},
     "output_type": "execute_result"
    }
   ],
   "source": [
    "discarded_genes_by_duplication"
   ]
  },
  {
   "cell_type": "code",
   "execution_count": 7,
   "metadata": {},
   "outputs": [],
   "source": [
    "## Getting amenable genes for analysis of local neighborhood\n",
    "\n",
    "# Independent variables \n",
    "\n",
    "windows_size=10000\n",
    "targets,genes_not_discarded_by_location=get_amenable_genes_coverage_neighborhood(positions_float_pd,genes_names=genes_names,discarded_genes_by_duplication=discarded_genes_by_duplication,windows_size=windows_size)\n"
   ]
  },
  {
   "cell_type": "code",
   "execution_count": null,
   "metadata": {},
   "outputs": [
    {
     "data": {
      "text/plain": [
       "array(['COX26', 'CUB1', 'ERG29', 'KCH1', 'MCY1', 'MPO1', 'NVJ2', 'PXP1',\n",
       "       'PXP2'], dtype=object)"
      ]
     },
     "execution_count": 17,
     "metadata": {},
     "output_type": "execute_result"
    }
   ],
   "source": [
    "genes_not_discarded_by_location"
   ]
  },
  {
   "cell_type": "code",
   "execution_count": null,
   "metadata": {},
   "outputs": [],
   "source": [
    "\n",
    "## example playground one gene\n",
    "background=\"wt_merged\"\n",
    "## defining the Threshold for each background\n",
    "threshold,density=defining_threshold_given_tr_density(data_all_modified,windows_size=windows_size,background=background)\n",
    "## Discriminating genes by local neighborhood coverage\n",
    "n=0\n",
    "k=10\n",
    "a,b,c,d=local_discrimination_genes_by_neighbors_coverage(positions_float_pd,background=background,gene_of_interest=\"BEM1\",windows_size=windows_size,threshold=k*threshold)\n"
   ]
  },
  {
   "cell_type": "code",
   "execution_count": null,
   "metadata": {},
   "outputs": [
    {
     "data": {
      "text/plain": [
       "([], [], 21322, 194613, 4140.0, 0.04142334392876978)"
      ]
     },
     "execution_count": 21,
     "metadata": {},
     "output_type": "execute_result"
    }
   ],
   "source": [
    "a,b,c,d,k*threshold,density"
   ]
  },
  {
   "cell_type": "code",
   "execution_count": 7,
   "metadata": {},
   "outputs": [],
   "source": [
    "## Big loop to get the local neighborhood coverage for each background \n",
    "background=\"wt_merged\"\n",
    "k=1 # Amplified factor for the threshold\n",
    "windows_size=3000 # bp\n",
    "genes_out=[]\n",
    "tmp_c=[]\n",
    "tmp_d=[]\n",
    "genes_out_by_neighborhood=defaultdict(dict)\n",
    "\n",
    "threshold,density=defining_threshold_given_tr_density(data_all_modified,windows_size=windows_size,background=background)\n",
    "\n",
    "targets,genes_not_discarded_by_location=get_amenable_genes_coverage_neighborhood(positions_float_pd,genes_names=genes_names,discarded_genes_by_duplication=discarded_genes_by_duplication,windows_size=windows_size)\n",
    "\n",
    "for amenable_genes in targets:\n",
    "    \n",
    "    a,b,c,d=local_discrimination_genes_by_neighbors_coverage(positions_float_pd,background=background,gene_of_interest=amenable_genes,windows_size=windows_size,threshold=k*threshold)\n",
    "    if any((a!=[],b!=[])):\n",
    "        \n",
    "        tmp_c.append(c)\n",
    "        tmp_d.append(d)\n",
    "    if a!=[]:\n",
    "        genes_out.append(a)\n",
    "    elif b!=[]:\n",
    "        genes_out.append(b)\n",
    "\n",
    "\n",
    "genes_out_by_neighborhood[\"discarded_genes_neighborhood\"][background]=np.unique(genes_out)\n",
    "genes_out_by_neighborhood[\"sum upstream insertions\"][background]=tmp_c\n",
    "genes_out_by_neighborhood[\"sum downstream insertions\"][background]=tmp_d\n",
    "genes_out_by_neighborhood[\"threshold coverage\"][background]=k*threshold    "
   ]
  },
  {
   "cell_type": "code",
   "execution_count": 9,
   "metadata": {},
   "outputs": [
    {
     "data": {
      "text/html": [
       "<div>\n",
       "<style scoped>\n",
       "    .dataframe tbody tr th:only-of-type {\n",
       "        vertical-align: middle;\n",
       "    }\n",
       "\n",
       "    .dataframe tbody tr th {\n",
       "        vertical-align: top;\n",
       "    }\n",
       "\n",
       "    .dataframe thead th {\n",
       "        text-align: right;\n",
       "    }\n",
       "</style>\n",
       "<table border=\"1\" class=\"dataframe\">\n",
       "  <thead>\n",
       "    <tr style=\"text-align: right;\">\n",
       "      <th></th>\n",
       "      <th>discarded_genes_neighborhood</th>\n",
       "      <th>sum upstream insertions</th>\n",
       "      <th>sum downstream insertions</th>\n",
       "      <th>threshold coverage</th>\n",
       "    </tr>\n",
       "  </thead>\n",
       "  <tbody>\n",
       "    <tr>\n",
       "      <th>wt_merged</th>\n",
       "      <td>[AAD15, ACM1, AEP3, AFT2, AGC1, AIM44, AIM45, ...</td>\n",
       "      <td>[0.0, 15101, 192637, 67894, 207582, 100677, 19...</td>\n",
       "      <td>[13, 16, 58, 44, 0.0, 85, 84, 46, 0.0, 31, 31,...</td>\n",
       "      <td>124.0</td>\n",
       "    </tr>\n",
       "  </tbody>\n",
       "</table>\n",
       "</div>"
      ],
      "text/plain": [
       "                                discarded_genes_neighborhood  \\\n",
       "wt_merged  [AAD15, ACM1, AEP3, AFT2, AGC1, AIM44, AIM45, ...   \n",
       "\n",
       "                                     sum upstream insertions  \\\n",
       "wt_merged  [0.0, 15101, 192637, 67894, 207582, 100677, 19...   \n",
       "\n",
       "                                   sum downstream insertions  \\\n",
       "wt_merged  [13, 16, 58, 44, 0.0, 85, 84, 46, 0.0, 31, 31,...   \n",
       "\n",
       "           threshold coverage  \n",
       "wt_merged               124.0  "
      ]
     },
     "execution_count": 9,
     "metadata": {},
     "output_type": "execute_result"
    }
   ],
   "source": [
    "genes_out_by_neighborhood_pd=pd.DataFrame.from_dict(genes_out_by_neighborhood)\n",
    "\n",
    "genes_out_by_neighborhood_pd"
   ]
  },
  {
   "cell_type": "code",
   "execution_count": 62,
   "metadata": {},
   "outputs": [
    {
     "name": "stdout",
     "output_type": "stream",
     "text": [
      "There are 382 out of 4768 genes discarded in WT_merged for essentiality scores due to its low coverage in its neighborhood\n"
     ]
    }
   ],
   "source": [
    "print(\"There are\",len(genes_out_by_neighborhood_pd[\"discarded_genes_neighborhood\"][0].tolist()),\n",
    "\"out of\",len(targets),\n",
    "\"genes discarded in WT_merged for essentiality scores due to its low coverage in its neighborhood.\")"
   ]
  },
  {
   "cell_type": "code",
   "execution_count": 52,
   "metadata": {},
   "outputs": [],
   "source": [
    "genes_out_by_neighborhood_pd.to_excel(\"../postprocessed-data/genes_out_by_neighborhood.xlsx\",index=True)"
   ]
  },
  {
   "cell_type": "code",
   "execution_count": 48,
   "metadata": {},
   "outputs": [
    {
     "data": {
      "text/plain": [
       "<matplotlib.legend.Legend at 0x7f0136de6070>"
      ]
     },
     "execution_count": 48,
     "metadata": {},
     "output_type": "execute_result"
    },
    {
     "data": {
      "image/png": "[encoded data removed]",
      "text/plain": [
       "<Figure size 720x360 with 2 Axes>"
      ]
     },
     "metadata": {
      "needs_background": "light"
     },
     "output_type": "display_data"
    }
   ],
   "source": [
    "fig, ax = plt.subplots(nrows=1, ncols=2, figsize=(10, 5))\n",
    "ax[0].hist(genes_out_by_neighborhood_pd.loc[\"wt_merged\",\"sum upstream insertions\"], bins=50, alpha=0.5, label='upstream genes',color=\"green\"),\n",
    "ax[1].hist(genes_out_by_neighborhood_pd.loc[\"wt_merged\",\"sum downstream insertions\"], bins=400, alpha=0.5, label='downstream genes',color='purple')\n",
    "# plt.legend(loc='upper right')\n",
    "ax[1].set_xlim([0,1000])\n",
    "ax[0].set_xlabel('Sum of upstream insertions per gene discarded')\n",
    "ax[1].set_xlabel('Sum of downstream insertions per gene discarded')\n",
    "\n",
    "ax[1].vlines(x=k*threshold, ymin=0, ymax=140, linestyles='dashed', colors='r', label='Threshold')\n",
    "ax[0].vlines(x=k*threshold, ymin=0, ymax=140, linestyles='dashed', colors='r', label='Threshold')\n",
    "\n",
    "ax[1].legend(loc='upper right')\n",
    "ax[0].legend(loc='upper right')"
   ]
  },
  {
   "cell_type": "code",
   "execution_count": 50,
   "metadata": {},
   "outputs": [],
   "source": [
    "fig.savefig(\"../figures/fig_histogram_upstream_downstream_insertions_per_gene_discarded_by_neighborhood.png\",dpi=300)"
   ]
  },
  {
   "cell_type": "code",
   "execution_count": 63,
   "metadata": {},
   "outputs": [],
   "source": [
    "keys= ['bem1-aid_a','dbem1dbem3_b','wt_merged','dbem1dbem3_a', \n",
    "'dnrp1_merged','bem1-aid_b','dbem3_merged',]"
   ]
  },
  {
   "cell_type": "code",
   "execution_count": 64,
   "metadata": {},
   "outputs": [],
   "source": [
    "### Run for a night\n",
    "k=1 # Amplified factor for the threshold\n",
    "windows_size=3000 #bp\n",
    "genes_out_by_neighborhood=defaultdict(dict)\n",
    "\n",
    "for background in keys:\n",
    "    tmp_a=[]\n",
    "    tmp_b=[]\n",
    "    tmp_c=[]\n",
    "    tmp_d=[]\n",
    "\n",
    "    threshold,density=defining_threshold_given_tr_density(data_all_modified,windows_size=windows_size,background=background)\n",
    "    targets,genes_not_discarded_by_location=get_amenable_genes_coverage_neighborhood(positions_float_pd,genes_names=genes_names,discarded_genes_by_duplication=discarded_genes_by_duplication,windows_size=windows_size)\n",
    "\n",
    "    for amenable_genes in targets:\n",
    "       \n",
    "        a,b,c,d=local_discrimination_genes_by_neighbors_coverage(positions_float_pd,background=background,gene_of_interest=amenable_genes,windows_size=windows_size,threshold=k*threshold)\n",
    "        if a!=[]:\n",
    "            tmp_a.append(a)\n",
    "\n",
    "            \n",
    "        if b!=[]:\n",
    "            tmp_b.append(b)\n",
    "\n",
    "        if any((a!=[],b!=[])):\n",
    "\n",
    "            tmp_c.append(c)\n",
    "            tmp_d.append(d)\n",
    "\n",
    "    genes_out_by_neighborhood[\"discarded_genes_neighborhood\"][background]=np.unique([tmp_a,tmp_b])\n",
    "    genes_out_by_neighborhood[\"sum upstream insertions\"][background]=tmp_c\n",
    "    genes_out_by_neighborhood[\"sum downstream insertions\"][background]=tmp_d\n",
    "    genes_out_by_neighborhood[\"threshold coverage\"][background]=k*threshold\n"
   ]
  },
  {
   "cell_type": "code",
   "execution_count": null,
   "metadata": {},
   "outputs": [],
   "source": []
  }
 ],
 "metadata": {
  "interpreter": {
   "hash": "4e417b9778b47a28d8b1724066397982bdf41da0689af0bd29246ac5809779c3"
  },
  "kernelspec": {
   "display_name": "Python 3.9.7 64-bit ('transposonmapper': conda)",
   "language": "python",
   "name": "python3"
  },
  "language_info": {
   "codemirror_mode": {
    "name": "ipython",
    "version": 3
   },
   "file_extension": ".py",
   "mimetype": "text/x-python",
   "name": "python",
   "nbconvert_exporter": "python",
   "pygments_lexer": "ipython3",
   "version": "3.9.7"
  },
  "orig_nbformat": 4
 },
 "nbformat": 4,
 "nbformat_minor": 2
}
