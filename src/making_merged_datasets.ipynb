{
 "cells": [
  {
   "cell_type": "code",
   "execution_count": 25,
   "metadata": {},
   "outputs": [],
   "source": [
    "import os, sys\n",
    "import warnings\n",
    "import timeit\n",
    "import numpy as np\n",
    "import matplotlib.pyplot as plt\n",
    "import re\n",
    "import pandas as pd\n",
    "\n",
    "from collections import defaultdict"
   ]
  },
  {
   "cell_type": "code",
   "execution_count": 74,
   "metadata": {},
   "outputs": [],
   "source": [
    "data_a=pd.read_excel('../postprocessed-data/dbem3_a_pergene_insertions.xlsx',engine='openpyxl')\n",
    "data_a=data_a.drop(['Unnamed: 0'],axis=1)\n",
    "\n",
    "data_b=pd.read_excel('../postprocessed-data/dbem3_b_pergene_insertions.xlsx',engine='openpyxl')\n",
    "data_b=data_b.drop(['Unnamed: 0'],axis=1)\n",
    "# data.fillna(1,inplace=True)\n",
    "data_merged=pd.read_excel('../postprocessed-data/dbem3_merged_pergene_insertions.xlsx',engine='openpyxl')\n",
    "data_merged=data_merged.drop(['Unnamed: 0'],axis=1)"
   ]
  },
  {
   "cell_type": "code",
   "execution_count": 75,
   "metadata": {},
   "outputs": [
    {
     "data": {
      "text/html": [
       "<div>\n",
       "<style scoped>\n",
       "    .dataframe tbody tr th:only-of-type {\n",
       "        vertical-align: middle;\n",
       "    }\n",
       "\n",
       "    .dataframe tbody tr th {\n",
       "        vertical-align: top;\n",
       "    }\n",
       "\n",
       "    .dataframe thead th {\n",
       "        text-align: right;\n",
       "    }\n",
       "</style>\n",
       "<table border=\"1\" class=\"dataframe\">\n",
       "  <thead>\n",
       "    <tr style=\"text-align: right;\">\n",
       "      <th></th>\n",
       "      <th>Gene name</th>\n",
       "      <th>Chromosome</th>\n",
       "      <th>Start location</th>\n",
       "      <th>End location</th>\n",
       "      <th>Insertion locations</th>\n",
       "      <th>Reads per insertion location</th>\n",
       "      <th>Reads</th>\n",
       "      <th>Insertions</th>\n",
       "    </tr>\n",
       "  </thead>\n",
       "  <tbody>\n",
       "    <tr>\n",
       "      <th>0</th>\n",
       "      <td>YAL069W</td>\n",
       "      <td>I</td>\n",
       "      <td>335</td>\n",
       "      <td>649</td>\n",
       "      <td>[337, 337, 341, 344, 350, 352, 368, 370, 387, ...</td>\n",
       "      <td>[2, 93, 12, 57, 25, 1, 4, 2, 120, 16, 1, 12, 1...</td>\n",
       "      <td>884</td>\n",
       "      <td>40</td>\n",
       "    </tr>\n",
       "    <tr>\n",
       "      <th>1</th>\n",
       "      <td>YAL068W-A</td>\n",
       "      <td>I</td>\n",
       "      <td>538</td>\n",
       "      <td>792</td>\n",
       "      <td>[567, 571, 572, 578, 579, 589, 595, 687, 691, ...</td>\n",
       "      <td>[71, 5, 1, 1, 140, 8, 31, 137, 214, 19, 3, 1, ...</td>\n",
       "      <td>428</td>\n",
       "      <td>18</td>\n",
       "    </tr>\n",
       "  </tbody>\n",
       "</table>\n",
       "</div>"
      ],
      "text/plain": [
       "   Gene name Chromosome  Start location  End location  \\\n",
       "0    YAL069W          I             335           649   \n",
       "1  YAL068W-A          I             538           792   \n",
       "\n",
       "                                 Insertion locations  \\\n",
       "0  [337, 337, 341, 344, 350, 352, 368, 370, 387, ...   \n",
       "1  [567, 571, 572, 578, 579, 589, 595, 687, 691, ...   \n",
       "\n",
       "                        Reads per insertion location  Reads  Insertions  \n",
       "0  [2, 93, 12, 57, 25, 1, 4, 2, 120, 16, 1, 12, 1...    884          40  \n",
       "1  [71, 5, 1, 1, 140, 8, 31, 137, 214, 19, 3, 1, ...    428          18  "
      ]
     },
     "execution_count": 75,
     "metadata": {},
     "output_type": "execute_result"
    }
   ],
   "source": [
    "data_a.head(2)"
   ]
  },
  {
   "cell_type": "code",
   "execution_count": 22,
   "metadata": {},
   "outputs": [
    {
     "data": {
      "text/html": [
       "<div>\n",
       "<style scoped>\n",
       "    .dataframe tbody tr th:only-of-type {\n",
       "        vertical-align: middle;\n",
       "    }\n",
       "\n",
       "    .dataframe tbody tr th {\n",
       "        vertical-align: top;\n",
       "    }\n",
       "\n",
       "    .dataframe thead th {\n",
       "        text-align: right;\n",
       "    }\n",
       "</style>\n",
       "<table border=\"1\" class=\"dataframe\">\n",
       "  <thead>\n",
       "    <tr style=\"text-align: right;\">\n",
       "      <th></th>\n",
       "      <th>Gene name</th>\n",
       "      <th>Chromosome</th>\n",
       "      <th>Start location</th>\n",
       "      <th>End location</th>\n",
       "      <th>Insertion locations</th>\n",
       "      <th>Reads per insertion location</th>\n",
       "      <th>Reads</th>\n",
       "      <th>Insertions</th>\n",
       "    </tr>\n",
       "  </thead>\n",
       "  <tbody>\n",
       "    <tr>\n",
       "      <th>0</th>\n",
       "      <td>YAL069W</td>\n",
       "      <td>I</td>\n",
       "      <td>335</td>\n",
       "      <td>649</td>\n",
       "      <td>[336, 340, 349, 372, 377, 382, 386, 386, 387, ...</td>\n",
       "      <td>[3, 327, 87, 1, 3, 12, 39, 1, 43, 6, 3, 45, 1,...</td>\n",
       "      <td>2353</td>\n",
       "      <td>55</td>\n",
       "    </tr>\n",
       "    <tr>\n",
       "      <th>1</th>\n",
       "      <td>YAL068W-A</td>\n",
       "      <td>I</td>\n",
       "      <td>538</td>\n",
       "      <td>792</td>\n",
       "      <td>[559, 561, 564, 565, 569, 570, 570, 571, 573, ...</td>\n",
       "      <td>[6, 1, 2, 2, 147, 9, 154, 17, 177, 1, 132, 5, ...</td>\n",
       "      <td>694</td>\n",
       "      <td>25</td>\n",
       "    </tr>\n",
       "  </tbody>\n",
       "</table>\n",
       "</div>"
      ],
      "text/plain": [
       "   Gene name Chromosome  Start location  End location  \\\n",
       "0    YAL069W          I             335           649   \n",
       "1  YAL068W-A          I             538           792   \n",
       "\n",
       "                                 Insertion locations  \\\n",
       "0  [336, 340, 349, 372, 377, 382, 386, 386, 387, ...   \n",
       "1  [559, 561, 564, 565, 569, 570, 570, 571, 573, ...   \n",
       "\n",
       "                        Reads per insertion location  Reads  Insertions  \n",
       "0  [3, 327, 87, 1, 3, 12, 39, 1, 43, 6, 3, 45, 1,...   2353          55  \n",
       "1  [6, 1, 2, 2, 147, 9, 154, 17, 177, 1, 132, 5, ...    694          25  "
      ]
     },
     "execution_count": 22,
     "metadata": {},
     "output_type": "execute_result"
    }
   ],
   "source": [
    "data_b.head(2)"
   ]
  },
  {
   "cell_type": "code",
   "execution_count": 23,
   "metadata": {},
   "outputs": [
    {
     "data": {
      "text/html": [
       "<div>\n",
       "<style scoped>\n",
       "    .dataframe tbody tr th:only-of-type {\n",
       "        vertical-align: middle;\n",
       "    }\n",
       "\n",
       "    .dataframe tbody tr th {\n",
       "        vertical-align: top;\n",
       "    }\n",
       "\n",
       "    .dataframe thead th {\n",
       "        text-align: right;\n",
       "    }\n",
       "</style>\n",
       "<table border=\"1\" class=\"dataframe\">\n",
       "  <thead>\n",
       "    <tr style=\"text-align: right;\">\n",
       "      <th></th>\n",
       "      <th>Gene name</th>\n",
       "      <th>Chromosome</th>\n",
       "      <th>Start location</th>\n",
       "      <th>End location</th>\n",
       "      <th>Insertion locations</th>\n",
       "      <th>Reads per insertion location</th>\n",
       "      <th>Reads</th>\n",
       "      <th>Insertions</th>\n",
       "    </tr>\n",
       "  </thead>\n",
       "  <tbody>\n",
       "    <tr>\n",
       "      <th>0</th>\n",
       "      <td>YAL069W</td>\n",
       "      <td>I</td>\n",
       "      <td>335</td>\n",
       "      <td>649</td>\n",
       "      <td>[336, 337, 340, 344, 349, 352, 368, 371, 377, ...</td>\n",
       "      <td>[3, 2, 430, 57, 114, 1, 4, 3, 3, 12, 55, 1, 14...</td>\n",
       "      <td>3428</td>\n",
       "      <td>67</td>\n",
       "    </tr>\n",
       "    <tr>\n",
       "      <th>1</th>\n",
       "      <td>YAL068W-A</td>\n",
       "      <td>I</td>\n",
       "      <td>538</td>\n",
       "      <td>792</td>\n",
       "      <td>[559, 561, 564, 568, 570, 570, 571, 573, 576, ...</td>\n",
       "      <td>[6, 3, 2, 202, 9, 154, 22, 161, 2, 1, 296, 12,...</td>\n",
       "      <td>1207</td>\n",
       "      <td>31</td>\n",
       "    </tr>\n",
       "  </tbody>\n",
       "</table>\n",
       "</div>"
      ],
      "text/plain": [
       "   Gene name Chromosome  Start location  End location  \\\n",
       "0    YAL069W          I             335           649   \n",
       "1  YAL068W-A          I             538           792   \n",
       "\n",
       "                                 Insertion locations  \\\n",
       "0  [336, 337, 340, 344, 349, 352, 368, 371, 377, ...   \n",
       "1  [559, 561, 564, 568, 570, 570, 571, 573, 576, ...   \n",
       "\n",
       "                        Reads per insertion location  Reads  Insertions  \n",
       "0  [3, 2, 430, 57, 114, 1, 4, 3, 3, 12, 55, 1, 14...   3428          67  \n",
       "1  [6, 3, 2, 202, 9, 154, 22, 161, 2, 1, 296, 12,...   1207          31  "
      ]
     },
     "execution_count": 23,
     "metadata": {},
     "output_type": "execute_result"
    }
   ],
   "source": [
    "data_merged.head(2)"
   ]
  },
  {
   "cell_type": "code",
   "execution_count": 176,
   "metadata": {},
   "outputs": [],
   "source": [
    "import from_excel_to_list"
   ]
  },
  {
   "cell_type": "code",
   "execution_count": 131,
   "metadata": {},
   "outputs": [],
   "source": [
    "a=from_excel_to_list(data_a['Insertion locations'][0])\n",
    "b=from_excel_to_list(data_b['Insertion locations'][0])\n",
    "a_reads=from_excel_to_list(data_a['Reads per insertion location'][0])\n",
    "b_reads=from_excel_to_list(data_b['Reads per insertion location'][0])"
   ]
  },
  {
   "cell_type": "code",
   "execution_count": 132,
   "metadata": {},
   "outputs": [],
   "source": [
    "set_a=set(a)\n",
    "set_b=set(b)\n",
    "s = set_a.union(set_b)  # union of both sets\n",
    "\n",
    "# Difference in two sets\n",
    "diff_element_a = set_b - set_a\n",
    "diff_element_b = set_a - set_b\n",
    "  \n",
    "# union of difference + first list\n",
    "output = a + list(diff_element_a) + list(diff_element_b)\n",
    "\n"
   ]
  },
  {
   "cell_type": "code",
   "execution_count": 133,
   "metadata": {},
   "outputs": [],
   "source": [
    "d = defaultdict(int)\n",
    "for k in output:\n",
    "    d[k] += 1\n",
    "    "
   ]
  },
  {
   "cell_type": "code",
   "execution_count": 134,
   "metadata": {},
   "outputs": [],
   "source": [
    "merged_insertions=pd.DataFrame(d.items(), columns=['Insertion locations', 'Count'])\n",
    "merged_insertions.sort_values(by='Count', inplace=True,ascending=False)"
   ]
  },
  {
   "cell_type": "code",
   "execution_count": 109,
   "metadata": {},
   "outputs": [],
   "source": [
    "a_reads_dict=defaultdict(int)\n",
    "j=0\n",
    "for k in a:\n",
    "    reads=a_reads[j]\n",
    "    a_reads_dict[k] = reads\n",
    "    j=j+1\n",
    "\n"
   ]
  },
  {
   "cell_type": "code",
   "execution_count": 142,
   "metadata": {},
   "outputs": [],
   "source": [
    "def get_reads_with_insertions(replicate_reads_per_gene,replicate_insertions_per_gene):\n",
    "    \"\"\"Get the reads per insertion location for a given replicate\n",
    "\n",
    "    Parameters\n",
    "    ----------\n",
    "    replicate_reads_per_gene : list\n",
    "        output from from_excel_to_list function\n",
    "    \"\"\"\n",
    "    reads_dict=defaultdict(int)\n",
    "    j=0\n",
    "    for k in replicate_insertions_per_gene:\n",
    "        reads=replicate_reads_per_gene[j]\n",
    "        reads_dict[k] = reads\n",
    "        j=j+1\n",
    "    return reads_dict"
   ]
  },
  {
   "cell_type": "code",
   "execution_count": 143,
   "metadata": {},
   "outputs": [],
   "source": [
    "a_reads_dict=get_reads_with_insertions(a_reads,a)\n",
    "b_reads_dict=get_reads_with_insertions(b_reads,b)"
   ]
  },
  {
   "cell_type": "code",
   "execution_count": 144,
   "metadata": {},
   "outputs": [],
   "source": [
    "a_reads_df=pd.DataFrame(a_reads_dict.items(), columns=['Insertion locations', 'Reads per insertion location'])\n",
    "b_reads_df=pd.DataFrame(b_reads_dict.items(), columns=['Insertion locations', 'Reads per insertion location'])"
   ]
  },
  {
   "cell_type": "code",
   "execution_count": 164,
   "metadata": {},
   "outputs": [],
   "source": [
    "a_reads_merged=pd.merge(pd.merge(merged_insertions,a_reads_df,on='Insertion locations'),b_reads_df,on='Insertion locations',how='left')\n",
    "a_reads_merged.fillna(0,inplace=True)"
   ]
  },
  {
   "cell_type": "code",
   "execution_count": 175,
   "metadata": {},
   "outputs": [
    {
     "name": "stdout",
     "output_type": "stream",
     "text": [
      "2249.0\n",
      "882.0\n"
     ]
    }
   ],
   "source": [
    "print(np.sum(b_reads_df['Reads per insertion location'])-np.max(b_reads_df[\"Reads per insertion location\"]))\n",
    "print(np.sum(a_reads_df['Reads per insertion location'])-np.max(a_reads_df[\"Reads per insertion location\"]))"
   ]
  },
  {
   "cell_type": "code",
   "execution_count": 168,
   "metadata": {},
   "outputs": [
    {
     "name": "stdout",
     "output_type": "stream",
     "text": [
      "1096.0\n",
      "239.0\n"
     ]
    }
   ],
   "source": [
    "print(np.sum(a_reads_merged['Reads per insertion location_x']))\n",
    "print(np.sum(a_reads_merged['Reads per insertion location_y']))"
   ]
  },
  {
   "cell_type": "code",
   "execution_count": 156,
   "metadata": {},
   "outputs": [
    {
     "data": {
      "text/html": [
       "<div>\n",
       "<style scoped>\n",
       "    .dataframe tbody tr th:only-of-type {\n",
       "        vertical-align: middle;\n",
       "    }\n",
       "\n",
       "    .dataframe tbody tr th {\n",
       "        vertical-align: top;\n",
       "    }\n",
       "\n",
       "    .dataframe thead th {\n",
       "        text-align: right;\n",
       "    }\n",
       "</style>\n",
       "<table border=\"1\" class=\"dataframe\">\n",
       "  <thead>\n",
       "    <tr style=\"text-align: right;\">\n",
       "      <th></th>\n",
       "      <th>Insertion locations</th>\n",
       "      <th>Reads per insertion location_x</th>\n",
       "      <th>Reads per insertion location_y</th>\n",
       "    </tr>\n",
       "    <tr>\n",
       "      <th>Count</th>\n",
       "      <th></th>\n",
       "      <th></th>\n",
       "      <th></th>\n",
       "    </tr>\n",
       "  </thead>\n",
       "  <tbody>\n",
       "    <tr>\n",
       "      <th>1</th>\n",
       "      <td>6110.0</td>\n",
       "      <td>192.0</td>\n",
       "      <td>239.0</td>\n",
       "    </tr>\n",
       "    <tr>\n",
       "      <th>2</th>\n",
       "      <td>11623.0</td>\n",
       "      <td>811.0</td>\n",
       "      <td>0.0</td>\n",
       "    </tr>\n",
       "    <tr>\n",
       "      <th>3</th>\n",
       "      <td>337.0</td>\n",
       "      <td>93.0</td>\n",
       "      <td>0.0</td>\n",
       "    </tr>\n",
       "  </tbody>\n",
       "</table>\n",
       "</div>"
      ],
      "text/plain": [
       "       Insertion locations  Reads per insertion location_x  \\\n",
       "Count                                                        \n",
       "1                   6110.0                           192.0   \n",
       "2                  11623.0                           811.0   \n",
       "3                    337.0                            93.0   \n",
       "\n",
       "       Reads per insertion location_y  \n",
       "Count                                  \n",
       "1                               239.0  \n",
       "2                                 0.0  \n",
       "3                                 0.0  "
      ]
     },
     "execution_count": 156,
     "metadata": {},
     "output_type": "execute_result"
    }
   ],
   "source": [
    "group=a_reads_merged.groupby(\"Count\").sum()\n",
    "group"
   ]
  },
  {
   "cell_type": "code",
   "execution_count": 158,
   "metadata": {},
   "outputs": [
    {
     "name": "stdout",
     "output_type": "stream",
     "text": [
      "1\n",
      "2\n",
      "3\n"
     ]
    }
   ],
   "source": [
    "total=[]\n",
    "for i in group.index:\n",
    "    print(i)\n",
    "    total.append(group.loc[i]['Reads per insertion location_x']*i+group.loc[i]['Reads per insertion location_y']*i)"
   ]
  },
  {
   "cell_type": "code",
   "execution_count": 160,
   "metadata": {},
   "outputs": [
    {
     "data": {
      "text/plain": [
       "2332.0"
      ]
     },
     "execution_count": 160,
     "metadata": {},
     "output_type": "execute_result"
    }
   ],
   "source": [
    "np.sum(total)"
   ]
  },
  {
   "cell_type": "code",
   "execution_count": null,
   "metadata": {},
   "outputs": [],
   "source": []
  }
 ],
 "metadata": {
  "interpreter": {
   "hash": "4e417b9778b47a28d8b1724066397982bdf41da0689af0bd29246ac5809779c3"
  },
  "kernelspec": {
   "display_name": "Python 3.9.7 64-bit ('transposonmapper': conda)",
   "language": "python",
   "name": "python3"
  },
  "language_info": {
   "codemirror_mode": {
    "name": "ipython",
    "version": 3
   },
   "file_extension": ".py",
   "mimetype": "text/x-python",
   "name": "python",
   "nbconvert_exporter": "python",
   "pygments_lexer": "ipython3",
   "version": "3.9.7"
  },
  "orig_nbformat": 4
 },
 "nbformat": 4,
 "nbformat_minor": 2
}
