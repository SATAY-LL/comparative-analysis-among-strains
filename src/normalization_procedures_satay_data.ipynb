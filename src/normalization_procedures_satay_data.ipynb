{
 "cells": [
  {
   "cell_type": "code",
   "execution_count": null,
   "metadata": {},
   "outputs": [],
   "source": [
    "## Importing the required python libraries \n",
    "import os, sys\n",
    "import warnings\n",
    "import timeit\n",
    "import numpy as np\n",
    "import pandas as pd \n",
    "import pkg_resources\n",
    "import matplotlib.pyplot as plt\n",
    "import re\n",
    "import seaborn as sns\n",
    "from collections import defaultdict\n"
   ]
  },
  {
   "cell_type": "code",
   "execution_count": null,
   "metadata": {},
   "outputs": [],
   "source": [
    "## Importing pergene files \n",
    "\n",
    "pergene_files=[]\n",
    "#data_dir= \"../satay/data_files/data_unmerged/\"\n",
    "#data_dir=\"../transposonmapper/data_files/files4test/\"\n",
    "data_dir=\"../postprocessed-data/\"\n",
    "#data_dir=\"../transposonmapper/data_files/\"\n",
    "for root, dirs, files in os.walk(data_dir):\n",
    "    for file in files:\n",
    "        if file.endswith(\"pergene_insertions.xlsx\"):\n",
    "            pergene_files.append(os.path.join(root, file))\n",
    "\n",
    "list_data=[]\n",
    "for i in pergene_files:\n",
    "    list_data.append(pd.read_excel(i,engine='openpyxl',index_col=\"Unnamed: 0\"))\n",
    "\n",
    "keys=[]\n",
    "for i in np.arange(0,len(pergene_files)):\n",
    "    keys.append(pergene_files[i].split(\"/\")[-1].split(\"_\")[0]+\"_\"+pergene_files[i].split(\"/\")[-1].split(\"_\")[1])\n",
    "\n",
    "list_data_pd=pd.concat(list_data,axis=0,keys=keys)"
   ]
  },
  {
   "cell_type": "code",
   "execution_count": null,
   "metadata": {},
   "outputs": [],
   "source": [
    "## Importing postproccesed data from pipeline\n",
    "from ast import literal_eval\n",
    "data_post=[]\n",
    "\n",
    "for i in keys:\n",
    "    data_post.append(pd.read_excel(data_dir+i+\".xlsx\",index_col=\"Unnamed: 0\",engine='openpyxl'))\n",
    "    \n",
    "list_data_post=pd.concat(data_post,axis=0,keys=keys)\n",
    "list_data_post.drop(columns=[\"Feature_alias\",\"Feature_name\"],inplace=True)\n",
    "list_data_post.fillna(1,inplace=True)\n"
   ]
  },
  {
   "cell_type": "markdown",
   "metadata": {},
   "source": [
    "## Linear normalization procedure\n",
    "\n",
    "- Normalize the transposon density data per chromosome over the density of the chromosome. \n",
    "- Between datasets : normalize datasets such that their read-counts have the same mean(e.g. by dividing each transposon site by the total read-count).\n",
    "- Refinement of this method: \n",
    "\n",
    "*A\n",
    "refinement of this approach that is specific to TnSeq is to scale the read counts to have the\n",
    "same mean over non-zero sites (which we call ‘Non-Zero Mean Normalization’ or\n",
    "NZMean), since different datasets can have widely varying levels of saturation, and\n",
    "distributing the same number of reads over fewer TA sites will naturally inflate the mean\n",
    "read count among them.*\n",
    "\n",
    "- Limitations: \n",
    "\n",
    "*One significant limitation of methods that linearly transform datasets is that they are susceptible to large spikes in read-counts. Because these methods multiply read-counts by a\n",
    "constant scalar value, they cannot reduce large outliers without also affecting small read-\n",
    "counts which are more common. Even if the datasets share the same mean, for instance, any\n",
    "skew in distribution of read-counts itself would still be present.* From 1.DeJesus, M. A. & Ioerger, T. R. Normalization of transposon-mutant library sequencing datasets to improve identification of conditionally essential genes. J. Bioinform. Comput. Biol. 14, 1642004 (2016).\n",
    "\n",
    "- The distribution of read-counts in most TnSeq datasets resembles a **Geometric-like\n",
    "distribution, in that read-counts at most sites are small** (i.e. 1–50), with a (rapidly)\n",
    "decreasing probability of sites with large counts. Ideally, a normalization method would\n",
    "improve detection of conditionally essential genes between conditions by eliminating any\n",
    "skew and making the datasets more closely fit this Geometric-like distribution."
   ]
  },
  {
   "cell_type": "code",
   "execution_count": 3,
   "metadata": {},
   "outputs": [
    {
     "name": "stderr",
     "output_type": "stream",
     "text": [
      "/data/localhome/linigodelacruz/anaconda3/envs/transposonmapper/lib/python3.9/site-packages/scipy/stats/_continuous_distns.py:639: RuntimeWarning: invalid value encountered in sqrt\n",
      "  sk = 2*(b-a)*np.sqrt(a + b + 1) / (a + b + 2) / np.sqrt(a*b)\n",
      "/data/localhome/linigodelacruz/anaconda3/envs/transposonmapper/lib/python3.9/site-packages/scipy/optimize/minpack.py:175: RuntimeWarning: The iteration is not making good progress, as measured by the \n",
      "  improvement from the last ten iterations.\n",
      "  warnings.warn(msg, RuntimeWarning)\n"
     ]
    },
    {
     "data": {
      "image/png": "[encoded data removed]",
      "text/plain": [
       "<Figure size 432x288 with 1 Axes>"
      ]
     },
     "metadata": {
      "needs_background": "light"
     },
     "output_type": "display_data"
    }
   ],
   "source": [
    "import matplotlib.pyplot as plt\n",
    "import numpy as np\n",
    "import scipy\n",
    "import scipy.stats\n",
    "size = 30000\n",
    "x = np.arange(size)\n",
    "y = scipy.int_(np.round_(scipy.stats.vonmises.rvs(5,size=size)*47))\n",
    "h = plt.hist(y, bins=range(48))\n",
    "\n",
    "dist_names = ['gamma', 'beta']\n",
    "\n",
    "for dist_name in dist_names:\n",
    "    dist = getattr(scipy.stats, dist_name)\n",
    "    params = dist.fit(y)\n",
    "    arg = params[:-2]\n",
    "    loc = params[-2]\n",
    "    scale = params[-1]\n",
    "    if arg:\n",
    "        pdf_fitted = dist.pdf(x, *arg, loc=loc, scale=scale) * size\n",
    "    else:\n",
    "        pdf_fitted = dist.pdf(x, loc=loc, scale=scale) * size\n",
    "    plt.plot(pdf_fitted, label=dist_name)\n",
    "    plt.xlim(0,47)\n",
    "plt.legend(loc='upper right')\n",
    "plt.show()"
   ]
  },
  {
   "cell_type": "markdown",
   "metadata": {},
   "source": [
    "## Make a quantile quantile plot of the reads counts over the genes to have an idea of how deviated from a normal distribution is this. \n",
    "\n",
    "- Sources: https://towardsdatascience.com/understand-q-q-plot-using-simple-python-4f83d5b89f8f\n",
    "- https://seaborn-qqplot.readthedocs.io/en/latest/"
   ]
  },
  {
   "cell_type": "code",
   "execution_count": 11,
   "metadata": {},
   "outputs": [],
   "source": [
    "from scipy import stats\n",
    "import numpy as np\n",
    "import matplotlib.pyplot as plt\n",
    "def discreteQQ(x_sample):\n",
    "\n",
    "    p_test = np.array([])\n",
    "    for i in range(0, 1001):\n",
    "        p_test = np.append(p_test, i/1000)\n",
    "        i = i + 1\n",
    "\n",
    "    x_sample = np.sort(x_sample)\n",
    "    x_theor = stats.geom.rvs(.5, size=len(x_sample))\n",
    "    ecdf_sample = np.arange(1, len(x_sample) + 1)/(len(x_sample)+1)\n",
    "\n",
    "    x_theor = stats.geom.ppf(ecdf_sample, p=0.5)\n",
    "\n",
    "    for p in p_test:\n",
    "        plt.scatter(np.quantile(x_theor, p), np.quantile(x_sample, p), c = 'blue')\n",
    "\n",
    "    plt.xlabel('Theoretical quantiles')\n",
    "    plt.ylabel('Sample quantiles')\n",
    "    plt.show()\n",
    "    return x_theor"
   ]
  },
  {
   "cell_type": "code",
   "execution_count": 12,
   "metadata": {},
   "outputs": [
    {
     "data": {
      "image/png": "[encoded data removed]",
      "text/plain": [
       "<Figure size 432x288 with 1 Axes>"
      ]
     },
     "metadata": {
      "needs_background": "light"
     },
     "output_type": "display_data"
    }
   ],
   "source": [
    "iris = sns.load_dataset('iris')\n",
    "\n",
    "theoretical_values=discreteQQ(iris.loc[:,\"sepal_length\"])\n"
   ]
  },
  {
   "cell_type": "code",
   "execution_count": 16,
   "metadata": {},
   "outputs": [
    {
     "data": {
      "text/plain": [
       "150"
      ]
     },
     "execution_count": 16,
     "metadata": {},
     "output_type": "execute_result"
    }
   ],
   "source": [
    "len(theoretical_values)"
   ]
  },
  {
   "cell_type": "markdown",
   "metadata": {},
   "source": [
    "## Non linear normalization procedure\n",
    "\n",
    "- Normalize the reads data per chromosome to fit a beta geometric distribution with parameters alpha and beta.\n",
    "- The beta geometric distribution (also called the Type I Geometric) is a type of geometric distribution, where the probability of success parameter, p, has a Beta distribution with shape parameters alpha(α) and beta(β); both shape parameters are positive (α > 0 and β > 0).\n",
    "- It is a type of compound distribution.\n",
    "\n",
    "- See an example here: https://stackoverflow.com/questions/59308441/fitting-for-discrete-data-negative-binomial-poisson-geometric-distribution\n",
    "\n",
    "- https://www.geeksforgeeks.org/python-discrete-geometric-distribution-in-statistics/"
   ]
  },
  {
   "cell_type": "markdown",
   "metadata": {},
   "source": []
  }
 ],
 "metadata": {
  "interpreter": {
   "hash": "4e417b9778b47a28d8b1724066397982bdf41da0689af0bd29246ac5809779c3"
  },
  "kernelspec": {
   "display_name": "Python 3.9.7 64-bit ('transposonmapper': conda)",
   "language": "python",
   "name": "python3"
  },
  "language_info": {
   "codemirror_mode": {
    "name": "ipython",
    "version": 3
   },
   "file_extension": ".py",
   "mimetype": "text/x-python",
   "name": "python",
   "nbconvert_exporter": "python",
   "pygments_lexer": "ipython3",
   "version": "3.9.7"
  },
  "orig_nbformat": 4
 },
 "nbformat": 4,
 "nbformat_minor": 2
}
