{
 "cells": [
  {
   "cell_type": "code",
   "execution_count": 1,
   "metadata": {},
   "outputs": [],
   "source": [
    "import pandas as pd\n",
    "import numpy as np\n",
    "import matplotlib.pyplot as plt\n",
    "import seaborn as sns\n",
    "import os,sys\n",
    "from collections import defaultdict\n",
    "from ast import literal_eval\n",
    "\n",
    "from from_excel_to_list import from_excel_to_list\n"
   ]
  },
  {
   "cell_type": "code",
   "execution_count": 2,
   "metadata": {},
   "outputs": [],
   "source": [
    "positions_float_pd=pd.read_csv(\"../postprocessed-data/genetic_positions_float_pd_all_backgrounds.csv\",converters={'Positions_float': literal_eval,'Ninsertions': literal_eval})\n",
    "positions_float_pd.rename(columns={'Unnamed: 0':'Gene name', \"Unnamed: 1\": \"background\"},inplace=True)\n",
    "\n",
    "discarded_genes_by_duplication=np.loadtxt(\"../postprocessed-data/discarded_genes_by_duplication.txt\",dtype=str)"
   ]
  },
  {
   "cell_type": "code",
   "execution_count": 3,
   "metadata": {},
   "outputs": [],
   "source": [
    "backgrounds= ['bem1-aid_a','dbem1dbem3_b','wt_merged','dbem1dbem3_a', \n",
    "'dnrp1_merged','bem1-aid_b','dbem3_merged']"
   ]
  },
  {
   "cell_type": "code",
   "execution_count": 4,
   "metadata": {},
   "outputs": [],
   "source": [
    "genes_out_by_neighborhood_pd=pd.read_excel(\"../postprocessed-data/genes_out_by_neighborhood.xlsx\",index_col=\"Unnamed: 0\")\n",
    "from from_excel_to_list import from_excel_to_list\n",
    "genes_out_float=defaultdict(dict)\n",
    "for key in backgrounds:\n",
    "   genes_out_float[\"sum upstream insertions\"][key] =from_excel_to_list(genes_out_by_neighborhood_pd.loc[key,\"sum upstream insertions\"])\n",
    "   genes_out_float[\"sum downstream insertions\"][key] =from_excel_to_list(genes_out_by_neighborhood_pd.loc[key,\"sum downstream insertions\"])\n",
    "   x=genes_out_by_neighborhood_pd.loc[key,\"discarded_genes_neighborhood\"]\n",
    "   x=x.replace('[', '')\n",
    "   x=x.replace(']', '')\n",
    "   x=x.replace('list(', '')\n",
    "   x=x.replace(')', '')\n",
    "   x=x.replace(\"'\", \"\")\n",
    "   x=x.replace(\" \", \"\")\n",
    "   x=x.split(',')\n",
    "   genes_out_float[\"discarded_genes_neighborhood\"][key]=x\n",
    "\n",
    "genes_out_float_pd=pd.DataFrame.from_dict(genes_out_float)\n",
    "\n",
    "genes_out_float_pd.loc[:,\"threshold coverage\"]=genes_out_by_neighborhood_pd.loc[:,\"threshold coverage\"]"
   ]
  },
  {
   "cell_type": "code",
   "execution_count": 5,
   "metadata": {},
   "outputs": [],
   "source": [
    "## Importing pergene files \n",
    "\n",
    "pergene_files=[]\n",
    "data_dir=\"../postprocessed-data/\"\n",
    "#data_dir=\"../transposonmapper/data_files/\"\n",
    "for root, dirs, files in os.walk(data_dir):\n",
    "    for file in files:\n",
    "        if file.endswith(\"pergene_insertions.xlsx\"):\n",
    "            pergene_files.append(os.path.join(root, file))\n",
    "\n",
    "list_data=[]\n",
    "for i in pergene_files:\n",
    "    list_data.append(pd.read_excel(i,engine='openpyxl',index_col=\"Unnamed: 0\"))\n",
    "\n",
    "keys=[]\n",
    "for i in np.arange(0,len(pergene_files)):\n",
    "    keys.append(pergene_files[i].split(\"/\")[-1].split(\"_\")[0]+\"_\"+pergene_files[i].split(\"/\")[-1].split(\"_\")[1])\n",
    "\n",
    "list_data_pd=pd.concat(list_data,axis=0,keys=keys)"
   ]
  },
  {
   "cell_type": "markdown",
   "metadata": {},
   "source": [
    "## Strategy for scoring essentiality (Benoit method paper: https://elifesciences.org/articles/23570/figures#fig2s1)\n",
    "\n",
    "- Compute the longest interval in the gene free of transposons insertions (L)\n",
    "- Extract the number of insertions for that gene (N)\n",
    "- Extract the gene length (l)\n",
    "- Compute the score as:\n",
    "    score= L*N/(l ^(1.5))\n",
    "    score == 0 if \n",
    "    - N<20\n",
    "    - L>90 of l \n",
    "    - L<10 of l\n",
    "    - L<300bp\n",
    "\n",
    "    \n",
    "  "
   ]
  },
  {
   "cell_type": "code",
   "execution_count": 6,
   "metadata": {},
   "outputs": [],
   "source": [
    "from functions_scores_essentiality import get_genes_names_for_essentiality"
   ]
  },
  {
   "cell_type": "code",
   "execution_count": 7,
   "metadata": {},
   "outputs": [],
   "source": [
    "from functions_scores_essentiality import get_essentiality_score_per_gene_per_background"
   ]
  },
  {
   "cell_type": "code",
   "execution_count": 8,
   "metadata": {},
   "outputs": [],
   "source": [
    "## Loop over all the backgrounds\n",
    "scores_all=[]\n",
    "for key in backgrounds:\n",
    "    useful_genes=get_genes_names_for_essentiality(list_data_pd,genes_out_float_pd,key)\n",
    "    scores=get_essentiality_score_per_gene_per_background(useful_genes,key,list_data_pd)\n",
    "    tmp=pd.DataFrame.from_dict(scores)\n",
    "    scores_all.append(tmp)\n",
    "\n"
   ]
  },
  {
   "cell_type": "code",
   "execution_count": 9,
   "metadata": {},
   "outputs": [
    {
     "data": {
      "text/html": [
       "<div>\n",
       "<style scoped>\n",
       "    .dataframe tbody tr th:only-of-type {\n",
       "        vertical-align: middle;\n",
       "    }\n",
       "\n",
       "    .dataframe tbody tr th {\n",
       "        vertical-align: top;\n",
       "    }\n",
       "\n",
       "    .dataframe thead th {\n",
       "        text-align: right;\n",
       "    }\n",
       "</style>\n",
       "<table border=\"1\" class=\"dataframe\">\n",
       "  <thead>\n",
       "    <tr style=\"text-align: right;\">\n",
       "      <th></th>\n",
       "      <th></th>\n",
       "      <th>value</th>\n",
       "    </tr>\n",
       "  </thead>\n",
       "  <tbody>\n",
       "    <tr>\n",
       "      <th rowspan=\"5\" valign=\"top\">bem1-aid_a</th>\n",
       "      <th>AAC1</th>\n",
       "      <td>0.092458</td>\n",
       "    </tr>\n",
       "    <tr>\n",
       "      <th>AAC3</th>\n",
       "      <td>0.000000</td>\n",
       "    </tr>\n",
       "    <tr>\n",
       "      <th>AAD10</th>\n",
       "      <td>0.191489</td>\n",
       "    </tr>\n",
       "    <tr>\n",
       "      <th>AAD14</th>\n",
       "      <td>0.181648</td>\n",
       "    </tr>\n",
       "    <tr>\n",
       "      <th>AAD16</th>\n",
       "      <td>0.117475</td>\n",
       "    </tr>\n",
       "    <tr>\n",
       "      <th>...</th>\n",
       "      <th>...</th>\n",
       "      <td>...</td>\n",
       "    </tr>\n",
       "    <tr>\n",
       "      <th rowspan=\"5\" valign=\"top\">dbem3_merged</th>\n",
       "      <th>ZRT2</th>\n",
       "      <td>0.000000</td>\n",
       "    </tr>\n",
       "    <tr>\n",
       "      <th>ZRT3</th>\n",
       "      <td>0.000000</td>\n",
       "    </tr>\n",
       "    <tr>\n",
       "      <th>ZTA1</th>\n",
       "      <td>0.000000</td>\n",
       "    </tr>\n",
       "    <tr>\n",
       "      <th>ZUO1</th>\n",
       "      <td>0.467329</td>\n",
       "    </tr>\n",
       "    <tr>\n",
       "      <th>ZWF1</th>\n",
       "      <td>0.000000</td>\n",
       "    </tr>\n",
       "  </tbody>\n",
       "</table>\n",
       "<p>43590 rows × 1 columns</p>\n",
       "</div>"
      ],
      "text/plain": [
       "                       value\n",
       "bem1-aid_a   AAC1   0.092458\n",
       "             AAC3   0.000000\n",
       "             AAD10  0.191489\n",
       "             AAD14  0.181648\n",
       "             AAD16  0.117475\n",
       "...                      ...\n",
       "dbem3_merged ZRT2   0.000000\n",
       "             ZRT3   0.000000\n",
       "             ZTA1   0.000000\n",
       "             ZUO1   0.467329\n",
       "             ZWF1   0.000000\n",
       "\n",
       "[43590 rows x 1 columns]"
      ]
     },
     "execution_count": 9,
     "metadata": {},
     "output_type": "execute_result"
    }
   ],
   "source": [
    "scores_all_pd=pd.concat(scores_all,axis=0,keys=backgrounds)\n",
    "\n",
    "scores_all_pd"
   ]
  },
  {
   "cell_type": "code",
   "execution_count": 10,
   "metadata": {},
   "outputs": [],
   "source": [
    "scores_all_pd.to_excel(\"../postprocessed-data/scores_essentiality_from_Benoit_paper_all_backgrounds.xlsx\")"
   ]
  },
  {
   "cell_type": "code",
   "execution_count": 11,
   "metadata": {},
   "outputs": [],
   "source": [
    "a_wt=scores_all_pd.loc[\"wt_merged\",\"value\"]\n",
    "a_bem1=scores_all_pd.loc[\"bem1-aid_a\",\"value\"]"
   ]
  },
  {
   "cell_type": "code",
   "execution_count": 12,
   "metadata": {},
   "outputs": [],
   "source": [
    "predicted_essentials_wt=a_wt[a_wt==0].index\n",
    "predicted_essentials_bem1=a_bem1[a_bem1==0].index"
   ]
  },
  {
   "cell_type": "code",
   "execution_count": 13,
   "metadata": {},
   "outputs": [],
   "source": [
    "diff_wt_bem1=np.setdiff1d(predicted_essentials_wt,predicted_essentials_bem1)\n",
    "diff_bem1_wt=np.setdiff1d(predicted_essentials_bem1,predicted_essentials_wt)"
   ]
  },
  {
   "cell_type": "code",
   "execution_count": 14,
   "metadata": {},
   "outputs": [
    {
     "data": {
      "text/plain": [
       "array(['AAD10', 'AAD3', 'ACS1', 'ADE16', 'ADE4', 'ADH5', 'ADH7', 'ADY2',\n",
       "       'AGP1', 'AGX1', 'AIM11', 'AIM17', 'AIM2', 'AIM21', 'AIM23',\n",
       "       'AIM29', 'AIM32', 'AIM34', 'AIM39', 'AKR2', 'ALF1', 'ALG3', 'ALK2',\n",
       "       'ANB1', 'ANS1', 'APA2', 'ARF1', 'ARG1', 'ARK1', 'ART5', 'ASI3',\n",
       "       'ASP3-1', 'ASP3-2', 'ASP3-3', 'ASP3-4', 'AST1', 'ATF2', 'ATG15',\n",
       "       'ATG18', 'ATG3', 'ATG31', 'ATO3', 'ATP23', 'ATS1', 'ATX2', 'AVT1',\n",
       "       'AYR1', 'BAT2', 'BBC1', 'BDH2', 'BIK1', 'BIM1', 'BIO3', 'BIO4',\n",
       "       'BLM10', 'BMT5', 'BNA2', 'BNA6', 'BNA7', 'BOR1', 'BPT1', 'BUB2',\n",
       "       'BUB3', 'BUD13', 'BUD14', 'BUD17', 'BUD25', 'BYE1', 'CAF16',\n",
       "       'CAJ1', 'CAP1', 'CAP2', 'CAR2', 'CAX4', 'CBF1', 'CCE1', 'CCP1',\n",
       "       'CDH1', 'CIT1', 'CIT2', 'CIT3', 'CKA2', 'CLB6', 'CLU1', 'CMK1',\n",
       "       'CMR3', 'CNE1', 'COA1', 'COQ1', 'COQ6', 'COS1', 'COS2', 'COS3',\n",
       "       'COS4', 'COS5', 'COS6', 'COT1', 'COX3', 'CSF1', 'CSR1', 'CSS2',\n",
       "       'CTL1', 'CTO1', 'CTP1', 'CTR2', 'CTR3', 'CUE5', 'CUP2', 'CUR1',\n",
       "       'CWC15', 'CWC21', 'CYB2', 'CYC3', 'DAK1', 'DAL1', 'DAL2', 'DAL3',\n",
       "       'DAL4', 'DAL7', 'DAL82', 'DAS2', 'DBR1', 'DCD1', 'DCS1', 'DCW1',\n",
       "       'DEG1', 'DET1', 'DFM1', 'DFR1', 'DIA4', 'DIC1', 'DIG2', 'DIT1',\n",
       "       'DJP1', 'DLD1', 'DLS1', 'DNL4', 'DNM1', 'DOG1', 'DOM34', 'DOT5',\n",
       "       'DOT6', 'DPH1', 'DPH5', 'DSC3', 'DSF2', 'DST1', 'DUG1', 'DUR3',\n",
       "       'DYS1', 'EAF5', 'EAT1', 'ECM14', 'ECM29', 'ECM3', 'ECM38', 'ECM4',\n",
       "       'ECM8', 'ECT1', 'EDC3', 'EFM3', 'EFM4', 'EFM6', 'EHD3', 'ENA1',\n",
       "       'ENA2', 'ENA5', 'ENO2', 'EPS1', 'ERC1', 'ERG20', 'ERG5', 'ERP1',\n",
       "       'ERP2', 'ERP3', 'ERP4', 'ERP6', 'ERR1', 'ERV25', 'ERV46', 'ESC8',\n",
       "       'EST3', 'EXP1', 'FAA3', 'FAU1', 'FBP26', 'FEX1', 'FLO5', 'FLR1',\n",
       "       'FMP23', 'FMP25', 'FMP41', 'FMP45', 'FMT1', 'FRA1', 'FRE4', 'FRE7',\n",
       "       'FSH1', 'FSH3', 'FUB1', 'FUN14', 'FUN19', 'FUN26', 'FUS1', 'FUS3',\n",
       "       'FYV7', 'FZF1', 'GAL3', 'GAL7', 'GAL80', 'GAL83', 'GAP1', 'GAT1',\n",
       "       'GBP2', 'GCG1', 'GCN20', 'GCV1', 'GCV3', 'GDH1', 'GDH3', 'GET2',\n",
       "       'GET4', 'GEX2', 'GFD2', 'GID7', 'GIM5', 'GIS3', 'GIS4', 'GLC3',\n",
       "       'GLD1', 'GLG2', 'GLK1', 'GLO1', 'GLO4', 'GPA2', 'GPD1', 'GPD2',\n",
       "       'GPM2', 'GPM3', 'GSC2', 'GSY1', 'GTO3', 'GUT1', 'GYP8', 'HAL1',\n",
       "       'HAM1', 'HAP1', 'HAP2', 'HAP5', 'HCM1', 'HDA1', 'HEM3', 'HIF1',\n",
       "       'HIS1', 'HIS2', 'HIS3', 'HIS4', 'HIS5', 'HMT1', 'HRB1', 'HSE1',\n",
       "       'HSP30', 'HST4', 'HXT10', 'HXT15', 'HXT16', 'HXT2', 'HXT6', 'HXT7',\n",
       "       'ICE2', 'ICL1', 'ICS3', 'ICT1', 'IDP3', 'IGD1', 'ILV6', 'IMA2',\n",
       "       'IMA3', 'IMA4', 'IME1', 'IMG1', 'IMG2', 'IMO32', 'INM1', 'IOC4',\n",
       "       'IRC10', 'IRC22', 'IRC24', 'IRC6', 'ISC1', 'IST1', 'IST3', 'ISY1',\n",
       "       'JHD2', 'JLP1', 'KAR1', 'KNH1', 'KRE9', 'KTI12', 'KTR1', 'KTR2',\n",
       "       'KTR5', 'LAG1', 'LAM4', 'LCL3', 'LDH1', 'LEU1', 'LEU2', 'LEU5',\n",
       "       'LIN1', 'LNP1', 'LPX1', 'LRO1', 'LSB5', 'LSC2', 'LYS1', 'LYS20',\n",
       "       'LYS21', 'MAC1', 'MAE1', 'MAK32', 'MAL12', 'MAL32', 'MAM33',\n",
       "       'MCH1', 'MCK1', 'MDH2', 'MDJ1', 'MDJ2', 'MDM12', 'MDM31', 'MEI4',\n",
       "       'MEP1', 'MEP2', 'MET22', 'MET3', 'MEU1', 'MGR1', 'MIC26', 'MIC27',\n",
       "       'MIG3', 'MLS1', 'MND2', 'MNN11', 'MOG1', 'MPH1', 'MRH1', 'MRP1',\n",
       "       'MRP20', 'MRP4', 'MRPL1', 'MRPL8', 'MRPL9', 'MRPS17', 'MRS3',\n",
       "       'MRX8', 'MSG5', 'MSH4', 'MSO1', 'MSP1', 'MST27', 'MTC3', 'MTF1',\n",
       "       'MTG1', 'MTQ1', 'MTQ2', 'MUM2', 'MUM3', 'MVP1', 'MXR1', 'MYO4',\n",
       "       'NAG1', 'NAM8', 'NAP1', 'NAS2', 'NAS6', 'NAT4', 'NDE1', 'NEM1',\n",
       "       'NGL3', 'NIS1', 'NMA2', 'NNR1', 'NNR2', 'NOP1', 'NPP2', 'NPT1',\n",
       "       'NQM1', 'NRM1', 'NRT1', 'NTG1', 'NTH1', 'NTH2', 'NUP60', 'OCA5',\n",
       "       'OCA6', 'OKP1', 'OLA1', 'OMA1', 'OPI1', 'ORM1', 'ORM2', 'OSH2',\n",
       "       'OSH6', 'OSH7', 'OST3', 'OTU1', 'OTU2', 'OXA1', 'PAA1', 'PBA1',\n",
       "       'PCK1', 'PCL2', 'PCL5', 'PDA1', 'PDR16', 'PDR17', 'PDR3', 'PET122',\n",
       "       'PET8', 'PEX4', 'PEX9', 'PFA4', 'PHM8', 'PHO11', 'PHO12', 'PHO23',\n",
       "       'PHO4', 'PHO80', 'PHO88', 'PHO91', 'PHS1', 'PIC2', 'PIH1', 'PLB2',\n",
       "       'PMC1', 'PML1', 'PMU1', 'POA1', 'POF1', 'POL4', 'POM33', 'POM34',\n",
       "       'POT1', 'PPG1', 'PPH21', 'PPT1', 'PRB1', 'PRC1', 'PRM9', 'PRP19',\n",
       "       'PRS2', 'PRS4', 'PRS5', 'PRY2', 'PSF2', 'PSR1', 'PSR2', 'PSY3',\n",
       "       'PSY4', 'PTC2', 'PTC6', 'PTK1', 'PTM1', 'PTR2', 'PUG1', 'PUP1',\n",
       "       'PUP3', 'PUS2', 'PUS5', 'PUS6', 'PUS9', 'PUT2', 'PUT4', 'QCR6',\n",
       "       'RAD55', 'RAI1', 'RBG1', 'RBG2', 'RBK1', 'RCM1', 'RCR1', 'REX2',\n",
       "       'REX3', 'RFS1', 'RGS2', 'RHO4', 'RIB4', 'RIM11', 'RIM15', 'RIM4',\n",
       "       'RIM8', 'RIM9', 'RKM5', 'RMD1', 'RMD8', 'RNH201', 'RNQ1', 'ROG3',\n",
       "       'ROT1', 'RPE1', 'RPL19A', 'RPL1B', 'RPL22B', 'RPL23A', 'RPL2B',\n",
       "       'RPL3', 'RPN14', 'RPS14B', 'RPS18B', 'RPS19A', 'RPS22B', 'RPS7A',\n",
       "       'RRP6', 'RRP8', 'RRT13', 'RRT2', 'RRT6', 'RSF1', 'RSF2', 'RSM7',\n",
       "       'RTC2', 'RTN2', 'RTR2', 'RTS3', 'RTT109', 'RXT3', 'SAG1', 'SAM1',\n",
       "       'SAT4', 'SAW1', 'SBA1', 'SCJ1', 'SCS3', 'SDH1', 'SEC13', 'SEC22',\n",
       "       'SED1', 'SER33', 'SET5', 'SFA1', 'SFC1', 'SFK1', 'SGT2', 'SHB17',\n",
       "       'SHH3', 'SHU2', 'SIL1', 'SLC1', 'SLD7', 'SLM1', 'SLM3', 'SMM1',\n",
       "       'SNF12', 'SNO2', 'SNO3', 'SNQ2', 'SNU23', 'SNZ2', 'SNZ3', 'SOL2',\n",
       "       'SOL4', 'SOR1', 'SOR2', 'SPE2', 'SPL2', 'SPO1', 'SPO75', 'SPP381',\n",
       "       'SPS22', 'SPT15', 'SRL3', 'SRN2', 'SRP40', 'SRY1', 'SSA1', 'SSA2',\n",
       "       'SSA3', 'SSK2', 'SSN8', 'STB1', 'STE14', 'STE24', 'STE50', 'STP4',\n",
       "       'SUB1', 'SUC2', 'SWF1', 'SWT21', 'SYN8', 'TCB3', 'TCD1', 'TCD2',\n",
       "       'TDA4', 'TDH1', 'TED1', 'TEF2', 'TES1', 'TEX1', 'TFS1', 'THI11',\n",
       "       'THI12', 'THI13', 'THI2', 'THI20', 'THI4', 'THI5', 'THI73', 'TIF1',\n",
       "       'TIM17', 'TLG1', 'TMA17', 'TMA46', 'TOM1', 'TPC1', 'TPK1', 'TPO2',\n",
       "       'TRM11', 'TRM12', 'TRM9', 'TRP4', 'TRS23', 'TSA2', 'TSR3', 'TUB3',\n",
       "       'TVP38', 'TY3A-I', 'UBC12', 'UBC7', 'UBC8', 'UBI4', 'UBX4', 'UFD4',\n",
       "       'UGA1', 'UGA2', 'UGX2', 'UIP3', 'UIP5', 'UNG1', 'UPS2', 'URA8',\n",
       "       'URH1', 'USA1', 'UTR1', 'UTR4', 'VAB2', 'VBA2', 'VID24', 'VLD1',\n",
       "       'VMR1', 'VPS13', 'VPS68', 'VPS71', 'VTH1', 'VTH2', 'WHI5', 'WTM2',\n",
       "       'XYL2', 'YAL019W-A', 'YAP5', 'YAR023C', 'YAT1', 'YBL010C',\n",
       "       'YBL012C', 'YBL029W', 'YBL036C', 'YBL055C', 'YBL111C', 'YBL113C',\n",
       "       'YBR056W', 'YBR071W', 'YBR219C', 'YBR241C', 'YCK1', 'YCL002C',\n",
       "       'YCP4', 'YCR016W', 'YCR023C', 'YCR051W', 'YCR061W', 'YCR090C',\n",
       "       'YCR100C', 'YCR101C', 'YCR102C', 'YDL057W', 'YDL086W', 'YDL094C',\n",
       "       'YDL124W', 'YDL144C', 'YDL221W', 'YDR018C', 'YDR119W-A', 'YDR274C',\n",
       "       'YDR387C', 'YDR401W', 'YDR445C', 'YDR476C', 'YDR535C', 'YDR541C',\n",
       "       'YEA4', 'YEF1', 'YEH1', 'YEL018C-A', 'YEL067C', 'YEL075W-A',\n",
       "       'YEL076C-A', 'YEL077C', 'YEL077W-A', 'YER010C', 'YER034W',\n",
       "       'YER076C', 'YER188W', 'YFH7', 'YFL021C-A', 'YFL040W', 'YFL066C',\n",
       "       'YFR006W', 'YFR018C', 'YGK3', 'YGL010W', 'YGL081W', 'YGL088W',\n",
       "       'YGL117W', 'YGL152C', 'YGL185C', 'YGL214W', 'YGL218W', 'YGL235W',\n",
       "       'YGR016W', 'YGR017W', 'YGR021W', 'YGR042W', 'YGR067C', 'YGR127W',\n",
       "       'YGR176W', 'YGR201C', 'YGR210C', 'YGR259C', 'YHI9', 'YHK8',\n",
       "       'YHL006W-A', 'YHL008C', 'YHL012W', 'YHL026C', 'YHL049C', 'YHL050C',\n",
       "       'YHM2', 'YHR022C', 'YHR033W', 'YHR054C', 'YHR097C', 'YHR112C',\n",
       "       'YHR140W', 'YHR177W', 'YHR218W', 'YHR219W', 'YIA6', 'YIH1',\n",
       "       'YIL001W', 'YIL055C', 'YIL077C', 'YIL108W', 'YIL177C', 'YIP5',\n",
       "       'YIR016W', 'YIR020C-B', 'YIR035C', 'YJL016W', 'YJL043W', 'YJL118W',\n",
       "       'YJL225C', 'YJL225W-A', 'YJR011C', 'YJR015W', 'YJR030C', 'YJR096W',\n",
       "       'YJR107W', 'YJR111C', 'YJR142W', 'YJR154W', 'YKE4', 'YKL030W',\n",
       "       'YKL071W', 'YKL162C', 'YKR005C', 'YKR015C', 'YKR045C', 'YKR051W',\n",
       "       'YKR070W', 'YKR075C', 'YKR104W', 'YLF2', 'YLL066C', 'YLL067C',\n",
       "       'YLR001C', 'YLR118C', 'YLR125W', 'YLR317W', 'YLR358C', 'YLR463C',\n",
       "       'YLR464W', 'YML002W', 'YML018C', 'YML020W', 'YML083C', 'YML133C',\n",
       "       'YMR084W', 'YMR090W', 'YMR099C', 'YMR1', 'YMR134W', 'YMR315W',\n",
       "       'YND1', 'YNL018C', 'YNL019C', 'YNL033W', 'YNL034W', 'YNL092W',\n",
       "       'YNL194C', 'YNL217W', 'YNL320W', 'YNR014W', 'YNR040W', 'YOL019W',\n",
       "       'YOL046C', 'YOR041C', 'YOR325W', 'YOR338W', 'YOR352W', 'YOR376W',\n",
       "       'YOR396C-A', 'YOX1', 'YPL014W', 'YPL039W', 'YPL044C', 'YPL067C',\n",
       "       'YPL068C', 'YPL107W', 'YPL108W', 'YPL229W', 'YPL277C', 'YPL283W-B',\n",
       "       'YPR003C', 'YPR011C', 'YPR015C', 'YPR050C', 'YPR078C', 'YPR123C',\n",
       "       'YPR153W', 'YPR174C', 'YPR204W', 'YRA2', 'YRF1-1', 'YRF1-2',\n",
       "       'YRF1-3', 'YRF1-4', 'YRF1-5', 'YRF1-8', 'YSA1', 'YSC83', 'YSC84',\n",
       "       'YSP3', 'YSR3', 'YTH1', 'ZRC1', 'ZRT2'], dtype=object)"
      ]
     },
     "execution_count": 14,
     "metadata": {},
     "output_type": "execute_result"
    }
   ],
   "source": [
    "diff_wt_bem1 # essential genes from WT that are not in bem1(conserved essentials)"
   ]
  },
  {
   "cell_type": "code",
   "execution_count": 15,
   "metadata": {},
   "outputs": [
    {
     "data": {
      "text/plain": [
       "array(['AAC3', 'AAT2', 'ABF2', 'ACF4', 'ACL4', 'ADE13', 'ADH2', 'ADO1',\n",
       "       'AGE2', 'AHP1', 'AIM36', 'ALD4', 'ALD5', 'ALG1', 'ALP1', 'ALT1',\n",
       "       'APQ12', 'ARG82', 'ARL1', 'ARL3', 'ARP1', 'ARP2', 'ARP4', 'ARV1',\n",
       "       'ASI2', 'ATG12', 'ATG17', 'ATG27', 'ATG32', 'ATG34', 'ATG36',\n",
       "       'ATG38', 'ATG40', 'ATP1', 'ATP10', 'ATP11', 'ATP12', 'ATP22',\n",
       "       'ATP5', 'ATP6', 'ATP7', 'BGL2', 'BMH1', 'BMT2', 'BMT6', 'BOS1',\n",
       "       'BRE5', 'BRR6', 'BSC1', 'BSD2', 'BTT1', 'BUD20', 'BUD21', 'BUD32',\n",
       "       'BUD5', 'BUR6', 'CAB5', 'CAT5', 'CBP3', 'CBS1', 'CCS1', 'CCW14',\n",
       "       'CDC10', 'CDC28', 'CDC8', 'CHO1', 'CHZ1', 'CIN4', 'CIR1', 'CKA1',\n",
       "       'CKB2', 'CKI1', 'CLP1', 'CNB1', 'COA2', 'COG2', 'COG7', 'COQ11',\n",
       "       'COR1', 'COX26', 'CPD1', 'CPR6', 'CRC1', 'CRG1', 'CRH1', 'CRP1',\n",
       "       'CSH1', 'CSS1', 'CST9', 'CTK2', 'CTK3', 'CTS1', 'CUE1', 'CWC23',\n",
       "       'CYS4', 'DAL80', 'DCG1', 'DCN1', 'DDP1', 'DDR48', 'DEP1', 'DGA1',\n",
       "       'DGK1', 'DIE2', 'DON1', 'DOS2', 'DPB4', 'DSC2', 'DUS1', 'EBP2',\n",
       "       'ECI1', 'ECL1', 'ECM18', 'ECM33', 'EDC1', 'EFG1', 'EGT2', 'ELM1',\n",
       "       'ELO2', 'ELO3', 'ELP6', 'ENP1', 'ENT2', 'ERG29', 'ERG3', 'ERP5',\n",
       "       'ERV1', 'ESS1', 'ETT1', 'EXG1', 'EXO1', 'FAR3', 'FAR7', 'FAR8',\n",
       "       'FDH1', 'FHN1', 'FIN1', 'FIT2', 'FIT3', 'FLX1', 'FMN1', 'FMP10',\n",
       "       'FPR3', 'FPR4', 'FSH2', 'FYV6', 'GAR1', 'GCN4', 'GEP5', 'GET1',\n",
       "       'GFD1', 'GLE1', 'GLY1', 'GMC2', 'GRE2', 'GRH1', 'GRX7', 'GSF2',\n",
       "       'GSP2', 'GYP6', 'HAC1', 'HCR1', 'HEM4', 'HGH1', 'HLR1', 'HMS2',\n",
       "       'HO', 'HOM2', 'HOM6', 'HOP1', 'HOP2', 'HPF1', 'HRI1', 'HSP150',\n",
       "       'HSP31', 'HSP42', 'HUA2', 'ICS2', 'IKI1', 'IKS1', 'IML3', 'IMP4',\n",
       "       'INA22', 'INN1', 'INP1', 'IRC19', 'IRC21', 'IRC4', 'ISC10', 'ITT1',\n",
       "       'IVY1', 'IZH1', 'IZH4', 'JJJ3', 'KAR4', 'KDX1', 'KEI1', 'KRE28',\n",
       "       'KRE29', 'LAS17', 'LAT1', 'LDB17', 'LDB18', 'LDS2', 'LHP1', 'LIF1',\n",
       "       'LIH1', 'LIP5', 'LOH1', 'LPD1', 'LSM12', 'LUC7', 'LYS5', 'MAF1',\n",
       "       'MAK16', 'MAM1', 'MBR1', 'MCM1', 'MCM22', 'MCP1', 'MCX1', 'MDG1',\n",
       "       'MDH3', 'MED2', 'MER1', 'MFB1', 'MGA1', 'MHR1', 'MIA40', 'MID2',\n",
       "       'MIF2', 'MIT1', 'MOB1', 'MOB2', 'MOT3', 'MPD1', 'MPD2', 'MRM2',\n",
       "       'MRP13', 'MRP8', 'MRPL10', 'MRPL11', 'MRPL13', 'MRPL16', 'MRPL17',\n",
       "       'MRPL19', 'MRPL22', 'MRPL23', 'MRPL24', 'MRPL27', 'MRPL36',\n",
       "       'MRPL4', 'MRPL6', 'MRPL7', 'MRPS18', 'MRPS35', 'MRT4', 'MRX5',\n",
       "       'MRX9', 'MSA2', 'MTL1', 'MUD1', 'MUP1', 'NCB2', 'NCW2', 'NDL1',\n",
       "       'NEJ1', 'NFU1', 'NIF3', 'NKP1', 'NMT1', 'NNT1', 'NOP15', 'NOP56',\n",
       "       'NPC2', 'NRG1', 'NSP1', 'NTR2', 'NUP2', 'NUT2', 'NVJ1', 'OAR1',\n",
       "       'OCA4', 'OM14', 'OM45', 'OPI7', 'OPY1', 'OYE2', 'PAC10', 'PAR32',\n",
       "       'PAU22', 'PBP2', 'PCL6', 'PCL9', 'PDR8', 'PEP12', 'PET123',\n",
       "       'PEX10', 'PEX11', 'PEX12', 'PEX15', 'PEX18', 'PEX21', 'PFK27',\n",
       "       'PFS1', 'PGA1', 'PGA2', 'PGK1', 'PGU1', 'PHA2', 'PHB1', 'PHB2',\n",
       "       'PHO13', 'PHO86', 'PIL1', 'PIN2', 'PIR1', 'PIR3', 'PLP2', 'PNP1',\n",
       "       'POB3', 'POL30', 'POL32', 'POP3', 'POR1', 'POR2', 'PPM1', 'PPX1',\n",
       "       'PRE10', 'PRE6', 'PRM10', 'PRM4', 'PRM5', 'PRM6', 'PRY1', 'PSA1',\n",
       "       'PSG1', 'PST1', 'PXR1', 'PYK2', 'Q0255', 'RAD57', 'RAD6', 'RBD2',\n",
       "       'RBS1', 'RCO1', 'REC102', 'RFA2', 'RFM1', 'RGM1', 'RHB1', 'RHO2',\n",
       "       'RHO5', 'RIB1', 'RIB7', 'RIM1', 'RIM2', 'RIP1', 'RKM4', 'RME1',\n",
       "       'RMR1', 'RNA1', 'RNA15', 'RNP1', 'RPA34', 'RPA49', 'RPB5', 'RPC37',\n",
       "       'RPI1', 'RPL11A', 'RPL11B', 'RPL12B', 'RPL14A', 'RPL16A', 'RPL17B',\n",
       "       'RPL20A', 'RPL22A', 'RPL23B', 'RPL26A', 'RPL26B', 'RPL31B',\n",
       "       'RPL33B', 'RPL34B', 'RPL37B', 'RPL39', 'RPL40A', 'RPL40B',\n",
       "       'RPL42A', 'RPL42B', 'RPL43B', 'RPL4A', 'RPL4B', 'RPL6A', 'RPL6B',\n",
       "       'RPL7A', 'RPL8A', 'RPL8B', 'RPL9B', 'RPN11', 'RPN8', 'RPP1',\n",
       "       'RPP1B', 'RPR2', 'RPS0B', 'RPS11A', 'RPS13', 'RPS14A', 'RPS16A',\n",
       "       'RPS16B', 'RPS17A', 'RPS17B', 'RPS18A', 'RPS19B', 'RPS1B',\n",
       "       'RPS21A', 'RPS21B', 'RPS23A', 'RPS23B', 'RPS24A', 'RPS27A',\n",
       "       'RPS30A', 'RPS4A', 'RPS4B', 'RPS6B', 'RPS8B', 'RPS9B', 'RRF1',\n",
       "       'RRG7', 'RRG9', 'RRN11', 'RRP14', 'RRP36', 'RRP43', 'RRT8',\n",
       "       'RSM10', 'RSM23', 'RSM24', 'RSM26', 'RSR1', 'RTC4', 'RTG1', 'RTN1',\n",
       "       'RTS2', 'RTT106', 'RVS161', 'SAE2', 'SAS5', 'SBP1', 'SCP1',\n",
       "       'SCW10', 'SCW11', 'SCW4', 'SDC1', 'SDH3', 'SDH4', 'SDH5', 'SDS23',\n",
       "       'SEC14', 'SEC66', 'SFG1', 'SFM1', 'SFT2', 'SHC1', 'SHE2', 'SHE3',\n",
       "       'SHE9', 'SHO1', 'SIC1', 'SIP4', 'SIT4', 'SKI6', 'SKN1', 'SLD5',\n",
       "       'SLF1', 'SLG1', 'SLT2', 'SLX1', 'SNF11', 'SNF7', 'SNO4', 'SNP1',\n",
       "       'SNU66', 'SNZ1', 'SOD1', 'SOL3', 'SPC25', 'SPC3', 'SPC34', 'SPE1',\n",
       "       'SPO11', 'SPO13', 'SPO16', 'SPO23', 'SPO74', 'SPP2', 'SPR3',\n",
       "       'SPR6', 'SPS100', 'SPS18', 'SRF1', 'SRL2', 'SSB2', 'SSC1', 'SSO2',\n",
       "       'SSQ1', 'SSZ1', 'STB3', 'STP3', 'SUR2', 'SVP26', 'SYF2', 'TAD1',\n",
       "       'TAD2', 'TAF10', 'TAF4', 'TAL1', 'TDA10', 'TFC7', 'TGL2', 'THI80',\n",
       "       'TIM18', 'TIM22', 'TIM44', 'TIP1', 'TIR1', 'TIR4', 'TIS11',\n",
       "       'TMA23', 'TOM40', 'TPP1', 'TRM82', 'TRR1', 'TRR2', 'TSA1', 'TVP18',\n",
       "       'TYW3', 'UBC13', 'UBC6', 'UBP13', 'UCC1', 'UPF3', 'URA10', 'URA5',\n",
       "       'USB1', 'UTP8', 'VHR2', 'VOA1', 'VPH2', 'VPS20', 'VPS29', 'VPS60',\n",
       "       'VPS9', 'VTI1', 'WSC2', 'WSC3', 'YAE1', 'YAF9', 'YAL026C-A',\n",
       "       'YAP3', 'YAP7', 'YAR066W', 'YBL059W', 'YBL086C', 'YBR063C',\n",
       "       'YBR096W', 'YBR137W', 'YBR300C', 'YCL076W', 'YCR087W', 'YDL034W',\n",
       "       'YDL118W', 'YDL129W', 'YDL186W', 'YDL211C', 'YDL228C', 'YDR042C',\n",
       "       'YDR090C', 'YDR187C', 'YDR262W', 'YDR391C', 'YDR396W', 'YER147C-A',\n",
       "       'YER186C', 'YER187W', 'YET3', 'YFR054C', 'YGK1', 'YGL102C',\n",
       "       'YGL138C', 'YGP1', 'YGR115C', 'YGR126W', 'YGR153W', 'YGR160W',\n",
       "       'YGR168C', 'YGR273C', 'YGR290W', 'YGR293C', 'YHB1', 'YHL044W',\n",
       "       'YHP1', 'YHR122W', 'YHR214W', 'YIL029C', 'YIL071W-A', 'YIL152W',\n",
       "       'YIL161W', 'YIL171W-A', 'YIP1', 'YIR042C', 'YJL055W', 'YJL193W',\n",
       "       'YJL218W', 'YKL107W', 'YKL133C', 'YKL202W', 'YKT6', 'YLR036C',\n",
       "       'YLR049C', 'YLR126C', 'YLR287C', 'YLR379W', 'YLR458W', 'YLR460C',\n",
       "       'YMC2', 'YMD8', 'YML037C', 'YML119W', 'YMR027W', 'YMR147W',\n",
       "       'YMR295C', 'YMR306C-A', 'YNG1', 'YNL058C', 'YNL109W', 'YNL170W',\n",
       "       'YNL193W', 'YNL203C', 'YNL208W', 'YNL235C', 'YNR005C', 'YNR061C',\n",
       "       'YOL114C', 'YOL162W', 'YOL163W', 'YOR111W', 'YOR131C', 'YOR263C',\n",
       "       'YOR292C', 'YOR331C', 'YOR342C', 'YPL162C', 'YPL199C', 'YPL225W',\n",
       "       'YPL257W', 'YPL264C', 'YPL272C', 'YPR027C', 'YPR1', 'YPR127W',\n",
       "       'YPR172W', 'YPS6', 'YPS7', 'YPT35', 'YPT52', 'YTM1', 'YUH1',\n",
       "       'ZIM17', 'ZRT1', 'ZTA1'], dtype=object)"
      ]
     },
     "execution_count": 15,
     "metadata": {},
     "output_type": "execute_result"
    }
   ],
   "source": [
    "diff_bem1_wt # essential genes from bem1 that are not in WT (gained essentials)"
   ]
  },
  {
   "cell_type": "code",
   "execution_count": 16,
   "metadata": {},
   "outputs": [
    {
     "data": {
      "image/png": "[encoded data removed]",
      "text/plain": [
       "<Figure size 1800x360 with 7 Axes>"
      ]
     },
     "metadata": {
      "needs_background": "light"
     },
     "output_type": "display_data"
    }
   ],
   "source": [
    "fig, ax = plt.subplots(nrows=1, ncols=len(backgrounds), figsize=(25, 5))\n",
    "cm = plt.cm.get_cmap('RdYlBu_r')\n",
    "#color=cm(i/len(backgrounds))\n",
    "for i in np.arange(0,len(backgrounds)):\n",
    "    \n",
    "    ax[i].hist(scores_all_pd.loc[backgrounds[i]][\"value\"], bins=100, alpha=0.8, label=backgrounds[i], color=\"black\")\n",
    "    # plt.legend(loc='upper right')\n",
    "    ax[i].set_xlim([0,2])\n",
    "    ax[i].set_ylim([0,300])\n",
    "    ax[i].set_xlabel('Domain likelihood score')\n",
    "\n",
    "\n",
    "    ax[i].legend(loc='upper right')\n",
    "\n",
    "fig.savefig(\"../figures/fig_histogram_domain_likelihood_score_per_background.png\",dpi=300)"
   ]
  },
  {
   "cell_type": "code",
   "execution_count": 17,
   "metadata": {},
   "outputs": [],
   "source": [
    "## Matrix where the rows are the unique genes from the scores and the columns are the backgrounds.\n",
    "# Fill a 1 if that gene has a score=0 in that background, otherwise fill 0. \n",
    "\n",
    "all_genes=[]\n",
    "\n",
    "for key in backgrounds:\n",
    "    all_genes.append(scores_all_pd.loc[key][\"value\"].index)\n",
    "\n",
    "all_genes_array=np.concatenate( all_genes, axis=0)\n",
    "all_genes_array_unique=np.unique(all_genes_array)"
   ]
  },
  {
   "cell_type": "code",
   "execution_count": 18,
   "metadata": {},
   "outputs": [],
   "source": [
    "matrix_differential_score=np.ones((len(all_genes_array_unique),len(backgrounds)))\n",
    "for k in np.arange(0,len(all_genes_array_unique)):\n",
    "    for i in np.arange(0,len(backgrounds)):\n",
    "        if all_genes_array_unique[k] in scores_all_pd.loc[backgrounds[i]][\"value\"].index:\n",
    "            if scores_all_pd.loc[backgrounds[i],all_genes_array_unique[k] ][\"value\"]>0: # if the score is 0, then the gene is not essential\n",
    "                matrix_differential_score[k,i]=0\n"
   ]
  },
  {
   "cell_type": "code",
   "execution_count": 19,
   "metadata": {},
   "outputs": [
    {
     "data": {
      "text/plain": [
       "<AxesSubplot:>"
      ]
     },
     "execution_count": 19,
     "metadata": {},
     "output_type": "execute_result"
    },
    {
     "data": {
      "image/png": "[encoded data removed]",
      "text/plain": [
       "<Figure size 360x1440 with 2 Axes>"
      ]
     },
     "metadata": {
      "needs_background": "light"
     },
     "output_type": "display_data"
    }
   ],
   "source": [
    "fig, ax = plt.subplots(nrows=1, ncols=1, figsize=(5, 20))\n",
    "n=100\n",
    "sns.heatmap(matrix_differential_score[0:n,:], xticklabels=backgrounds, yticklabels=all_genes_array_unique[0:n], cmap=\"RdGy\", vmin=0, vmax=1)\n",
    "\n",
    "#fig.savefig(\"../figures/fig_prototype_heatmap_domain_likelihood_score_per_background.png\",dpi=300)"
   ]
  },
  {
   "cell_type": "code",
   "execution_count": 20,
   "metadata": {},
   "outputs": [
    {
     "data": {
      "image/png": "[encoded data removed]",
      "text/plain": [
       "<Figure size 216x1440 with 2 Axes>"
      ]
     },
     "metadata": {
      "needs_background": "light"
     },
     "output_type": "display_data"
    }
   ],
   "source": [
    "fig, ax = plt.subplots(nrows=1, ncols=1, figsize=(3, 20))\n",
    "plt.imshow(matrix_differential_score[0:n,:], interpolation='nearest', cmap=plt.cm.Reds,aspect='auto')\n",
    "plt.xticks(range(len(backgrounds)), backgrounds,rotation=90);\n",
    "plt.yticks(range(n),all_genes_array_unique[0:n]);\n",
    "plt.colorbar();\n",
    "\n",
    "#fig.savefig(\"../figures/fig_prototype_heatmap_domain_likelihood_score_per_background_2.png\",dpi=300)"
   ]
  },
  {
   "cell_type": "code",
   "execution_count": 21,
   "metadata": {},
   "outputs": [
    {
     "data": {
      "text/plain": [
       "<AxesSubplot:>"
      ]
     },
     "execution_count": 21,
     "metadata": {},
     "output_type": "execute_result"
    },
    {
     "data": {
      "image/png": "[encoded data removed]",
      "text/plain": [
       "<Figure size 432x288 with 2 Axes>"
      ]
     },
     "metadata": {
      "needs_background": "light"
     },
     "output_type": "display_data"
    }
   ],
   "source": [
    "goi=[\"CLA4\",\"BEM2\",\"CDC24\",\"RDI1\",\"CDC10\",\"NRP1\",\"CDC42\",\"MEC1\",\"ACT1\"]\n",
    "tmp=[]\n",
    "for i in goi:\n",
    "    tmp.append(np.where(all_genes_array_unique==i)[0][0])\n",
    "\n",
    "goi_matrix=matrix_differential_score[tmp,:]\n",
    "sns.heatmap(goi_matrix, xticklabels=backgrounds, yticklabels=goi, cmap=\"RdGy\", vmin=0, vmax=1,alpha=0.7)\n"
   ]
  },
  {
   "cell_type": "code",
   "execution_count": 22,
   "metadata": {},
   "outputs": [],
   "source": [
    "## Validate the  predicted scores for WT with the annotated essential genes for WT\n",
    "\n",
    "# import true essential genes\n",
    "true_essentials=pd.read_csv(\"../postprocessed-data/essentials_genes_yeast.txt\",header=None)\n",
    "true_essentials.columns=[\"gene_name\"]\n",
    "# compare \n"
   ]
  },
  {
   "cell_type": "code",
   "execution_count": 23,
   "metadata": {},
   "outputs": [],
   "source": [
    "predicted_essentials_wt=scores_all_pd.loc[\"wt_merged\",\"value\"].index"
   ]
  },
  {
   "cell_type": "code",
   "execution_count": 24,
   "metadata": {},
   "outputs": [],
   "source": [
    "scores_wt=scores_all_pd.loc[\"wt_merged\",:]\n",
    "for true_genes in true_essentials[\"gene_name\"]:\n",
    "    if true_genes in scores_wt.index:\n",
    "        scores_wt.loc[true_genes,\"true essential\"]=1\n",
    "    \n",
    "        "
   ]
  },
  {
   "cell_type": "code",
   "execution_count": 25,
   "metadata": {},
   "outputs": [
    {
     "name": "stdout",
     "output_type": "stream",
     "text": [
      "The number of predicted essential genes for WT that are also annotated as essential genes is: 279 which means  24.603174603174605 %\n",
      "The number of predicted essential genes for WT  is: 2768\n",
      "The number of annotated essential genes for WT  is: 1134\n"
     ]
    }
   ],
   "source": [
    "print(\"The number of predicted essential genes for WT that are also annotated as essential genes is:\",\n",
    "len(scores_wt[(scores_wt[\"true essential\"]==1) & (scores_wt[\"value\"]==0)]),\n",
    "\"which means \",100*len(scores_wt[(scores_wt[\"true essential\"]==1) & (scores_wt[\"value\"]==0)])/len(scores_wt[scores_wt[\"true essential\"]==1]),\n",
    "\"%\")\n",
    "\n",
    "print(\"The number of predicted essential genes for WT  is:\",\n",
    "len(scores_wt[scores_wt[\"value\"]==0]))\n",
    "\n",
    "print(\"The number of annotated essential genes for WT  is:\",\n",
    "len(scores_wt[scores_wt[\"true essential\"]==1]))"
   ]
  }
 ],
 "metadata": {
  "interpreter": {
   "hash": "4e417b9778b47a28d8b1724066397982bdf41da0689af0bd29246ac5809779c3"
  },
  "kernelspec": {
   "display_name": "Python 3.9.7 64-bit ('transposonmapper': conda)",
   "language": "python",
   "name": "python3"
  },
  "language_info": {
   "codemirror_mode": {
    "name": "ipython",
    "version": 3
   },
   "file_extension": ".py",
   "mimetype": "text/x-python",
   "name": "python",
   "nbconvert_exporter": "python",
   "pygments_lexer": "ipython3",
   "version": "3.9.7"
  },
  "orig_nbformat": 4
 },
 "nbformat": 4,
 "nbformat_minor": 2
}
