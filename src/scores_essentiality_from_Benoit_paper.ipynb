{
 "cells": [
  {
   "cell_type": "code",
   "execution_count": 1,
   "metadata": {},
   "outputs": [],
   "source": [
    "import pandas as pd\n",
    "import numpy as np\n",
    "import matplotlib.pyplot as plt\n",
    "import seaborn as sns\n",
    "import os,sys\n",
    "from collections import defaultdict\n",
    "from ast import literal_eval\n",
    "\n",
    "from from_excel_to_list import from_excel_to_list\n"
   ]
  },
  {
   "cell_type": "code",
   "execution_count": 2,
   "metadata": {},
   "outputs": [],
   "source": [
    "positions_float_pd=pd.read_csv(\"../postprocessed-data/genetic_positions_float_pd_all_backgrounds.csv\",converters={'Positions_float': literal_eval,'Ninsertions': literal_eval})\n",
    "positions_float_pd.rename(columns={'Unnamed: 0':'Gene name', \"Unnamed: 1\": \"background\"},inplace=True)\n",
    "\n",
    "discarded_genes_by_duplication=np.loadtxt(\"../postprocessed-data/discarded_genes_by_duplication.txt\",dtype=str)"
   ]
  },
  {
   "cell_type": "code",
   "execution_count": 3,
   "metadata": {},
   "outputs": [],
   "source": [
    "backgrounds= ['bem1-aid_a','dbem1dbem3_b','wt_merged','dbem1dbem3_a', \n",
    "'dnrp1_merged','bem1-aid_b','dbem3_merged']"
   ]
  },
  {
   "cell_type": "code",
   "execution_count": 4,
   "metadata": {},
   "outputs": [],
   "source": [
    "genes_out_by_neighborhood_pd=pd.read_excel(\"../postprocessed-data/genes_out_by_neighborhood.xlsx\",index_col=\"Unnamed: 0\")\n",
    "from from_excel_to_list import from_excel_to_list\n",
    "genes_out_float=defaultdict(dict)\n",
    "for key in backgrounds:\n",
    "   genes_out_float[\"sum upstream insertions\"][key] =from_excel_to_list(genes_out_by_neighborhood_pd.loc[key,\"sum upstream insertions\"])\n",
    "   genes_out_float[\"sum downstream insertions\"][key] =from_excel_to_list(genes_out_by_neighborhood_pd.loc[key,\"sum downstream insertions\"])\n",
    "   x=genes_out_by_neighborhood_pd.loc[key,\"discarded_genes_neighborhood\"]\n",
    "   x=x.replace('[', '')\n",
    "   x=x.replace(']', '')\n",
    "   x=x.replace('list(', '')\n",
    "   x=x.replace(')', '')\n",
    "   x=x.replace(\"'\", \"\")\n",
    "   x=x.replace(\" \", \"\")\n",
    "   x=x.split(',')\n",
    "   genes_out_float[\"discarded_genes_neighborhood\"][key]=x\n",
    "\n",
    "genes_out_float_pd=pd.DataFrame.from_dict(genes_out_float)\n",
    "\n",
    "genes_out_float_pd.loc[:,\"threshold coverage\"]=genes_out_by_neighborhood_pd.loc[:,\"threshold coverage\"]"
   ]
  },
  {
   "cell_type": "code",
   "execution_count": 5,
   "metadata": {},
   "outputs": [],
   "source": [
    "## Importing pergene files \n",
    "\n",
    "pergene_files=[]\n",
    "data_dir=\"../postprocessed-data/\"\n",
    "#data_dir=\"../transposonmapper/data_files/\"\n",
    "for root, dirs, files in os.walk(data_dir):\n",
    "    for file in files:\n",
    "        if file.endswith(\"pergene_insertions.xlsx\"):\n",
    "            pergene_files.append(os.path.join(root, file))\n",
    "\n",
    "list_data=[]\n",
    "for i in pergene_files:\n",
    "    list_data.append(pd.read_excel(i,engine='openpyxl',index_col=\"Unnamed: 0\"))\n",
    "\n",
    "keys=[]\n",
    "for i in np.arange(0,len(pergene_files)):\n",
    "    keys.append(pergene_files[i].split(\"/\")[-1].split(\"_\")[0]+\"_\"+pergene_files[i].split(\"/\")[-1].split(\"_\")[1])\n",
    "\n",
    "list_data_pd=pd.concat(list_data,axis=0,keys=keys)"
   ]
  },
  {
   "cell_type": "markdown",
   "metadata": {},
   "source": [
    "## Strategy for scoring essentiality (Benoit method paper: https://elifesciences.org/articles/23570/figures#fig2s1)\n",
    "\n",
    "- Compute the longest interval in the gene free of transposons insertions (L)\n",
    "- Extract the number of insertions for that gene (N)\n",
    "- Extract the gene length (l)\n",
    "- Compute the score as:\n",
    "    score= L*N/(l ^(1.5))\n",
    "    score == 0 if \n",
    "    - N<20\n",
    "    - L>90 of l \n",
    "    - L<10 of l\n",
    "    - L<300bp\n",
    "\n",
    "    \n",
    "  "
   ]
  },
  {
   "cell_type": "code",
   "execution_count": 6,
   "metadata": {},
   "outputs": [],
   "source": [
    "from functions_scores_essentiality import get_genes_names_for_essentiality"
   ]
  },
  {
   "cell_type": "code",
   "execution_count": 78,
   "metadata": {},
   "outputs": [],
   "source": [
    "from functions_scores_essentiality import get_essentiality_score_per_gene_per_background"
   ]
  },
  {
   "cell_type": "code",
   "execution_count": 79,
   "metadata": {},
   "outputs": [],
   "source": [
    "## Loop over all the backgrounds\n",
    "scores_all=[]\n",
    "for key in backgrounds:\n",
    "    useful_genes=get_genes_names_for_essentiality(list_data_pd,genes_out_float_pd,key)\n",
    "    scores=get_essentiality_score_per_gene_per_background(useful_genes,key,list_data_pd)\n",
    "    tmp=pd.DataFrame.from_dict(scores)\n",
    "    scores_all.append(tmp)\n",
    "\n"
   ]
  },
  {
   "cell_type": "code",
   "execution_count": 80,
   "metadata": {},
   "outputs": [
    {
     "data": {
      "text/html": [
       "<div>\n",
       "<style scoped>\n",
       "    .dataframe tbody tr th:only-of-type {\n",
       "        vertical-align: middle;\n",
       "    }\n",
       "\n",
       "    .dataframe tbody tr th {\n",
       "        vertical-align: top;\n",
       "    }\n",
       "\n",
       "    .dataframe thead th {\n",
       "        text-align: right;\n",
       "    }\n",
       "</style>\n",
       "<table border=\"1\" class=\"dataframe\">\n",
       "  <thead>\n",
       "    <tr style=\"text-align: right;\">\n",
       "      <th></th>\n",
       "      <th></th>\n",
       "      <th>value</th>\n",
       "    </tr>\n",
       "  </thead>\n",
       "  <tbody>\n",
       "    <tr>\n",
       "      <th rowspan=\"5\" valign=\"top\">bem1-aid_a</th>\n",
       "      <th>AAC1</th>\n",
       "      <td>0.000000</td>\n",
       "    </tr>\n",
       "    <tr>\n",
       "      <th>AAC3</th>\n",
       "      <td>0.000000</td>\n",
       "    </tr>\n",
       "    <tr>\n",
       "      <th>AAD10</th>\n",
       "      <td>0.243599</td>\n",
       "    </tr>\n",
       "    <tr>\n",
       "      <th>AAD14</th>\n",
       "      <td>0.153216</td>\n",
       "    </tr>\n",
       "    <tr>\n",
       "      <th>AAD16</th>\n",
       "      <td>0.129490</td>\n",
       "    </tr>\n",
       "    <tr>\n",
       "      <th>...</th>\n",
       "      <th>...</th>\n",
       "      <td>...</td>\n",
       "    </tr>\n",
       "    <tr>\n",
       "      <th rowspan=\"5\" valign=\"top\">dbem3_merged</th>\n",
       "      <th>ZRT2</th>\n",
       "      <td>1.306160</td>\n",
       "    </tr>\n",
       "    <tr>\n",
       "      <th>ZRT3</th>\n",
       "      <td>0.924832</td>\n",
       "    </tr>\n",
       "    <tr>\n",
       "      <th>ZTA1</th>\n",
       "      <td>0.719587</td>\n",
       "    </tr>\n",
       "    <tr>\n",
       "      <th>ZUO1</th>\n",
       "      <td>0.421683</td>\n",
       "    </tr>\n",
       "    <tr>\n",
       "      <th>ZWF1</th>\n",
       "      <td>0.971885</td>\n",
       "    </tr>\n",
       "  </tbody>\n",
       "</table>\n",
       "<p>43590 rows × 1 columns</p>\n",
       "</div>"
      ],
      "text/plain": [
       "                       value\n",
       "bem1-aid_a   AAC1   0.000000\n",
       "             AAC3   0.000000\n",
       "             AAD10  0.243599\n",
       "             AAD14  0.153216\n",
       "             AAD16  0.129490\n",
       "...                      ...\n",
       "dbem3_merged ZRT2   1.306160\n",
       "             ZRT3   0.924832\n",
       "             ZTA1   0.719587\n",
       "             ZUO1   0.421683\n",
       "             ZWF1   0.971885\n",
       "\n",
       "[43590 rows x 1 columns]"
      ]
     },
     "execution_count": 80,
     "metadata": {},
     "output_type": "execute_result"
    }
   ],
   "source": [
    "scores_all_pd=pd.concat(scores_all,axis=0,keys=backgrounds)\n",
    "\n",
    "scores_all_pd"
   ]
  },
  {
   "cell_type": "code",
   "execution_count": 193,
   "metadata": {},
   "outputs": [],
   "source": [
    "scores_all_pd.to_excel(\"../postprocessed-data/scores_essentiality_from_Benoit_paper_all_backgrounds.xlsx\")"
   ]
  },
  {
   "cell_type": "code",
   "execution_count": 91,
   "metadata": {},
   "outputs": [],
   "source": [
    "a_wt=scores_all_pd.loc[\"wt_merged\",\"value\"]\n",
    "a_bem1=scores_all_pd.loc[\"bem1-aid_a\",\"value\"]"
   ]
  },
  {
   "cell_type": "code",
   "execution_count": 92,
   "metadata": {},
   "outputs": [],
   "source": [
    "predicted_essentials_wt=a_wt[a_wt==0].index\n",
    "predicted_essentials_bem1=a_bem1[a_bem1==0].index"
   ]
  },
  {
   "cell_type": "code",
   "execution_count": 95,
   "metadata": {},
   "outputs": [],
   "source": [
    "diff_wt_bem1=np.setdiff1d(predicted_essentials_wt,predicted_essentials_bem1)\n",
    "diff_bem1_wt=np.setdiff1d(predicted_essentials_bem1,predicted_essentials_wt)"
   ]
  },
  {
   "cell_type": "code",
   "execution_count": 94,
   "metadata": {},
   "outputs": [
    {
     "data": {
      "text/plain": [
       "array(['CDC6', 'CLC1', 'CNS1', 'JNM1', 'MRPL23', 'MTR3', 'NSE4', 'PEP8',\n",
       "       'RVB1', 'YDR119W-A', 'YGL101W', 'YPT1'], dtype=object)"
      ]
     },
     "execution_count": 94,
     "metadata": {},
     "output_type": "execute_result"
    }
   ],
   "source": [
    "diff_wt_bem1 # essential genes from WT that are not in bem1(conserved essentials)"
   ]
  },
  {
   "cell_type": "code",
   "execution_count": 96,
   "metadata": {},
   "outputs": [
    {
     "data": {
      "text/plain": [
       "array(['AAC1', 'AAC3', 'AAD3', ..., 'ZPS1', 'ZTA1', 'ZUO1'], dtype=object)"
      ]
     },
     "execution_count": 96,
     "metadata": {},
     "output_type": "execute_result"
    }
   ],
   "source": [
    "diff_bem1_wt # essential genes from bem1 that are not in WT (gained essentials)"
   ]
  },
  {
   "cell_type": "code",
   "execution_count": 121,
   "metadata": {},
   "outputs": [
    {
     "data": {
      "image/png": "[encoded data removed]",
      "text/plain": [
       "<Figure size 1800x360 with 7 Axes>"
      ]
     },
     "metadata": {
      "needs_background": "light"
     },
     "output_type": "display_data"
    }
   ],
   "source": [
    "fig, ax = plt.subplots(nrows=1, ncols=len(backgrounds), figsize=(25, 5))\n",
    "cm = plt.cm.get_cmap('RdYlBu_r')\n",
    "#color=cm(i/len(backgrounds))\n",
    "for i in np.arange(0,len(backgrounds)):\n",
    "    \n",
    "    ax[i].hist(scores_all_pd.loc[backgrounds[i]][\"value\"], bins=100, alpha=0.8, label=backgrounds[i], color=\"black\")\n",
    "    # plt.legend(loc='upper right')\n",
    "    ax[i].set_xlim([-1,6])\n",
    "    ax[i].set_ylim([0,4000])\n",
    "    ax[i].set_xlabel('Domain likelihood score')\n",
    "\n",
    "\n",
    "    ax[i].legend(loc='upper right')\n",
    "\n",
    "fig.savefig(\"../figures/fig_histogram_domain_likelihood_score_per_background.png\",dpi=300)"
   ]
  },
  {
   "cell_type": "code",
   "execution_count": 122,
   "metadata": {},
   "outputs": [],
   "source": [
    "## Matrix where the rows are the unique genes from the scores and the columns are the backgrounds.\n",
    "# Fill a 1 if that gene has a score=0 in that background, otherwise fill 0. \n",
    "\n",
    "all_genes=[]\n",
    "\n",
    "for key in backgrounds:\n",
    "    all_genes.append(scores_all_pd.loc[key][\"value\"].index)\n",
    "\n",
    "all_genes_array=np.concatenate( all_genes, axis=0)\n",
    "all_genes_array_unique=np.unique(all_genes_array)"
   ]
  },
  {
   "cell_type": "code",
   "execution_count": 198,
   "metadata": {},
   "outputs": [],
   "source": [
    "matrix_differential_score=np.ones((len(all_genes_array_unique),len(backgrounds)))\n",
    "for k in np.arange(0,len(all_genes_array_unique)):\n",
    "    for i in np.arange(0,len(backgrounds)):\n",
    "        if all_genes_array_unique[k] in scores_all_pd.loc[backgrounds[i]][\"value\"].index:\n",
    "            if scores_all_pd.loc[backgrounds[i],all_genes_array_unique[k] ][\"value\"]>0.15: # if the score is 0, then the gene is not essential\n",
    "                matrix_differential_score[k,i]=0\n"
   ]
  },
  {
   "cell_type": "code",
   "execution_count": 199,
   "metadata": {},
   "outputs": [
    {
     "data": {
      "text/plain": [
       "<AxesSubplot:>"
      ]
     },
     "execution_count": 199,
     "metadata": {},
     "output_type": "execute_result"
    },
    {
     "data": {
      "image/png": "[encoded data removed]",
      "text/plain": [
       "<Figure size 360x1440 with 2 Axes>"
      ]
     },
     "metadata": {
      "needs_background": "light"
     },
     "output_type": "display_data"
    }
   ],
   "source": [
    "fig, ax = plt.subplots(nrows=1, ncols=1, figsize=(5, 20))\n",
    "n=100\n",
    "sns.heatmap(matrix_differential_score[0:n,:], xticklabels=backgrounds, yticklabels=all_genes_array_unique[0:n], cmap=\"RdGy\", vmin=0, vmax=1)\n",
    "\n",
    "#fig.savefig(\"../figures/fig_prototype_heatmap_domain_likelihood_score_per_background.png\",dpi=300)"
   ]
  },
  {
   "cell_type": "code",
   "execution_count": 200,
   "metadata": {},
   "outputs": [
    {
     "data": {
      "text/plain": [
       "([<matplotlib.axis.YTick at 0x7f7a5c152790>,\n",
       "  <matplotlib.axis.YTick at 0x7f7a5c147fd0>,\n",
       "  <matplotlib.axis.YTick at 0x7f7a5c1f9d90>,\n",
       "  <matplotlib.axis.YTick at 0x7f7a5c17ef10>,\n",
       "  <matplotlib.axis.YTick at 0x7f7a5c1066a0>,\n",
       "  <matplotlib.axis.YTick at 0x7f7a5c106df0>,\n",
       "  <matplotlib.axis.YTick at 0x7f7a5c10b580>,\n",
       "  <matplotlib.axis.YTick at 0x7f7a5c10bcd0>,\n",
       "  <matplotlib.axis.YTick at 0x7f7a5c110460>,\n",
       "  <matplotlib.axis.YTick at 0x7f7a5c10b5b0>,\n",
       "  <matplotlib.axis.YTick at 0x7f7a5c106370>,\n",
       "  <matplotlib.axis.YTick at 0x7f7a5c110850>,\n",
       "  <matplotlib.axis.YTick at 0x7f7a5c1150a0>,\n",
       "  <matplotlib.axis.YTick at 0x7f7a5c115730>,\n",
       "  <matplotlib.axis.YTick at 0x7f7a5c115e80>,\n",
       "  <matplotlib.axis.YTick at 0x7f7a5c115e50>,\n",
       "  <matplotlib.axis.YTick at 0x7f7a5c110b80>,\n",
       "  <matplotlib.axis.YTick at 0x7f7a5c10b4c0>,\n",
       "  <matplotlib.axis.YTick at 0x7f7a5c11db50>,\n",
       "  <matplotlib.axis.YTick at 0x7f7a5c1252e0>,\n",
       "  <matplotlib.axis.YTick at 0x7f7a5c125a30>,\n",
       "  <matplotlib.axis.YTick at 0x7f7a5c12b1c0>,\n",
       "  <matplotlib.axis.YTick at 0x7f7a5c125700>,\n",
       "  <matplotlib.axis.YTick at 0x7f7a5c11d730>,\n",
       "  <matplotlib.axis.YTick at 0x7f7a5c12b070>,\n",
       "  <matplotlib.axis.YTick at 0x7f7a5c12be20>,\n",
       "  <matplotlib.axis.YTick at 0x7f7a5c1305b0>,\n",
       "  <matplotlib.axis.YTick at 0x7f7a5c130d00>,\n",
       "  <matplotlib.axis.YTick at 0x7f7a5c137490>,\n",
       "  <matplotlib.axis.YTick at 0x7f7a5c130790>,\n",
       "  <matplotlib.axis.YTick at 0x7f7a5c10b790>,\n",
       "  <matplotlib.axis.YTick at 0x7f7a5c137040>,\n",
       "  <matplotlib.axis.YTick at 0x7f7a5c13c0d0>,\n",
       "  <matplotlib.axis.YTick at 0x7f7a5c13c760>,\n",
       "  <matplotlib.axis.YTick at 0x7f7a5c13ceb0>,\n",
       "  <matplotlib.axis.YTick at 0x7f7a5c0c5640>,\n",
       "  <matplotlib.axis.YTick at 0x7f7a5c13c2e0>,\n",
       "  <matplotlib.axis.YTick at 0x7f7a5c12bdf0>,\n",
       "  <matplotlib.axis.YTick at 0x7f7a5c0c5a30>,\n",
       "  <matplotlib.axis.YTick at 0x7f7a5c0cc1c0>,\n",
       "  <matplotlib.axis.YTick at 0x7f7a5c0cc910>,\n",
       "  <matplotlib.axis.YTick at 0x7f7a5c0cd160>,\n",
       "  <matplotlib.axis.YTick at 0x7f7a5c0ccbe0>,\n",
       "  <matplotlib.axis.YTick at 0x7f7a5c0c5970>,\n",
       "  <matplotlib.axis.YTick at 0x7f7a5c0cd610>,\n",
       "  <matplotlib.axis.YTick at 0x7f7a5c0cdc70>,\n",
       "  <matplotlib.axis.YTick at 0x7f7a5c0d9400>,\n",
       "  <matplotlib.axis.YTick at 0x7f7a5c0d9b50>,\n",
       "  <matplotlib.axis.YTick at 0x7f7a5c0df2e0>,\n",
       "  <matplotlib.axis.YTick at 0x7f7a5c0d9bb0>,\n",
       "  <matplotlib.axis.YTick at 0x7f7a5c0cd0d0>,\n",
       "  <matplotlib.axis.YTick at 0x7f7a5c0df280>,\n",
       "  <matplotlib.axis.YTick at 0x7f7a5c0dff40>,\n",
       "  <matplotlib.axis.YTick at 0x7f7a5c0e76d0>,\n",
       "  <matplotlib.axis.YTick at 0x7f7a5c0e7e20>,\n",
       "  <matplotlib.axis.YTick at 0x7f7a5c0eb5b0>,\n",
       "  <matplotlib.axis.YTick at 0x7f7a5c0e7700>,\n",
       "  <matplotlib.axis.YTick at 0x7f7a5c0dfb20>,\n",
       "  <matplotlib.axis.YTick at 0x7f7a5c1308e0>,\n",
       "  <matplotlib.axis.YTick at 0x7f7a5c17ebe0>,\n",
       "  <matplotlib.axis.YTick at 0x7f7a5c0ebc70>,\n",
       "  <matplotlib.axis.YTick at 0x7f7a5c0f5400>,\n",
       "  <matplotlib.axis.YTick at 0x7f7a5c0f5b50>,\n",
       "  <matplotlib.axis.YTick at 0x7f7a5c12b370>,\n",
       "  <matplotlib.axis.YTick at 0x7f7a5c0e7730>,\n",
       "  <matplotlib.axis.YTick at 0x7f7a5c0f5f40>,\n",
       "  <matplotlib.axis.YTick at 0x7f7a5c0ff6d0>,\n",
       "  <matplotlib.axis.YTick at 0x7f7a5c0ffe20>,\n",
       "  <matplotlib.axis.YTick at 0x7f7a5c0835b0>,\n",
       "  <matplotlib.axis.YTick at 0x7f7a5c0ffdc0>,\n",
       "  <matplotlib.axis.YTick at 0x7f7a5c0f57f0>,\n",
       "  <matplotlib.axis.YTick at 0x7f7a5c083df0>,\n",
       "  <matplotlib.axis.YTick at 0x7f7a5c08c1c0>,\n",
       "  <matplotlib.axis.YTick at 0x7f7a5c08c910>,\n",
       "  <matplotlib.axis.YTick at 0x7f7a5c090160>,\n",
       "  <matplotlib.axis.YTick at 0x7f7a5c0907f0>,\n",
       "  <matplotlib.axis.YTick at 0x7f7a5c08c850>,\n",
       "  <matplotlib.axis.YTick at 0x7f7a5c0df610>,\n",
       "  <matplotlib.axis.YTick at 0x7f7a5c090040>,\n",
       "  <matplotlib.axis.YTick at 0x7f7a5c099490>,\n",
       "  <matplotlib.axis.YTick at 0x7f7a5c099be0>,\n",
       "  <matplotlib.axis.YTick at 0x7f7a5c09e370>,\n",
       "  <matplotlib.axis.YTick at 0x7f7a5c09eac0>,\n",
       "  <matplotlib.axis.YTick at 0x7f7a5c099790>,\n",
       "  <matplotlib.axis.YTick at 0x7f7a5c083e80>,\n",
       "  <matplotlib.axis.YTick at 0x7f7a5c09e040>,\n",
       "  <matplotlib.axis.YTick at 0x7f7a5c0a6640>,\n",
       "  <matplotlib.axis.YTick at 0x7f7a5c0a6d90>,\n",
       "  <matplotlib.axis.YTick at 0x7f7a5c0ae520>,\n",
       "  <matplotlib.axis.YTick at 0x7f7a5c0aec70>,\n",
       "  <matplotlib.axis.YTick at 0x7f7a5c0a62e0>,\n",
       "  <matplotlib.axis.YTick at 0x7f7a5c099880>,\n",
       "  <matplotlib.axis.YTick at 0x7f7a5c0b4160>,\n",
       "  <matplotlib.axis.YTick at 0x7f7a5c0b47f0>,\n",
       "  <matplotlib.axis.YTick at 0x7f7a5c0b4f40>,\n",
       "  <matplotlib.axis.YTick at 0x7f7a5c0bb6d0>,\n",
       "  <matplotlib.axis.YTick at 0x7f7a5c0b4f10>,\n",
       "  <matplotlib.axis.YTick at 0x7f7a5c0ae820>,\n",
       "  <matplotlib.axis.YTick at 0x7f7a5c0bb9a0>,\n",
       "  <matplotlib.axis.YTick at 0x7f7a5c0032e0>],\n",
       " [Text(0, 0, 'AAC1'),\n",
       "  Text(0, 1, 'AAC3'),\n",
       "  Text(0, 2, 'AAD10'),\n",
       "  Text(0, 3, 'AAD14'),\n",
       "  Text(0, 4, 'AAD16'),\n",
       "  Text(0, 5, 'AAD3'),\n",
       "  Text(0, 6, 'AAD4'),\n",
       "  Text(0, 7, 'AAH1'),\n",
       "  Text(0, 8, 'AAP1'),\n",
       "  Text(0, 9, 'AAR2'),\n",
       "  Text(0, 10, 'AAT1'),\n",
       "  Text(0, 11, 'AAT2'),\n",
       "  Text(0, 12, 'ABD1'),\n",
       "  Text(0, 13, 'ABF1'),\n",
       "  Text(0, 14, 'ABF2'),\n",
       "  Text(0, 15, 'ABM1'),\n",
       "  Text(0, 16, 'ABP1'),\n",
       "  Text(0, 17, 'ABP140'),\n",
       "  Text(0, 18, 'ABZ1'),\n",
       "  Text(0, 19, 'ABZ2'),\n",
       "  Text(0, 20, 'ACA1'),\n",
       "  Text(0, 21, 'ACB1'),\n",
       "  Text(0, 22, 'ACC1'),\n",
       "  Text(0, 23, 'ACE2'),\n",
       "  Text(0, 24, 'ACF2'),\n",
       "  Text(0, 25, 'ACF4'),\n",
       "  Text(0, 26, 'ACH1'),\n",
       "  Text(0, 27, 'ACK1'),\n",
       "  Text(0, 28, 'ACL4'),\n",
       "  Text(0, 29, 'ACO1'),\n",
       "  Text(0, 30, 'ACO2'),\n",
       "  Text(0, 31, 'ACP1'),\n",
       "  Text(0, 32, 'ACS1'),\n",
       "  Text(0, 33, 'ACS2'),\n",
       "  Text(0, 34, 'ACT1'),\n",
       "  Text(0, 35, 'ADA2'),\n",
       "  Text(0, 36, 'ADD37'),\n",
       "  Text(0, 37, 'ADD66'),\n",
       "  Text(0, 38, 'ADE1'),\n",
       "  Text(0, 39, 'ADE12'),\n",
       "  Text(0, 40, 'ADE13'),\n",
       "  Text(0, 41, 'ADE16'),\n",
       "  Text(0, 42, 'ADE17'),\n",
       "  Text(0, 43, 'ADE2'),\n",
       "  Text(0, 44, 'ADE3'),\n",
       "  Text(0, 45, 'ADE4'),\n",
       "  Text(0, 46, 'ADE5,7'),\n",
       "  Text(0, 47, 'ADE6'),\n",
       "  Text(0, 48, 'ADE8'),\n",
       "  Text(0, 49, 'ADF1'),\n",
       "  Text(0, 50, 'ADH1'),\n",
       "  Text(0, 51, 'ADH2'),\n",
       "  Text(0, 52, 'ADH3'),\n",
       "  Text(0, 53, 'ADH4'),\n",
       "  Text(0, 54, 'ADH5'),\n",
       "  Text(0, 55, 'ADH6'),\n",
       "  Text(0, 56, 'ADH7'),\n",
       "  Text(0, 57, 'ADI1'),\n",
       "  Text(0, 58, 'ADK1'),\n",
       "  Text(0, 59, 'ADK2'),\n",
       "  Text(0, 60, 'ADO1'),\n",
       "  Text(0, 61, 'ADP1'),\n",
       "  Text(0, 62, 'ADR1'),\n",
       "  Text(0, 63, 'ADY2'),\n",
       "  Text(0, 64, 'ADY3'),\n",
       "  Text(0, 65, 'ADY4'),\n",
       "  Text(0, 66, 'AEP1'),\n",
       "  Text(0, 67, 'AEP2'),\n",
       "  Text(0, 68, 'AFB1'),\n",
       "  Text(0, 69, 'AFG1'),\n",
       "  Text(0, 70, 'AFG2'),\n",
       "  Text(0, 71, 'AFG3'),\n",
       "  Text(0, 72, 'AFI1'),\n",
       "  Text(0, 73, 'AFR1'),\n",
       "  Text(0, 74, 'AFT1'),\n",
       "  Text(0, 75, 'AGA1'),\n",
       "  Text(0, 76, 'AGA2'),\n",
       "  Text(0, 77, 'AGE1'),\n",
       "  Text(0, 78, 'AGE2'),\n",
       "  Text(0, 79, 'AGP1'),\n",
       "  Text(0, 80, 'AGP2'),\n",
       "  Text(0, 81, 'AGP3'),\n",
       "  Text(0, 82, 'AGX1'),\n",
       "  Text(0, 83, 'AHA1'),\n",
       "  Text(0, 84, 'AHC1'),\n",
       "  Text(0, 85, 'AHC2'),\n",
       "  Text(0, 86, 'AHP1'),\n",
       "  Text(0, 87, 'AHT1'),\n",
       "  Text(0, 88, 'AI1'),\n",
       "  Text(0, 89, 'AI2'),\n",
       "  Text(0, 90, 'AI3'),\n",
       "  Text(0, 91, 'AI4'),\n",
       "  Text(0, 92, 'AI5_ALPHA'),\n",
       "  Text(0, 93, 'AI5_BETA'),\n",
       "  Text(0, 94, 'AIF1'),\n",
       "  Text(0, 95, 'AIM10'),\n",
       "  Text(0, 96, 'AIM11'),\n",
       "  Text(0, 97, 'AIM14'),\n",
       "  Text(0, 98, 'AIM17'),\n",
       "  Text(0, 99, 'AIM18')])"
      ]
     },
     "execution_count": 200,
     "metadata": {},
     "output_type": "execute_result"
    },
    {
     "data": {
      "image/png": "[encoded data removed]",
      "text/plain": [
       "<Figure size 216x1440 with 1 Axes>"
      ]
     },
     "metadata": {
      "needs_background": "light"
     },
     "output_type": "display_data"
    }
   ],
   "source": [
    "fig, ax = plt.subplots(nrows=1, ncols=1, figsize=(3, 20))\n",
    "plt.imshow(matrix_differential_score[0:n,:], interpolation='nearest', cmap=plt.cm.Reds,aspect='auto')\n",
    "plt.xticks(range(len(backgrounds)), backgrounds,rotation=90)\n",
    "plt.yticks(range(n),all_genes_array_unique[0:n])\n",
    "\n",
    "\n",
    "#fig.savefig(\"../figures/fig_prototype_heatmap_domain_likelihood_score_per_background_2.png\",dpi=300)"
   ]
  },
  {
   "cell_type": "code",
   "execution_count": 201,
   "metadata": {},
   "outputs": [],
   "source": [
    "goi=[\"CLA4\",\"BEM2\",\"CDC24\",\"RDI1\",\"CDC10\",\"NRP1\",\"CDC42\",\"MEC1\",\"ACT1\"]\n",
    "tmp=[]\n",
    "for i in goi:\n",
    "    tmp.append(np.where(all_genes_array_unique==i)[0][0])"
   ]
  },
  {
   "cell_type": "code",
   "execution_count": 204,
   "metadata": {},
   "outputs": [
    {
     "data": {
      "text/plain": [
       "<AxesSubplot:>"
      ]
     },
     "execution_count": 204,
     "metadata": {},
     "output_type": "execute_result"
    },
    {
     "data": {
      "image/png": "[encoded data removed]",
      "text/plain": [
       "<Figure size 432x288 with 2 Axes>"
      ]
     },
     "metadata": {
      "needs_background": "light"
     },
     "output_type": "display_data"
    }
   ],
   "source": [
    "goi_matrix=matrix_differential_score[tmp,:]\n",
    "sns.heatmap(goi_matrix, xticklabels=backgrounds, yticklabels=goi, cmap=\"RdGy\", vmin=0, vmax=1,alpha=0.7)\n"
   ]
  },
  {
   "cell_type": "code",
   "execution_count": 197,
   "metadata": {},
   "outputs": [
    {
     "data": {
      "text/plain": [
       "value    0.149734\n",
       "Name: (wt_merged, ACT1), dtype: float64"
      ]
     },
     "execution_count": 197,
     "metadata": {},
     "output_type": "execute_result"
    }
   ],
   "source": [
    "scores_all_pd.loc[\"wt_merged\",\"ACT1\"]"
   ]
  },
  {
   "cell_type": "code",
   "execution_count": null,
   "metadata": {},
   "outputs": [],
   "source": [
    "## Validate the  predicted scores for WT with the annotated essential genes for WT"
   ]
  }
 ],
 "metadata": {
  "interpreter": {
   "hash": "4e417b9778b47a28d8b1724066397982bdf41da0689af0bd29246ac5809779c3"
  },
  "kernelspec": {
   "display_name": "Python 3.9.7 64-bit ('transposonmapper': conda)",
   "language": "python",
   "name": "python3"
  },
  "language_info": {
   "codemirror_mode": {
    "name": "ipython",
    "version": 3
   },
   "file_extension": ".py",
   "mimetype": "text/x-python",
   "name": "python",
   "nbconvert_exporter": "python",
   "pygments_lexer": "ipython3",
   "version": "3.9.7"
  },
  "orig_nbformat": 4
 },
 "nbformat": 4,
 "nbformat_minor": 2
}
