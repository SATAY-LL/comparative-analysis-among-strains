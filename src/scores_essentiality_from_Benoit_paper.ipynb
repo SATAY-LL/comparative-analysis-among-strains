{
 "cells": [
  {
   "cell_type": "code",
   "execution_count": 1,
   "metadata": {},
   "outputs": [],
   "source": [
    "import pandas as pd\n",
    "import numpy as np\n",
    "import matplotlib.pyplot as plt\n",
    "import seaborn as sns\n",
    "import os,sys\n",
    "from collections import defaultdict\n",
    "from ast import literal_eval\n",
    "\n",
    "from from_excel_to_list import from_excel_to_list\n"
   ]
  },
  {
   "cell_type": "markdown",
   "metadata": {},
   "source": [
    "## Flowchart with the idea of getting the domain likelihood scores (DLS)\n",
    "\n",
    "![](../figures/fig_flowchart_fitness-effects-of-mutating-gene-A.png)"
   ]
  },
  {
   "cell_type": "code",
   "execution_count": 2,
   "metadata": {},
   "outputs": [],
   "source": [
    "positions_float_pd=pd.read_csv(\"../postprocessed-data/genetic_positions_float_pd_all_backgrounds.csv\",converters={'Positions_float': literal_eval,'Ninsertions': literal_eval})\n",
    "positions_float_pd.rename(columns={'Unnamed: 0':'Gene name', \"Unnamed: 1\": \"background\"},inplace=True)\n",
    "\n",
    "discarded_genes_by_duplication=np.loadtxt(\"../postprocessed-data/discarded_genes_by_duplication.txt\",dtype=str)"
   ]
  },
  {
   "cell_type": "code",
   "execution_count": 4,
   "metadata": {},
   "outputs": [],
   "source": [
    "backgrounds= ['wt_merged','bem1-aid_a','bem1-aid_b','dbem1dbem3_a','dbem1dbem3_b',\n",
    "'dnrp1_merged','dbem3_merged']"
   ]
  },
  {
   "cell_type": "code",
   "execution_count": 5,
   "metadata": {},
   "outputs": [],
   "source": [
    "## Genes that the flanks regions across 3KB upstream and downstream do not contain any information.\n",
    "#### This genes are only computed for the backgrounds above , if we have new data we\n",
    "### should run this function again on that new dataset . for that go to src/transposons_outside_genes_refactor.ipynb : \n",
    "genes_out_by_neighborhood_pd=pd.read_excel(\"../postprocessed-data/genes_out_by_neighborhood.xlsx\",index_col=\"Unnamed: 0\")\n",
    "from from_excel_to_list import from_excel_to_list\n",
    "genes_out_float=defaultdict(dict)\n",
    "for key in backgrounds:\n",
    "   genes_out_float[\"sum upstream insertions\"][key] =from_excel_to_list(genes_out_by_neighborhood_pd.loc[key,\"sum upstream insertions\"])\n",
    "   genes_out_float[\"sum downstream insertions\"][key] =from_excel_to_list(genes_out_by_neighborhood_pd.loc[key,\"sum downstream insertions\"])\n",
    "   x=genes_out_by_neighborhood_pd.loc[key,\"discarded_genes_neighborhood\"]\n",
    "   x=x.replace('[', '')\n",
    "   x=x.replace(']', '')\n",
    "   x=x.replace('list(', '')\n",
    "   x=x.replace(')', '')\n",
    "   x=x.replace(\"'\", \"\")\n",
    "   x=x.replace(\" \", \"\")\n",
    "   x=x.split(',')\n",
    "   genes_out_float[\"discarded_genes_neighborhood\"][key]=x\n",
    "\n",
    "genes_out_float_pd=pd.DataFrame.from_dict(genes_out_float)\n",
    "\n",
    "genes_out_float_pd.loc[:,\"threshold coverage\"]=genes_out_by_neighborhood_pd.loc[:,\"threshold coverage\"]"
   ]
  },
  {
   "cell_type": "code",
   "execution_count": 6,
   "metadata": {},
   "outputs": [],
   "source": [
    "## Importing pergene files \n",
    "\n",
    "pergene_files=[]\n",
    "data_dir=\"../postprocessed-data/\"\n",
    "#data_dir=\"../transposonmapper/data_files/\"\n",
    "for root, dirs, files in os.walk(data_dir):\n",
    "    for file in files:\n",
    "        if file.endswith(\"pergene_insertions.xlsx\"):\n",
    "            pergene_files.append(os.path.join(root, file))\n",
    "\n",
    "list_data=[]\n",
    "for i in pergene_files:\n",
    "    list_data.append(pd.read_excel(i,engine='openpyxl',index_col=\"Unnamed: 0\"))\n",
    "\n",
    "keys=[]\n",
    "for i in np.arange(0,len(pergene_files)):\n",
    "    keys.append(pergene_files[i].split(\"/\")[-1].split(\"_\")[0]+\"_\"+pergene_files[i].split(\"/\")[-1].split(\"_\")[1])\n",
    "\n",
    "list_data_pd=pd.concat(list_data,axis=0,keys=keys)\n",
    "\n",
    "\n"
   ]
  },
  {
   "cell_type": "code",
   "execution_count": 6,
   "metadata": {},
   "outputs": [
    {
     "data": {
      "text/plain": [
       "5805    244606\n",
       "Name: Insertions, dtype: int64"
      ]
     },
     "execution_count": 6,
     "metadata": {},
     "output_type": "execute_result"
    }
   ],
   "source": [
    "a=list_data_pd.loc[\"wt_merged\"]\n",
    "b=a[a.loc[:,\"Gene name\"]==\"ADE2\"][\"Insertions\"]\n",
    "a[\"Insertions\"].sum()-b"
   ]
  },
  {
   "cell_type": "markdown",
   "metadata": {},
   "source": [
    "### Discard the genes that contain one insertion with one read"
   ]
  },
  {
   "cell_type": "code",
   "execution_count": 7,
   "metadata": {},
   "outputs": [],
   "source": [
    "## Discard insertions within the genes that have one read\n",
    "\n",
    "## The idea is that those insertions are noisy insertions and dont give any information. \n",
    "\n",
    "# prototype\n",
    "\n",
    "a_0_reads=from_excel_to_list(a[\"Reads per insertion location\"][0])\n",
    "\n",
    "## get locations of the reads that are equal to 1\n",
    "\n",
    "## discard the insertion at that location and the reads at that location"
   ]
  },
  {
   "cell_type": "code",
   "execution_count": 21,
   "metadata": {},
   "outputs": [],
   "source": [
    "## Data from the trimmed dataset \n",
    "\n",
    "a=list_data_pd.loc[\"dbem3_a-trimmed\"]\n",
    "a.index=a.loc[:,\"Gene name\"]"
   ]
  },
  {
   "cell_type": "markdown",
   "metadata": {},
   "source": [
    "## Import Benoit's data to validate our scores implementation and find out the differences with my results"
   ]
  },
  {
   "cell_type": "code",
   "execution_count": 24,
   "metadata": {},
   "outputs": [],
   "source": [
    "benoit_wt_1=list_data_pd.loc[\"WT_1\"]\n",
    "benoit_wt_2=list_data_pd.loc[\"WT_2\"]\n",
    "\n",
    "benoit_wt_1.index=benoit_wt_1.loc[:,\"Gene name\"]\n",
    "benoit_wt_2.index=benoit_wt_2.loc[:,\"Gene name\"]"
   ]
  },
  {
   "cell_type": "code",
   "execution_count": 9,
   "metadata": {},
   "outputs": [
    {
     "data": {
      "text/plain": [
       "(230694, 256495)"
      ]
     },
     "execution_count": 9,
     "metadata": {},
     "output_type": "execute_result"
    }
   ],
   "source": [
    "benoit_wt_1.loc[:,\"Insertions\"].sum(),benoit_wt_2.loc[:,\"Insertions\"].sum()"
   ]
  },
  {
   "cell_type": "code",
   "execution_count": 10,
   "metadata": {},
   "outputs": [
    {
     "data": {
      "text/plain": [
       "487189"
      ]
     },
     "execution_count": 10,
     "metadata": {},
     "output_type": "execute_result"
    }
   ],
   "source": [
    "benoit_wt_2.loc[:,\"Insertions\"].sum()+benoit_wt_1.loc[:,\"Insertions\"].sum()"
   ]
  },
  {
   "cell_type": "code",
   "execution_count": 11,
   "metadata": {},
   "outputs": [
    {
     "data": {
      "text/plain": [
       "246538"
      ]
     },
     "execution_count": 11,
     "metadata": {},
     "output_type": "execute_result"
    }
   ],
   "source": [
    "list_data_pd.loc[\"wt_merged\"].loc[:,\"Insertions\"].sum()"
   ]
  },
  {
   "cell_type": "markdown",
   "metadata": {},
   "source": [
    "## Strategy for scoring essentiality (Benoit method paper: https://elifesciences.org/articles/23570/figures#fig2s1)\n",
    "\n",
    "- Compute the longest interval in the gene free of transposons insertions (L)\n",
    "- Extract the number of insertions for that gene (N)\n",
    "- Extract the gene length (l)\n",
    "- Compute the score as:\n",
    "    score= L*N/(l ^(1.5))\n",
    "    score == 0 if \n",
    "    - N<20 OR\n",
    "    - L>90 of l OR\n",
    "    - L<10 of l OR\n",
    "    - L<300bp\n",
    "\n",
    "    \n",
    "  "
   ]
  },
  {
   "cell_type": "code",
   "execution_count": 7,
   "metadata": {},
   "outputs": [],
   "source": [
    "from functions_scores_essentiality import get_genes_names_for_essentiality\n",
    "from functions_scores_essentiality import get_essentiality_score_per_gene_per_background\n",
    "from functions_scores_essentiality import exclude_genes_with_one_or_two_reads\n",
    "from functions_scores_essentiality import get_no_duplicates_gene_names"
   ]
  },
  {
   "cell_type": "code",
   "execution_count": 25,
   "metadata": {},
   "outputs": [],
   "source": [
    "scores_benoit=[]\n",
    "\n",
    "for key,index in zip([\"WT_1\",\"WT_2\"],[benoit_wt_1.index,benoit_wt_2.index]) :\n",
    "    scores=get_essentiality_score_per_gene_per_background(index,key,list_data_pd)\n",
    "    tmp=pd.DataFrame.from_dict(scores)\n",
    "    scores_benoit.append(tmp)\n",
    "\n",
    "scores_benoit_pd=pd.concat(scores_benoit,axis=0,keys=[\"WT_1\",\"WT_2\"])"
   ]
  },
  {
   "cell_type": "code",
   "execution_count": 8,
   "metadata": {},
   "outputs": [],
   "source": [
    "backgrounds=['wt_merged','dbem3_merged',\"dbem3_a-trimmed\"]"
   ]
  },
  {
   "cell_type": "code",
   "execution_count": 9,
   "metadata": {},
   "outputs": [],
   "source": [
    "## Loop over all the backgrounds\n",
    "scores_all=[]\n",
    "# discard genes only if they duplicated (considering the WT background)\n",
    "useful_genes=get_no_duplicates_gene_names(list_data_pd,discarded_genes_by_duplication)\n",
    "\n",
    "for key in backgrounds:\n",
    "    \n",
    "    # discard genes that are duplicated and the neighborhoud has low coverage\n",
    "    #useful_genes=get_genes_names_for_essentiality(list_data_pd,discarded_genes_by_duplication,genes_out_float_pd,key)\n",
    "    \n",
    "   \n",
    "    scores=get_essentiality_score_per_gene_per_background(useful_genes,key,list_data_pd)\n",
    "    tmp=pd.DataFrame.from_dict(scores)\n",
    "    scores_all.append(tmp)\n",
    "\n"
   ]
  },
  {
   "cell_type": "code",
   "execution_count": 10,
   "metadata": {},
   "outputs": [
    {
     "data": {
      "text/html": [
       "<div>\n",
       "<style scoped>\n",
       "    .dataframe tbody tr th:only-of-type {\n",
       "        vertical-align: middle;\n",
       "    }\n",
       "\n",
       "    .dataframe tbody tr th {\n",
       "        vertical-align: top;\n",
       "    }\n",
       "\n",
       "    .dataframe thead th {\n",
       "        text-align: right;\n",
       "    }\n",
       "</style>\n",
       "<table border=\"1\" class=\"dataframe\">\n",
       "  <thead>\n",
       "    <tr style=\"text-align: right;\">\n",
       "      <th></th>\n",
       "      <th></th>\n",
       "      <th>value</th>\n",
       "    </tr>\n",
       "  </thead>\n",
       "  <tbody>\n",
       "    <tr>\n",
       "      <th rowspan=\"5\" valign=\"top\">wt_merged</th>\n",
       "      <th>AAC1</th>\n",
       "      <td>0.385231</td>\n",
       "    </tr>\n",
       "    <tr>\n",
       "      <th>AAC3</th>\n",
       "      <td>0.309184</td>\n",
       "    </tr>\n",
       "    <tr>\n",
       "      <th>AAD10</th>\n",
       "      <td>0.470756</td>\n",
       "    </tr>\n",
       "    <tr>\n",
       "      <th>AAD14</th>\n",
       "      <td>0.290427</td>\n",
       "    </tr>\n",
       "    <tr>\n",
       "      <th>AAD15</th>\n",
       "      <td>0.000000</td>\n",
       "    </tr>\n",
       "    <tr>\n",
       "      <th>...</th>\n",
       "      <th>...</th>\n",
       "      <td>...</td>\n",
       "    </tr>\n",
       "    <tr>\n",
       "      <th rowspan=\"5\" valign=\"top\">dbem3_a-trimmed</th>\n",
       "      <th>ZRT2</th>\n",
       "      <td>0.330349</td>\n",
       "    </tr>\n",
       "    <tr>\n",
       "      <th>ZRT3</th>\n",
       "      <td>0.334537</td>\n",
       "    </tr>\n",
       "    <tr>\n",
       "      <th>ZTA1</th>\n",
       "      <td>0.268886</td>\n",
       "    </tr>\n",
       "    <tr>\n",
       "      <th>ZUO1</th>\n",
       "      <td>0.276178</td>\n",
       "    </tr>\n",
       "    <tr>\n",
       "      <th>ZWF1</th>\n",
       "      <td>0.367690</td>\n",
       "    </tr>\n",
       "  </tbody>\n",
       "</table>\n",
       "<p>19473 rows × 1 columns</p>\n",
       "</div>"
      ],
      "text/plain": [
       "                          value\n",
       "wt_merged       AAC1   0.385231\n",
       "                AAC3   0.309184\n",
       "                AAD10  0.470756\n",
       "                AAD14  0.290427\n",
       "                AAD15  0.000000\n",
       "...                         ...\n",
       "dbem3_a-trimmed ZRT2   0.330349\n",
       "                ZRT3   0.334537\n",
       "                ZTA1   0.268886\n",
       "                ZUO1   0.276178\n",
       "                ZWF1   0.367690\n",
       "\n",
       "[19473 rows x 1 columns]"
      ]
     },
     "execution_count": 10,
     "metadata": {},
     "output_type": "execute_result"
    }
   ],
   "source": [
    "#### Scores  ##############\n",
    "\n",
    "## The highest the score is the highest the likelihood to be essential because it will \n",
    "# contain clear domains void of transposons . If this score is equal zero we dont have information about\n",
    "# the essentiality of the gene. \n",
    "\n",
    "scores_all_pd=pd.concat(scores_all,axis=0,keys=backgrounds) \n",
    "\n",
    "scores_all_pd.sort_values(by=\"value\",ascending=False,inplace=False)\n",
    "scores_all_pd"
   ]
  },
  {
   "cell_type": "code",
   "execution_count": 16,
   "metadata": {},
   "outputs": [],
   "source": [
    "#scores_all_pd.to_excel(\"../postprocessed-data/scores_essentiality_from_Benoit_paper_all_backgrounds.xlsx\")"
   ]
  },
  {
   "cell_type": "code",
   "execution_count": 17,
   "metadata": {},
   "outputs": [],
   "source": [
    "a_wt=scores_all_pd.loc[\"wt_merged\",\"value\"]\n",
    "a_bem1=scores_all_pd.loc[\"bem1-aid_b\",\"value\"]\n",
    "a_bem1_bem3=scores_all_pd.loc[\"dbem1dbem3_b\",\"value\"]\n",
    "predicted_essentials_wt=a_wt[a_wt>np.max(a_wt)/4].index\n",
    "predicted_essentials_bem1=a_bem1[a_bem1>np.max(a_bem1)/4].index\n",
    "predicted_essentials_bem1_bem3=a_bem1_bem3[a_bem1_bem3>np.max(a_bem1_bem3)/4].index\n",
    "\n",
    "## Different genes per background (lost and gaine essentiality)\n",
    "diff_wt_bem1=np.setdiff1d(predicted_essentials_wt,predicted_essentials_bem1) # lost essentials from WT\n",
    "diff_bem1_wt=np.setdiff1d(predicted_essentials_bem1,predicted_essentials_wt) # gained essentials from WT\n",
    "diff_bem1_bem3_bem1=np.setdiff1d(predicted_essentials_bem1_bem3,predicted_essentials_bem1) # gained essentials from dbem1\n",
    "diff_bem1_bem1_bem3=np.setdiff1d(predicted_essentials_bem1,predicted_essentials_bem1_bem3) # lost essentials from dbem1"
   ]
  },
  {
   "cell_type": "code",
   "execution_count": 16,
   "metadata": {},
   "outputs": [],
   "source": [
    "## Matrix where the rows are the unique genes from the scores and the columns are the backgrounds.\n",
    "# Fill the value of the score per gene per background. \n",
    "\n",
    "all_genes=[]\n",
    "\n",
    "for key in backgrounds:\n",
    "    all_genes.append(scores_all_pd.loc[key][\"value\"].index)\n",
    "\n",
    "all_genes_array=np.concatenate( all_genes, axis=0)\n",
    "all_genes_array_unique=np.unique(all_genes_array)\n",
    "\n",
    "matrix_differential_score=np.zeros((len(all_genes_array_unique),len(backgrounds)))\n",
    "for k in np.arange(0,len(all_genes_array_unique)):\n",
    "    for i in np.arange(0,len(backgrounds)):\n",
    "        if all_genes_array_unique[k] in scores_all_pd.loc[backgrounds[i]][\"value\"].index:\n",
    "            tmp= scores_all_pd.loc[backgrounds[i],all_genes_array_unique[k] ][\"value\"]\n",
    "            if tmp!=0: \n",
    "                matrix_differential_score[k,i]=tmp\n",
    "            "
   ]
  },
  {
   "cell_type": "code",
   "execution_count": 11,
   "metadata": {},
   "outputs": [],
   "source": [
    "# import essential genes used in transposonmapper\n",
    "\n",
    "essentials_satay=pd.read_csv(\"../postprocessed-data/Cerevisiae_AllEssentialGenes_List.txt\",header=0\n",
    ",sep=\"\\t\")\n",
    "\n",
    "essentials_satay.columns=[\"gene name\"]\n",
    "\n",
    "# import conversion file from systematic names to standard names \n",
    "conversion=pd.read_csv(\"../postprocessed-data/from_systematic_genenames2standard_genenames.csv\",\n",
    "header=0,sep=\",\")\n",
    "\n",
    "conversion.columns=[\"systematic name\",\"standard  name\"]\n",
    "\n",
    "# save the standard names of the essential genes in a systematic format\n",
    "standard_essentials=[]\n",
    "for names in essentials_satay.loc[:,\"gene name\"]:\n",
    "    \n",
    "    if names in conversion[\"systematic name\"].values:\n",
    "        standard_essentials.append(conversion.loc[conversion[\"systematic name\"]==names][\"standard  name\"].values[0])\n",
    "\n",
    "from functions_scores_essentiality import write_ones_if_essential\n",
    "\n",
    "scores_wt=write_ones_if_essential(scores_all_pd,\"wt_merged\",standard_essentials)\n",
    "scores_trimmed=write_ones_if_essential(scores_all_pd,\"dbem3_a-trimmed\",standard_essentials)\n",
    "\n",
    "# scores_wt_1=scores_benoit_pd.loc[\"WT_1\"]\n",
    "# scores_wt_2=scores_benoit_pd.loc[\"WT_2\"]\n",
    "\n",
    "# scores_wt_1=write_ones_if_essential(scores_benoit_pd,\"WT_1\",standard_essentials)\n",
    "# scores_wt_2=write_ones_if_essential(scores_benoit_pd,\"WT_2\",standard_essentials)\n",
    "\n",
    "\n"
   ]
  },
  {
   "cell_type": "code",
   "execution_count": 12,
   "metadata": {},
   "outputs": [
    {
     "data": {
      "text/html": [
       "<div>\n",
       "<style scoped>\n",
       "    .dataframe tbody tr th:only-of-type {\n",
       "        vertical-align: middle;\n",
       "    }\n",
       "\n",
       "    .dataframe tbody tr th {\n",
       "        vertical-align: top;\n",
       "    }\n",
       "\n",
       "    .dataframe thead th {\n",
       "        text-align: right;\n",
       "    }\n",
       "</style>\n",
       "<table border=\"1\" class=\"dataframe\">\n",
       "  <thead>\n",
       "    <tr style=\"text-align: right;\">\n",
       "      <th></th>\n",
       "      <th>value</th>\n",
       "      <th>true essential</th>\n",
       "    </tr>\n",
       "  </thead>\n",
       "  <tbody>\n",
       "    <tr>\n",
       "      <th>AI2</th>\n",
       "      <td>1.309433</td>\n",
       "      <td>0.0</td>\n",
       "    </tr>\n",
       "    <tr>\n",
       "      <th>RSC30</th>\n",
       "      <td>1.182972</td>\n",
       "      <td>0.0</td>\n",
       "    </tr>\n",
       "    <tr>\n",
       "      <th>EGD1</th>\n",
       "      <td>1.070859</td>\n",
       "      <td>0.0</td>\n",
       "    </tr>\n",
       "    <tr>\n",
       "      <th>AI1</th>\n",
       "      <td>1.069799</td>\n",
       "      <td>0.0</td>\n",
       "    </tr>\n",
       "    <tr>\n",
       "      <th>YFL021C-A</th>\n",
       "      <td>1.065366</td>\n",
       "      <td>0.0</td>\n",
       "    </tr>\n",
       "    <tr>\n",
       "      <th>...</th>\n",
       "      <td>...</td>\n",
       "      <td>...</td>\n",
       "    </tr>\n",
       "    <tr>\n",
       "      <th>YDR271C</th>\n",
       "      <td>0.000000</td>\n",
       "      <td>0.0</td>\n",
       "    </tr>\n",
       "    <tr>\n",
       "      <th>YDR269C</th>\n",
       "      <td>0.000000</td>\n",
       "      <td>0.0</td>\n",
       "    </tr>\n",
       "    <tr>\n",
       "      <th>RRT5</th>\n",
       "      <td>0.000000</td>\n",
       "      <td>0.0</td>\n",
       "    </tr>\n",
       "    <tr>\n",
       "      <th>YDR250C</th>\n",
       "      <td>0.000000</td>\n",
       "      <td>0.0</td>\n",
       "    </tr>\n",
       "    <tr>\n",
       "      <th>AAC1</th>\n",
       "      <td>0.000000</td>\n",
       "      <td>0.0</td>\n",
       "    </tr>\n",
       "  </tbody>\n",
       "</table>\n",
       "<p>6487 rows × 2 columns</p>\n",
       "</div>"
      ],
      "text/plain": [
       "              value  true essential\n",
       "AI2        1.309433             0.0\n",
       "RSC30      1.182972             0.0\n",
       "EGD1       1.070859             0.0\n",
       "AI1        1.069799             0.0\n",
       "YFL021C-A  1.065366             0.0\n",
       "...             ...             ...\n",
       "YDR271C    0.000000             0.0\n",
       "YDR269C    0.000000             0.0\n",
       "RRT5       0.000000             0.0\n",
       "YDR250C    0.000000             0.0\n",
       "AAC1       0.000000             0.0\n",
       "\n",
       "[6487 rows x 2 columns]"
      ]
     },
     "execution_count": 12,
     "metadata": {},
     "output_type": "execute_result"
    }
   ],
   "source": [
    "scores_trimmed.sort_values(by=\"value\",ascending=False,inplace=False)"
   ]
  },
  {
   "cell_type": "code",
   "execution_count": 45,
   "metadata": {},
   "outputs": [
    {
     "data": {
      "text/plain": [
       "(3186, 4000, 3737)"
      ]
     },
     "execution_count": 45,
     "metadata": {},
     "output_type": "execute_result"
    }
   ],
   "source": [
    "## Scores equal to zero\n",
    "# len(scores_wt[scores_wt.loc[:,\"value\"]==0]),len(scores_wt_1[scores_wt_1.loc[:,\"value\"]==0]),len(scores_wt_2[scores_wt_2.loc[:,\"value\"]==0])"
   ]
  },
  {
   "cell_type": "code",
   "execution_count": 21,
   "metadata": {},
   "outputs": [],
   "source": [
    "## Validate the  predicted scores for WT with the annotated essential genes for WT\n",
    "\n",
    "# import true essential genes from DEG http://origin.tubic.org/deg/public/index.php/organism/eukaryotes/DEG2001.html\n",
    "# true_essentials=pd.read_csv(\"../postprocessed-data/essentials_genes_yeast.txt\",header=None)\n",
    "# true_essentials.columns=[\"gene_name\"]\n",
    "# # compare \n",
    "# predicted_essentials_wt=scores_all_pd.loc[\"wt_merged\",\"value\"].index\n",
    "# scores_wt=scores_all_pd.loc[\"wt_merged\",:]\n",
    "# for true_genes in true_essentials[\"gene_name\"]:\n",
    "#     if true_genes in scores_wt.index:\n",
    "#         scores_wt.loc[true_genes,\"true essential\"]=1\n",
    "    \n",
    "# scores_wt.fillna(0,inplace=True)"
   ]
  },
  {
   "cell_type": "code",
   "execution_count": 22,
   "metadata": {},
   "outputs": [
    {
     "name": "stdout",
     "output_type": "stream",
     "text": [
      "The number of predicted essential genes for WT that are also annotated as essential genes is: 296 which means  27.35674676524954 %\n",
      "The number of non predicted essential genes, because they dont have essential domains, for WT that are  annotated as essential genes is: 584 which means  53.97412199630314 %\n",
      "The number of predicted essential genes for WT  is: 2449\n",
      "The number of annotated essential genes for WT  is: 1082\n"
     ]
    }
   ],
   "source": [
    "len_predicted_essentials_domains=len(scores_wt[(scores_wt[\"true essential\"]==1) \n",
    "& (scores_wt[\"value\"]>np.max(scores_wt[\"value\"])/4)])\n",
    "\n",
    "len_true_essentials=len(scores_wt[scores_wt[\"true essential\"]==1])\n",
    "\n",
    "print(\"The number of predicted essential genes for WT that are also annotated as essential genes is:\",\n",
    "len_predicted_essentials_domains,\"which means \",100*len_predicted_essentials_domains/len_true_essentials,\"%\")\n",
    "\n",
    "print(\"The number of non predicted essential genes, because they dont have essential domains, for WT that are  annotated as essential genes is:\",\n",
    "len(scores_wt[(scores_wt[\"true essential\"]==1) & (scores_wt[\"value\"]==0)]),\n",
    "\"which means \",100*len(scores_wt[(scores_wt[\"true essential\"]==1) & (scores_wt[\"value\"]==0)])/len(scores_wt[scores_wt[\"true essential\"]==1]),\n",
    "\"%\")\n",
    "\n",
    "print(\"The number of predicted essential genes for WT  is:\",len(predicted_essentials_wt))\n",
    "\n",
    "print(\"The number of annotated essential genes for WT  is:\",\n",
    "len(scores_wt[scores_wt[\"true essential\"]==1]))"
   ]
  },
  {
   "cell_type": "markdown",
   "metadata": {},
   "source": [
    "## Visualizations"
   ]
  },
  {
   "cell_type": "code",
   "execution_count": 23,
   "metadata": {},
   "outputs": [
    {
     "data": {
      "image/png": "[encoded data removed]",
      "text/plain": [
       "<Figure size 360x360 with 1 Axes>"
      ]
     },
     "metadata": {
      "needs_background": "light"
     },
     "output_type": "display_data"
    }
   ],
   "source": [
    "## Difference between benoit scores and mine\n",
    "\n",
    "a=scores_wt[\"value\"].values # wt_merged Leila data \n",
    "b=scores_wt_2[\"value\"].values[0:len(a)] # benoit\n",
    "g=sns.displot(a-b,bins=50,kde=True);\n",
    "plt.xlabel(\"WT-merged_score-WT_1_benoit_score\")\n",
    "sns.set(font_scale=1)\n",
    "#plt.savefig(\"../figures/fig_histplot_benoit_vs_mine_wt_merged.png\")"
   ]
  },
  {
   "cell_type": "code",
   "execution_count": 14,
   "metadata": {},
   "outputs": [
    {
     "data": {
      "text/plain": [
       "<matplotlib.legend.Legend at 0x7f92a9155430>"
      ]
     },
     "execution_count": 14,
     "metadata": {},
     "output_type": "execute_result"
    },
    {
     "data": {
      "image/png": "[encoded data removed]",
      "text/plain": [
       "<Figure size 432x288 with 1 Axes>"
      ]
     },
     "metadata": {
      "needs_background": "light"
     },
     "output_type": "display_data"
    }
   ],
   "source": [
    "#sns.histplot(scores_wt_2.loc[:,\"value\"],bins=50,kde=True,label=\"WT_1_Benoit\");\n",
    "sns.histplot(scores_wt.loc[:,\"value\"],bins=50,kde=True,color=\"purple\",label=\"WT_merged\");\n",
    "sns.histplot(scores_trimmed.loc[:,\"value\"],bins=50,kde=True,color=\"green\",label=\"dbem3_a-trimmed\");\n",
    "plt.legend()\n",
    "#plt.savefig(\"../figures/fig_histplot_benoit_vs_mine_wt_1.png\")"
   ]
  },
  {
   "cell_type": "code",
   "execution_count": 25,
   "metadata": {},
   "outputs": [
    {
     "data": {
      "image/png": "[encoded data removed]",
      "text/plain": [
       "<Figure size 360x360 with 1 Axes>"
      ]
     },
     "metadata": {},
     "output_type": "display_data"
    }
   ],
   "source": [
    "## Plot of how essential genes vary across backgrounds\n",
    "fig, ax = plt.subplots(nrows=1, ncols=1, figsize=(5,5))\n",
    "values=[len(predicted_essentials_wt),len(predicted_essentials_bem1),\n",
    "len(predicted_essentials_bem1_bem3)]\n",
    "\n",
    "labels=[\"WT\",\"dbem1\",\"dbem1dbem3\"]\n",
    "\n",
    "plt.plot(labels,values,\"ro--\",alpha=0.5,markersize=13)\n",
    "plt.ylabel(\"# of predicted essential genes because they contain an essential domain\")\n",
    "plt.grid()\n",
    "\n",
    "#fig.savefig(\"../figures/fig_number_of_essential_genes_varying_backgrounds.png\",dpi=300)"
   ]
  },
  {
   "cell_type": "code",
   "execution_count": 26,
   "metadata": {},
   "outputs": [
    {
     "data": {
      "image/png": "[encoded data removed]",
      "text/plain": [
       "<Figure size 1800x360 with 7 Axes>"
      ]
     },
     "metadata": {},
     "output_type": "display_data"
    }
   ],
   "source": [
    "## Distributions of the scores per backgrounds\n",
    "\n",
    "fig, ax = plt.subplots(nrows=1, ncols=len(backgrounds), figsize=(25, 5))\n",
    "cm = plt.cm.get_cmap('RdYlBu_r')\n",
    "#color=cm(i/len(backgrounds))\n",
    "for i in np.arange(0,len(backgrounds)):\n",
    "    \n",
    "    ax[i].hist(scores_all_pd.loc[backgrounds[i]][\"value\"], bins=50, alpha=0.8, label=backgrounds[i], color=\"black\")\n",
    "    # plt.legend(loc='upper right')\n",
    "    ax[i].set_xlim([0,1.3])\n",
    "    ax[i].set_ylim([0,300])\n",
    "    ax[i].set_xlabel('Domain likelihood score')\n",
    "\n",
    "\n",
    "    ax[i].legend(loc='upper right')\n",
    "\n",
    "#fig.savefig(\"../figures/fig_histogram_domain_likelihood_score_per_background.png\",dpi=300)"
   ]
  },
  {
   "cell_type": "code",
   "execution_count": 27,
   "metadata": {},
   "outputs": [
    {
     "data": {
      "text/plain": [
       "<matplotlib.legend.Legend at 0x7f11e17bbac0>"
      ]
     },
     "execution_count": 27,
     "metadata": {},
     "output_type": "execute_result"
    },
    {
     "data": {
      "image/png": "[encoded data removed]",
      "text/plain": [
       "<Figure size 720x360 with 2 Axes>"
      ]
     },
     "metadata": {},
     "output_type": "display_data"
    }
   ],
   "source": [
    "## Differences in score between replicates histogram\n",
    "fig, ax = plt.subplots(nrows=1, ncols=2, figsize=(10, 5))\n",
    "cm = plt.cm.get_cmap('RdYlBu_r')\n",
    "#color=cm(i/len(backgrounds))\n",
    "tmp=np.abs(scores_all_pd.loc[\"bem1-aid_a\"][\"value\"]-scores_all_pd.loc[\"bem1-aid_b\"][\"value\"])\n",
    "ax[0].hist(tmp, bins=100, alpha=0.8, label=\"dbem1-differences\", color=\"black\")\n",
    "# plt.legend(loc='upper right')\n",
    "ax[0].set_xlim([-0.05,1.3])\n",
    "ax[0].set_ylim([0,300])\n",
    "ax[0].set_xlabel('Domain likelihood score difference')\n",
    "ax[0].legend(loc='upper right')\n",
    "\n",
    "tmp=np.abs(scores_all_pd.loc[\"dbem1dbem3_a\"][\"value\"]-scores_all_pd.loc[\"dbem1dbem3_b\"][\"value\"])\n",
    "ax[1].hist(tmp, bins=50, alpha=0.8, label=\"dbem1dbem3-differences\", color=\"black\")\n",
    "# plt.legend(loc='upper right')\n",
    "ax[1].set_xlim([-0.05,1.3])\n",
    "ax[1].set_ylim([0,300])\n",
    "ax[1].set_xlabel('Domain likelihood score difference')\n",
    "ax[1].legend(loc='upper right')\n",
    "    \n",
    "#fig.savefig(\"../figures/fig_histogram_domain_likelihood_score_differences_between_backgrounds.png\",dpi=300)"
   ]
  },
  {
   "cell_type": "code",
   "execution_count": 28,
   "metadata": {},
   "outputs": [],
   "source": [
    "## Differences in score between replicates scatter\n",
    "\n",
    "# fig, ax = plt.subplots(nrows=1, ncols=2, figsize=(10, 5))\n",
    "\n",
    "# ax[0].scatter(scores_all_pd.loc[\"bem1-aid_a\"][\"value\"][0:6239],scores_all_pd.loc[\"bem1-aid_b\"][\"value\"],color=\"black\",alpha=0.5,label=\"dbem1-replicates\")\n",
    "# ax[1].scatter(scores_all_pd.loc[\"dbem1dbem3_a\"][\"value\"][0:6220],scores_all_pd.loc[\"dbem1dbem3_b\"][\"value\"],color=\"black\",alpha=0.5,label=\"dbem1dbem3-replicates\")\n",
    "\n",
    "# ax[0].set_xlim([0,1.3])\n",
    "# ax[0].set_ylim([0,1.3])\n",
    "# ax[0].set_xlabel('dbem1_a scores')\n",
    "# ax[0].set_ylabel('dbem1_b scores')\n",
    "\n",
    "# ax[1].set_xlim([0,1.3])\n",
    "# ax[1].set_ylim([0,1.3])\n",
    "# ax[1].set_xlabel('dbem1dbem3_a scores')\n",
    "# ax[1].set_ylabel('dbem1dbem3_b scores')\n",
    "\n",
    "#fig.savefig(\"../figures/fig_scatter_domain_likelihood_score_differences_between_backgrounds.png\",dpi=300)"
   ]
  },
  {
   "cell_type": "code",
   "execution_count": 17,
   "metadata": {},
   "outputs": [
    {
     "data": {
      "image/png": "[encoded data removed]",
      "text/plain": [
       "<Figure size 360x360 with 2 Axes>"
      ]
     },
     "metadata": {
      "needs_background": "light"
     },
     "output_type": "display_data"
    }
   ],
   "source": [
    "## heatmap variation of scores with backgrounds\n",
    "fig, ax = plt.subplots(nrows=1, ncols=1, figsize=(5, 5))\n",
    "\n",
    "n=20\n",
    "sns.heatmap(matrix_differential_score[0:n,:], xticklabels=backgrounds,\n",
    "yticklabels=all_genes_array_unique[0:n], cmap=\"seismic\", vmin=0, vmax=1.5)\n",
    "plt.tight_layout()\n",
    "#fig.savefig(\"../figures/fig_prototype_heatmap_domain_likelihood_score_per_background.png\",dpi=300)"
   ]
  },
  {
   "cell_type": "code",
   "execution_count": 18,
   "metadata": {},
   "outputs": [
    {
     "data": {
      "image/png": "[encoded data removed]",
      "text/plain": [
       "<Figure size 216x720 with 2 Axes>"
      ]
     },
     "metadata": {
      "needs_background": "light"
     },
     "output_type": "display_data"
    }
   ],
   "source": [
    "## heatmap variation of scores with backgrounds with imshow\n",
    "n=20\n",
    "fig, ax = plt.subplots(nrows=1, ncols=1, figsize=(3, 10))\n",
    "plt.imshow(matrix_differential_score[n:2*n,:], interpolation='nearest', cmap=plt.cm.Reds)\n",
    "plt.xticks(range(len(backgrounds)), backgrounds,rotation=90);\n",
    "plt.yticks(range(n),all_genes_array_unique[n:2*n]);\n",
    "\n",
    "plt.colorbar();\n",
    "plt.tight_layout();\n",
    "# fig.savefig(\"../figures/fig_prototype_heatmap_domain_likelihood_score_per_background_100_200.png\",dpi=300)"
   ]
  },
  {
   "cell_type": "code",
   "execution_count": 19,
   "metadata": {},
   "outputs": [
    {
     "data": {
      "image/png": "[encoded data removed]",
      "text/plain": [
       "<Figure size 432x288 with 2 Axes>"
      ]
     },
     "metadata": {
      "needs_background": "light"
     },
     "output_type": "display_data"
    }
   ],
   "source": [
    "#fig, ax = plt.subplots(nrows=1, ncols=1, figsize=(5,5))\n",
    "\n",
    "goi=[\"CLA4\",\"BEM2\",\"CDC24\",\"RDI1\",\"CDC10\",\"NRP1\",\"CDC42\",\"MEC1\",\"ACT1\",\"BEM1\"]\n",
    "tmp=[]\n",
    "for i in goi:\n",
    "    tmp.append(np.where(all_genes_array_unique==i)[0][0])\n",
    "\n",
    "goi_matrix=matrix_differential_score[tmp,:]\n",
    "sns.heatmap(goi_matrix, xticklabels=backgrounds, yticklabels=goi, \n",
    "cmap=\"RdGy\", vmin=0, vmax=1,alpha=0.8,annot_kws={\"fontsize\":4})\n",
    "sns.set(font_scale=1) # font size 2\n",
    "\n",
    "#g.savefig(\"../figures/fig_heatmap_domain_likelihood_score_per_background_goi.png\",dpi=300)\n"
   ]
  },
  {
   "cell_type": "code",
   "execution_count": 20,
   "metadata": {},
   "outputs": [
    {
     "data": {
      "text/plain": [
       "Text(0.5, 1.0, 'Essentials genes')"
      ]
     },
     "execution_count": 20,
     "metadata": {},
     "output_type": "execute_result"
    },
    {
     "data": {
      "image/png": "[encoded data removed]",
      "text/plain": [
       "<Figure size 720x144 with 2 Axes>"
      ]
     },
     "metadata": {},
     "output_type": "display_data"
    }
   ],
   "source": [
    "## Plot the essential genes vs scores on top of each other bar plot\n",
    "\n",
    "fig,ax=plt.subplots(nrows=2,ncols=1,figsize=(10,2))\n",
    "\n",
    "plt.subplots_adjust(hspace=0.01)\n",
    "\n",
    "import matplotlib.cm as cm\n",
    "from matplotlib.cm import ScalarMappable\n",
    "\n",
    "#data=scores_wt\n",
    "data=scores_trimmed\n",
    "N=len(data)\n",
    "\n",
    "#N=1000\n",
    "# Create fake data\n",
    "X = np.linspace(0,N,N)\n",
    "Y = data.loc[:,\"value\"][0:N]\n",
    "\n",
    "# Pick a cmap\n",
    "cmap = cm.get_cmap('jet')\n",
    "\n",
    "i=0\n",
    "data_colors=[]\n",
    "for x0,x1 in zip(Y,Y[1:]):\n",
    "    \n",
    "    c = cmap((x0-Y.min())/Y.max())\n",
    "    #print(x0,Y.min(),Y.max(),c)\n",
    "    data_colors.append(c)\n",
    "    ax[1].bar([x0,],0.5,0.01,\n",
    "            color=c,\n",
    "            linewidth=0)\n",
    "\n",
    "    ax[0].bar([x0,],data.loc[:,\"true essential\"][i],0.01,color=\"black\")\n",
    "    \n",
    "    i+=1\n",
    "\n",
    "# sm = ScalarMappable(cmap=cmap, norm=plt.Normalize(0,max(data_colors)[-1]))\n",
    "# sm.set_array([])\n",
    "# cbar = plt.colorbar(sm)\n",
    "# cbar.set_label('Score', rotation=270,labelpad=25)\n",
    "\n",
    "ax[1].set_xlim(Y.min()-0.1,Y.max()+0.1)\n",
    "ax[0].set_xlim(Y.min()-0.1,Y.max()+0.1)\n",
    "#ax[1].set_xticklabels(labels=np.round(X))\n",
    "ax[1].set_yticks([])\n",
    "ax[0].set_yticks([])\n",
    "ax[0].set_xticks([])\n",
    "ax[1].set_xlabel(\"Domain likelihood score\")\n",
    "ax[0].set_title(\"Essentials genes\")\n",
    "\n",
    "\n"
   ]
  },
  {
   "cell_type": "code",
   "execution_count": 38,
   "metadata": {},
   "outputs": [
    {
     "data": {
      "text/plain": [
       "<Figure size 432x288 with 0 Axes>"
      ]
     },
     "metadata": {},
     "output_type": "display_data"
    }
   ],
   "source": [
    "plt.tight_layout()\n",
    "fig.savefig(\"../figures/fig_wt_new_analysis_heatmap_dls_per_background_with_essentials.png\",\n",
    "dpi=300,bbox_inches='tight')"
   ]
  },
  {
   "cell_type": "code",
   "execution_count": 21,
   "metadata": {},
   "outputs": [
    {
     "data": {
      "image/png": "[encoded data removed]",
      "text/plain": [
       "<Figure size 360x360 with 6 Axes>"
      ]
     },
     "metadata": {},
     "output_type": "display_data"
    }
   ],
   "source": [
    "## Pairplot of essentials vs scores\n",
    "data=scores_trimmed\n",
    "\n",
    "fig=sns.pairplot(data,palette=\"Set1\",diag_kind=\"kde\",diag_kws={\"shade\":True})\n",
    "\n",
    "sns.set(font_scale=1) # font size 2\n",
    "plt.tight_layout()\n",
    "#fig.savefig(\"../figures/fig_wt_new_pairplot_dls_with_essentials.png\",dpi=300)\n"
   ]
  },
  {
   "cell_type": "code",
   "execution_count": null,
   "metadata": {},
   "outputs": [],
   "source": []
  }
 ],
 "metadata": {
  "interpreter": {
   "hash": "4e417b9778b47a28d8b1724066397982bdf41da0689af0bd29246ac5809779c3"
  },
  "kernelspec": {
   "display_name": "Python 3.9.7 64-bit ('transposonmapper': conda)",
   "language": "python",
   "name": "python3"
  },
  "language_info": {
   "codemirror_mode": {
    "name": "ipython",
    "version": 3
   },
   "file_extension": ".py",
   "mimetype": "text/x-python",
   "name": "python",
   "nbconvert_exporter": "python",
   "pygments_lexer": "ipython3",
   "version": "3.9.7"
  },
  "orig_nbformat": 4
 },
 "nbformat": 4,
 "nbformat_minor": 2
}
