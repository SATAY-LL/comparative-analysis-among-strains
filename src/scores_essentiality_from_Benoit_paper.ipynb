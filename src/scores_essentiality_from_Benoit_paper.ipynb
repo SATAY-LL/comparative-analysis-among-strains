{
 "cells": [
  {
   "cell_type": "code",
   "execution_count": 1,
   "metadata": {},
   "outputs": [],
   "source": [
    "import pandas as pd\n",
    "import numpy as np\n",
    "import matplotlib.pyplot as plt\n",
    "import seaborn as sns\n",
    "import os,sys\n",
    "from collections import defaultdict\n",
    "from ast import literal_eval\n",
    "\n",
    "from from_excel_to_list import from_excel_to_list\n"
   ]
  },
  {
   "cell_type": "markdown",
   "metadata": {},
   "source": [
    "## Flowchart with the idea of getting the domain likelihood scores (DLS)\n",
    "\n",
    "![](../figures/fig_flowchart_fitness-effects-of-mutating-gene-A.png)"
   ]
  },
  {
   "cell_type": "code",
   "execution_count": 2,
   "metadata": {},
   "outputs": [],
   "source": [
    "positions_float_pd=pd.read_csv(\"../postprocessed-data/genetic_positions_float_pd_all_backgrounds.csv\",converters={'Positions_float': literal_eval,'Ninsertions': literal_eval})\n",
    "positions_float_pd.rename(columns={'Unnamed: 0':'Gene name', \"Unnamed: 1\": \"background\"},inplace=True)\n",
    "\n",
    "discarded_genes_by_duplication=np.loadtxt(\"../postprocessed-data/discarded_genes_by_duplication.txt\",dtype=str)"
   ]
  },
  {
   "cell_type": "code",
   "execution_count": 3,
   "metadata": {},
   "outputs": [],
   "source": [
    "backgrounds= ['wt_merged','bem1-aid_a','bem1-aid_b','dbem1dbem3_a','dbem1dbem3_b',\n",
    "'dnrp1_merged','dbem3_merged']"
   ]
  },
  {
   "cell_type": "code",
   "execution_count": 4,
   "metadata": {},
   "outputs": [],
   "source": [
    "## Genes that the flanks regions across 3KB upstream and downstream do not contain any information.\n",
    "\n",
    "genes_out_by_neighborhood_pd=pd.read_excel(\"../postprocessed-data/genes_out_by_neighborhood.xlsx\",index_col=\"Unnamed: 0\")\n",
    "from from_excel_to_list import from_excel_to_list\n",
    "genes_out_float=defaultdict(dict)\n",
    "for key in backgrounds:\n",
    "   genes_out_float[\"sum upstream insertions\"][key] =from_excel_to_list(genes_out_by_neighborhood_pd.loc[key,\"sum upstream insertions\"])\n",
    "   genes_out_float[\"sum downstream insertions\"][key] =from_excel_to_list(genes_out_by_neighborhood_pd.loc[key,\"sum downstream insertions\"])\n",
    "   x=genes_out_by_neighborhood_pd.loc[key,\"discarded_genes_neighborhood\"]\n",
    "   x=x.replace('[', '')\n",
    "   x=x.replace(']', '')\n",
    "   x=x.replace('list(', '')\n",
    "   x=x.replace(')', '')\n",
    "   x=x.replace(\"'\", \"\")\n",
    "   x=x.replace(\" \", \"\")\n",
    "   x=x.split(',')\n",
    "   genes_out_float[\"discarded_genes_neighborhood\"][key]=x\n",
    "\n",
    "genes_out_float_pd=pd.DataFrame.from_dict(genes_out_float)\n",
    "\n",
    "genes_out_float_pd.loc[:,\"threshold coverage\"]=genes_out_by_neighborhood_pd.loc[:,\"threshold coverage\"]"
   ]
  },
  {
   "cell_type": "code",
   "execution_count": 5,
   "metadata": {},
   "outputs": [],
   "source": [
    "## Importing pergene files \n",
    "\n",
    "pergene_files=[]\n",
    "data_dir=\"../postprocessed-data/\"\n",
    "#data_dir=\"../transposonmapper/data_files/\"\n",
    "for root, dirs, files in os.walk(data_dir):\n",
    "    for file in files:\n",
    "        if file.endswith(\"pergene_insertions.xlsx\"):\n",
    "            pergene_files.append(os.path.join(root, file))\n",
    "\n",
    "list_data=[]\n",
    "for i in pergene_files:\n",
    "    list_data.append(pd.read_excel(i,engine='openpyxl',index_col=\"Unnamed: 0\"))\n",
    "\n",
    "keys=[]\n",
    "for i in np.arange(0,len(pergene_files)):\n",
    "    keys.append(pergene_files[i].split(\"/\")[-1].split(\"_\")[0]+\"_\"+pergene_files[i].split(\"/\")[-1].split(\"_\")[1])\n",
    "\n",
    "list_data_pd=pd.concat(list_data,axis=0,keys=keys)\n",
    "\n",
    "\n"
   ]
  },
  {
   "cell_type": "code",
   "execution_count": 6,
   "metadata": {},
   "outputs": [
    {
     "data": {
      "text/plain": [
       "5805    244606\n",
       "Name: Insertions, dtype: int64"
      ]
     },
     "execution_count": 6,
     "metadata": {},
     "output_type": "execute_result"
    }
   ],
   "source": [
    "a=list_data_pd.loc[\"wt_merged\"]\n",
    "b=a[a.loc[:,\"Gene name\"]==\"ADE2\"][\"Insertions\"]\n",
    "a[\"Insertions\"].sum()-b"
   ]
  },
  {
   "cell_type": "markdown",
   "metadata": {},
   "source": [
    "### Discard the genes that contain one insertion with one read"
   ]
  },
  {
   "cell_type": "code",
   "execution_count": 7,
   "metadata": {},
   "outputs": [],
   "source": [
    "## Discard insertions within the genes that have one read\n",
    "\n",
    "## The idea is that those insertions are noisy insertions and dont give any information. \n",
    "\n",
    "# prototype\n",
    "\n",
    "a_0_reads=from_excel_to_list(a[\"Reads per insertion location\"][0])\n",
    "\n",
    "## get locations of the reads that are equal to 1\n",
    "\n",
    "## discard the insertion at that location and the reads at that location"
   ]
  },
  {
   "cell_type": "markdown",
   "metadata": {},
   "source": [
    "## Import Benoit's data to validate our scores implementation and find out the differences with my results"
   ]
  },
  {
   "cell_type": "code",
   "execution_count": 8,
   "metadata": {},
   "outputs": [],
   "source": [
    "benoit_wt_1=list_data_pd.loc[\"WT_1\"]\n",
    "benoit_wt_2=list_data_pd.loc[\"WT_2\"]\n",
    "\n",
    "benoit_wt_1.index=benoit_wt_1.loc[:,\"Gene name\"]\n",
    "benoit_wt_2.index=benoit_wt_2.loc[:,\"Gene name\"]"
   ]
  },
  {
   "cell_type": "code",
   "execution_count": 9,
   "metadata": {},
   "outputs": [
    {
     "data": {
      "text/html": [
       "<div>\n",
       "<style scoped>\n",
       "    .dataframe tbody tr th:only-of-type {\n",
       "        vertical-align: middle;\n",
       "    }\n",
       "\n",
       "    .dataframe tbody tr th {\n",
       "        vertical-align: top;\n",
       "    }\n",
       "\n",
       "    .dataframe thead th {\n",
       "        text-align: right;\n",
       "    }\n",
       "</style>\n",
       "<table border=\"1\" class=\"dataframe\">\n",
       "  <thead>\n",
       "    <tr style=\"text-align: right;\">\n",
       "      <th></th>\n",
       "      <th>Gene name</th>\n",
       "      <th>Chromosome</th>\n",
       "      <th>Start location</th>\n",
       "      <th>End location</th>\n",
       "      <th>Insertion locations</th>\n",
       "      <th>Reads per insertion location</th>\n",
       "      <th>Reads</th>\n",
       "      <th>Insertions</th>\n",
       "    </tr>\n",
       "    <tr>\n",
       "      <th>Gene name</th>\n",
       "      <th></th>\n",
       "      <th></th>\n",
       "      <th></th>\n",
       "      <th></th>\n",
       "      <th></th>\n",
       "      <th></th>\n",
       "      <th></th>\n",
       "      <th></th>\n",
       "    </tr>\n",
       "  </thead>\n",
       "  <tbody>\n",
       "    <tr>\n",
       "      <th>YAL069W</th>\n",
       "      <td>YAL069W</td>\n",
       "      <td>I</td>\n",
       "      <td>335</td>\n",
       "      <td>649</td>\n",
       "      <td>[356, 385, 401, 433, 443, 452, 475, 493, 497, ...</td>\n",
       "      <td>[61, 3, 1, 1, 12, 12, 75, 104, 2, 25, 14, 5, 1...</td>\n",
       "      <td>214</td>\n",
       "      <td>13</td>\n",
       "    </tr>\n",
       "    <tr>\n",
       "      <th>YAL068W-A</th>\n",
       "      <td>YAL068W-A</td>\n",
       "      <td>I</td>\n",
       "      <td>538</td>\n",
       "      <td>792</td>\n",
       "      <td>[592, 696]</td>\n",
       "      <td>[2, 5]</td>\n",
       "      <td>2</td>\n",
       "      <td>1</td>\n",
       "    </tr>\n",
       "    <tr>\n",
       "      <th>PAU8</th>\n",
       "      <td>PAU8</td>\n",
       "      <td>I</td>\n",
       "      <td>1807</td>\n",
       "      <td>2169</td>\n",
       "      <td>[1819, 1823, 1831, 1838, 1850, 1879, 1893, 189...</td>\n",
       "      <td>[4, 10, 9, 3, 12, 8, 1, 5, 1, 11, 88, 3, 13, 1...</td>\n",
       "      <td>186</td>\n",
       "      <td>19</td>\n",
       "    </tr>\n",
       "    <tr>\n",
       "      <th>YAL067W-A</th>\n",
       "      <td>YAL067W-A</td>\n",
       "      <td>I</td>\n",
       "      <td>2480</td>\n",
       "      <td>2707</td>\n",
       "      <td>[2484, 2490, 2502, 2530, 2560, 2564, 2569, 258...</td>\n",
       "      <td>[3, 12, 3, 19, 16, 15, 1, 1, 16, 1]</td>\n",
       "      <td>68</td>\n",
       "      <td>9</td>\n",
       "    </tr>\n",
       "    <tr>\n",
       "      <th>SEO1</th>\n",
       "      <td>SEO1</td>\n",
       "      <td>I</td>\n",
       "      <td>7235</td>\n",
       "      <td>9016</td>\n",
       "      <td>[7306, 7349, 7360, 7404, 7409, 7433, 7479, 770...</td>\n",
       "      <td>[2, 21, 339, 54, 1, 38, 1, 1, 13, 61, 48, 1, 7...</td>\n",
       "      <td>1674</td>\n",
       "      <td>50</td>\n",
       "    </tr>\n",
       "    <tr>\n",
       "      <th>...</th>\n",
       "      <td>...</td>\n",
       "      <td>...</td>\n",
       "      <td>...</td>\n",
       "      <td>...</td>\n",
       "      <td>...</td>\n",
       "      <td>...</td>\n",
       "      <td>...</td>\n",
       "      <td>...</td>\n",
       "    </tr>\n",
       "    <tr>\n",
       "      <th>ARR3</th>\n",
       "      <td>ARR3</td>\n",
       "      <td>XVI</td>\n",
       "      <td>939922</td>\n",
       "      <td>941136</td>\n",
       "      <td>[939931, 939999, 940003, 940128, 940152, 94019...</td>\n",
       "      <td>[47, 7, 66, 4, 37, 5, 167, 2, 30, 1, 11, 1, 5,...</td>\n",
       "      <td>749</td>\n",
       "      <td>24</td>\n",
       "    </tr>\n",
       "    <tr>\n",
       "      <th>YPR202W</th>\n",
       "      <td>YPR202W</td>\n",
       "      <td>XVI</td>\n",
       "      <td>943032</td>\n",
       "      <td>943896</td>\n",
       "      <td>[943052, 943063, 943088, 943097, 943105, 94311...</td>\n",
       "      <td>[1, 10, 2, 3, 28, 2, 3, 3, 3, 4, 1, 1, 8, 1, 4...</td>\n",
       "      <td>445</td>\n",
       "      <td>80</td>\n",
       "    </tr>\n",
       "    <tr>\n",
       "      <th>YPR203W</th>\n",
       "      <td>YPR203W</td>\n",
       "      <td>XVI</td>\n",
       "      <td>943880</td>\n",
       "      <td>944188</td>\n",
       "      <td>[943885, 943886, 943901, 943908, 943909, 94391...</td>\n",
       "      <td>[5, 10, 1, 12, 1, 51, 3, 21, 1, 3, 4, 3, 2, 7,...</td>\n",
       "      <td>556</td>\n",
       "      <td>51</td>\n",
       "    </tr>\n",
       "    <tr>\n",
       "      <th>YPR204W</th>\n",
       "      <td>YPR204W</td>\n",
       "      <td>XVI</td>\n",
       "      <td>944603</td>\n",
       "      <td>947701</td>\n",
       "      <td>[944604, 944614, 944622, 944626, 944626, 94462...</td>\n",
       "      <td>[3, 20, 8, 1, 3, 9, 2, 1, 14, 18, 1, 6, 7, 8, ...</td>\n",
       "      <td>2725</td>\n",
       "      <td>345</td>\n",
       "    </tr>\n",
       "    <tr>\n",
       "      <th>YPR204C-A</th>\n",
       "      <td>YPR204C-A</td>\n",
       "      <td>XVI</td>\n",
       "      <td>946856</td>\n",
       "      <td>947338</td>\n",
       "      <td>[946859, 946863, 946875, 946925, 946926, 94697...</td>\n",
       "      <td>[2, 9, 32, 14, 1, 49, 13, 2, 2, 12, 32, 1, 4, ...</td>\n",
       "      <td>359</td>\n",
       "      <td>48</td>\n",
       "    </tr>\n",
       "  </tbody>\n",
       "</table>\n",
       "<p>6600 rows × 8 columns</p>\n",
       "</div>"
      ],
      "text/plain": [
       "           Gene name Chromosome  Start location  End location  \\\n",
       "Gene name                                                       \n",
       "YAL069W      YAL069W          I             335           649   \n",
       "YAL068W-A  YAL068W-A          I             538           792   \n",
       "PAU8            PAU8          I            1807          2169   \n",
       "YAL067W-A  YAL067W-A          I            2480          2707   \n",
       "SEO1            SEO1          I            7235          9016   \n",
       "...              ...        ...             ...           ...   \n",
       "ARR3            ARR3        XVI          939922        941136   \n",
       "YPR202W      YPR202W        XVI          943032        943896   \n",
       "YPR203W      YPR203W        XVI          943880        944188   \n",
       "YPR204W      YPR204W        XVI          944603        947701   \n",
       "YPR204C-A  YPR204C-A        XVI          946856        947338   \n",
       "\n",
       "                                         Insertion locations  \\\n",
       "Gene name                                                      \n",
       "YAL069W    [356, 385, 401, 433, 443, 452, 475, 493, 497, ...   \n",
       "YAL068W-A                                         [592, 696]   \n",
       "PAU8       [1819, 1823, 1831, 1838, 1850, 1879, 1893, 189...   \n",
       "YAL067W-A  [2484, 2490, 2502, 2530, 2560, 2564, 2569, 258...   \n",
       "SEO1       [7306, 7349, 7360, 7404, 7409, 7433, 7479, 770...   \n",
       "...                                                      ...   \n",
       "ARR3       [939931, 939999, 940003, 940128, 940152, 94019...   \n",
       "YPR202W    [943052, 943063, 943088, 943097, 943105, 94311...   \n",
       "YPR203W    [943885, 943886, 943901, 943908, 943909, 94391...   \n",
       "YPR204W    [944604, 944614, 944622, 944626, 944626, 94462...   \n",
       "YPR204C-A  [946859, 946863, 946875, 946925, 946926, 94697...   \n",
       "\n",
       "                                Reads per insertion location  Reads  \\\n",
       "Gene name                                                             \n",
       "YAL069W    [61, 3, 1, 1, 12, 12, 75, 104, 2, 25, 14, 5, 1...    214   \n",
       "YAL068W-A                                             [2, 5]      2   \n",
       "PAU8       [4, 10, 9, 3, 12, 8, 1, 5, 1, 11, 88, 3, 13, 1...    186   \n",
       "YAL067W-A                [3, 12, 3, 19, 16, 15, 1, 1, 16, 1]     68   \n",
       "SEO1       [2, 21, 339, 54, 1, 38, 1, 1, 13, 61, 48, 1, 7...   1674   \n",
       "...                                                      ...    ...   \n",
       "ARR3       [47, 7, 66, 4, 37, 5, 167, 2, 30, 1, 11, 1, 5,...    749   \n",
       "YPR202W    [1, 10, 2, 3, 28, 2, 3, 3, 3, 4, 1, 1, 8, 1, 4...    445   \n",
       "YPR203W    [5, 10, 1, 12, 1, 51, 3, 21, 1, 3, 4, 3, 2, 7,...    556   \n",
       "YPR204W    [3, 20, 8, 1, 3, 9, 2, 1, 14, 18, 1, 6, 7, 8, ...   2725   \n",
       "YPR204C-A  [2, 9, 32, 14, 1, 49, 13, 2, 2, 12, 32, 1, 4, ...    359   \n",
       "\n",
       "           Insertions  \n",
       "Gene name              \n",
       "YAL069W            13  \n",
       "YAL068W-A           1  \n",
       "PAU8               19  \n",
       "YAL067W-A           9  \n",
       "SEO1               50  \n",
       "...               ...  \n",
       "ARR3               24  \n",
       "YPR202W            80  \n",
       "YPR203W            51  \n",
       "YPR204W           345  \n",
       "YPR204C-A          48  \n",
       "\n",
       "[6600 rows x 8 columns]"
      ]
     },
     "execution_count": 9,
     "metadata": {},
     "output_type": "execute_result"
    }
   ],
   "source": [
    "benoit_wt_1"
   ]
  },
  {
   "cell_type": "code",
   "execution_count": 10,
   "metadata": {},
   "outputs": [
    {
     "data": {
      "text/plain": [
       "287915"
      ]
     },
     "execution_count": 10,
     "metadata": {},
     "output_type": "execute_result"
    }
   ],
   "source": [
    "benoit_wt_2.loc[:,\"Insertions\"].sum()+benoit_wt_1.loc[:,\"Insertions\"].sum()"
   ]
  },
  {
   "cell_type": "code",
   "execution_count": 11,
   "metadata": {},
   "outputs": [
    {
     "data": {
      "text/plain": [
       "246538"
      ]
     },
     "execution_count": 11,
     "metadata": {},
     "output_type": "execute_result"
    }
   ],
   "source": [
    "list_data_pd.loc[\"wt_merged\"].loc[:,\"Insertions\"].sum()"
   ]
  },
  {
   "cell_type": "markdown",
   "metadata": {},
   "source": [
    "## Strategy for scoring essentiality (Benoit method paper: https://elifesciences.org/articles/23570/figures#fig2s1)\n",
    "\n",
    "- Compute the longest interval in the gene free of transposons insertions (L)\n",
    "- Extract the number of insertions for that gene (N)\n",
    "- Extract the gene length (l)\n",
    "- Compute the score as:\n",
    "    score= L*N/(l ^(1.5))\n",
    "    score == 0 if \n",
    "    - N<20 OR\n",
    "    - L>90 of l OR\n",
    "    - L<10 of l OR\n",
    "    - L<300bp\n",
    "\n",
    "    \n",
    "  "
   ]
  },
  {
   "cell_type": "code",
   "execution_count": 12,
   "metadata": {},
   "outputs": [],
   "source": [
    "from functions_scores_essentiality import get_genes_names_for_essentiality\n",
    "from functions_scores_essentiality import get_essentiality_score_per_gene_per_background\n",
    "from functions_scores_essentiality import exclude_genes_with_one_or_two_reads\n",
    "from functions_scores_essentiality import get_no_duplicates_gene_names"
   ]
  },
  {
   "cell_type": "code",
   "execution_count": 13,
   "metadata": {},
   "outputs": [],
   "source": [
    "scores_benoit=[]\n",
    "\n",
    "for key,index in zip([\"WT_1\",\"WT_2\"],[benoit_wt_1.index,benoit_wt_2.index]) :\n",
    "    scores=get_essentiality_score_per_gene_per_background(index,key,list_data_pd)\n",
    "    tmp=pd.DataFrame.from_dict(scores)\n",
    "    scores_benoit.append(tmp)\n",
    "\n",
    "scores_benoit_pd=pd.concat(scores_benoit,axis=0,keys=[\"WT_1\",\"WT_2\"])"
   ]
  },
  {
   "cell_type": "code",
   "execution_count": 14,
   "metadata": {},
   "outputs": [],
   "source": [
    "## Loop over all the backgrounds\n",
    "scores_all=[]\n",
    "# discard genes only if they duplicated (considering the WT background)\n",
    "useful_genes=get_no_duplicates_gene_names(list_data_pd,discarded_genes_by_duplication)\n",
    "\n",
    "for key in backgrounds:\n",
    "    \n",
    "    # discard genes that are duplicated and the neighborhoud has low coverage\n",
    "    #useful_genes=get_genes_names_for_essentiality(list_data_pd,discarded_genes_by_duplication,genes_out_float_pd,key)\n",
    "    \n",
    "   \n",
    "    scores=get_essentiality_score_per_gene_per_background(useful_genes,key,list_data_pd)\n",
    "    tmp=pd.DataFrame.from_dict(scores)\n",
    "    scores_all.append(tmp)\n",
    "\n"
   ]
  },
  {
   "cell_type": "code",
   "execution_count": 15,
   "metadata": {},
   "outputs": [
    {
     "data": {
      "text/html": [
       "<div>\n",
       "<style scoped>\n",
       "    .dataframe tbody tr th:only-of-type {\n",
       "        vertical-align: middle;\n",
       "    }\n",
       "\n",
       "    .dataframe tbody tr th {\n",
       "        vertical-align: top;\n",
       "    }\n",
       "\n",
       "    .dataframe thead th {\n",
       "        text-align: right;\n",
       "    }\n",
       "</style>\n",
       "<table border=\"1\" class=\"dataframe\">\n",
       "  <thead>\n",
       "    <tr style=\"text-align: right;\">\n",
       "      <th></th>\n",
       "      <th></th>\n",
       "      <th>value</th>\n",
       "    </tr>\n",
       "  </thead>\n",
       "  <tbody>\n",
       "    <tr>\n",
       "      <th rowspan=\"5\" valign=\"top\">wt_merged</th>\n",
       "      <th>AAC1</th>\n",
       "      <td>0.385231</td>\n",
       "    </tr>\n",
       "    <tr>\n",
       "      <th>AAC3</th>\n",
       "      <td>0.000000</td>\n",
       "    </tr>\n",
       "    <tr>\n",
       "      <th>AAD10</th>\n",
       "      <td>0.000000</td>\n",
       "    </tr>\n",
       "    <tr>\n",
       "      <th>AAD14</th>\n",
       "      <td>0.290427</td>\n",
       "    </tr>\n",
       "    <tr>\n",
       "      <th>AAD15</th>\n",
       "      <td>0.000000</td>\n",
       "    </tr>\n",
       "    <tr>\n",
       "      <th>...</th>\n",
       "      <th>...</th>\n",
       "      <td>...</td>\n",
       "    </tr>\n",
       "    <tr>\n",
       "      <th rowspan=\"5\" valign=\"top\">dbem3_merged</th>\n",
       "      <th>ZRT2</th>\n",
       "      <td>0.000000</td>\n",
       "    </tr>\n",
       "    <tr>\n",
       "      <th>ZRT3</th>\n",
       "      <td>0.000000</td>\n",
       "    </tr>\n",
       "    <tr>\n",
       "      <th>ZTA1</th>\n",
       "      <td>0.000000</td>\n",
       "    </tr>\n",
       "    <tr>\n",
       "      <th>ZUO1</th>\n",
       "      <td>0.458166</td>\n",
       "    </tr>\n",
       "    <tr>\n",
       "      <th>ZWF1</th>\n",
       "      <td>0.000000</td>\n",
       "    </tr>\n",
       "  </tbody>\n",
       "</table>\n",
       "<p>45433 rows × 1 columns</p>\n",
       "</div>"
      ],
      "text/plain": [
       "                       value\n",
       "wt_merged    AAC1   0.385231\n",
       "             AAC3   0.000000\n",
       "             AAD10  0.000000\n",
       "             AAD14  0.290427\n",
       "             AAD15  0.000000\n",
       "...                      ...\n",
       "dbem3_merged ZRT2   0.000000\n",
       "             ZRT3   0.000000\n",
       "             ZTA1   0.000000\n",
       "             ZUO1   0.458166\n",
       "             ZWF1   0.000000\n",
       "\n",
       "[45433 rows x 1 columns]"
      ]
     },
     "execution_count": 15,
     "metadata": {},
     "output_type": "execute_result"
    }
   ],
   "source": [
    "#### Scores  ##############\n",
    "\n",
    "## The highest the score is the highest the likelihood to be essential because it will \n",
    "# contain clear domains void of transposons . If this score is equal zero we dont have information about\n",
    "# the essentiality of the gene. \n",
    "\n",
    "scores_all_pd=pd.concat(scores_all,axis=0,keys=backgrounds) \n",
    "\n",
    "scores_all_pd.sort_values(by=\"value\",ascending=False,inplace=False)\n",
    "scores_all_pd"
   ]
  },
  {
   "cell_type": "code",
   "execution_count": 16,
   "metadata": {},
   "outputs": [],
   "source": [
    "#scores_all_pd.to_excel(\"../postprocessed-data/scores_essentiality_from_Benoit_paper_all_backgrounds.xlsx\")"
   ]
  },
  {
   "cell_type": "code",
   "execution_count": 17,
   "metadata": {},
   "outputs": [],
   "source": [
    "a_wt=scores_all_pd.loc[\"wt_merged\",\"value\"]\n",
    "a_bem1=scores_all_pd.loc[\"bem1-aid_b\",\"value\"]\n",
    "a_bem1_bem3=scores_all_pd.loc[\"dbem1dbem3_b\",\"value\"]\n",
    "predicted_essentials_wt=a_wt[a_wt>np.max(a_wt)/4].index\n",
    "predicted_essentials_bem1=a_bem1[a_bem1>np.max(a_bem1)/4].index\n",
    "predicted_essentials_bem1_bem3=a_bem1_bem3[a_bem1_bem3>np.max(a_bem1_bem3)/4].index\n",
    "\n",
    "## Different genes per background (lost and gaine essentiality)\n",
    "diff_wt_bem1=np.setdiff1d(predicted_essentials_wt,predicted_essentials_bem1) # lost essentials from WT\n",
    "diff_bem1_wt=np.setdiff1d(predicted_essentials_bem1,predicted_essentials_wt) # gained essentials from WT\n",
    "diff_bem1_bem3_bem1=np.setdiff1d(predicted_essentials_bem1_bem3,predicted_essentials_bem1) # gained essentials from dbem1\n",
    "diff_bem1_bem1_bem3=np.setdiff1d(predicted_essentials_bem1,predicted_essentials_bem1_bem3) # lost essentials from dbem1"
   ]
  },
  {
   "cell_type": "code",
   "execution_count": 18,
   "metadata": {},
   "outputs": [],
   "source": [
    "## Matrix where the rows are the unique genes from the scores and the columns are the backgrounds.\n",
    "# Fill the value of the score per gene per background. \n",
    "\n",
    "all_genes=[]\n",
    "\n",
    "for key in backgrounds:\n",
    "    all_genes.append(scores_all_pd.loc[key][\"value\"].index)\n",
    "\n",
    "all_genes_array=np.concatenate( all_genes, axis=0)\n",
    "all_genes_array_unique=np.unique(all_genes_array)\n",
    "\n",
    "matrix_differential_score=np.zeros((len(all_genes_array_unique),len(backgrounds)))\n",
    "for k in np.arange(0,len(all_genes_array_unique)):\n",
    "    for i in np.arange(0,len(backgrounds)):\n",
    "        if all_genes_array_unique[k] in scores_all_pd.loc[backgrounds[i]][\"value\"].index:\n",
    "            tmp= scores_all_pd.loc[backgrounds[i],all_genes_array_unique[k] ][\"value\"]\n",
    "            if tmp!=0: \n",
    "                matrix_differential_score[k,i]=tmp\n",
    "            "
   ]
  },
  {
   "cell_type": "code",
   "execution_count": 19,
   "metadata": {},
   "outputs": [],
   "source": [
    "# import essential genes used in transposonmapper\n",
    "\n",
    "essentials_satay=pd.read_csv(\"../postprocessed-data/Cerevisiae_AllEssentialGenes_List.txt\",header=0\n",
    ",sep=\"\\t\")\n",
    "\n",
    "essentials_satay.columns=[\"gene name\"]\n",
    "\n",
    "# import conversion file from systematic names to standard names \n",
    "conversion=pd.read_csv(\"../postprocessed-data/from_systematic_genenames2standard_genenames.csv\",\n",
    "header=0,sep=\",\")\n",
    "\n",
    "conversion.columns=[\"systematic name\",\"standard  name\"]\n",
    "\n",
    "# save the standard names of the essential genes in a systematic format\n",
    "standard_essentials=[]\n",
    "for names in essentials_satay.loc[:,\"gene name\"]:\n",
    "    \n",
    "    if names in conversion[\"systematic name\"].values:\n",
    "        standard_essentials.append(conversion.loc[conversion[\"systematic name\"]==names][\"standard  name\"].values[0])\n",
    "\n",
    "from functions_scores_essentiality import write_ones_if_essential\n",
    "\n",
    "scores_wt=write_ones_if_essential(scores_all_pd,\"wt_merged\",standard_essentials)\n",
    "\n",
    "scores_wt_1=scores_benoit_pd.loc[\"WT_1\"]\n",
    "scores_wt_2=scores_benoit_pd.loc[\"WT_2\"]\n",
    "\n",
    "scores_wt_1=write_ones_if_essential(scores_benoit_pd,\"WT_1\",standard_essentials)\n",
    "scores_wt_2=write_ones_if_essential(scores_benoit_pd,\"WT_2\",standard_essentials)\n"
   ]
  },
  {
   "cell_type": "code",
   "execution_count": 20,
   "metadata": {},
   "outputs": [
    {
     "data": {
      "text/html": [
       "<div>\n",
       "<style scoped>\n",
       "    .dataframe tbody tr th:only-of-type {\n",
       "        vertical-align: middle;\n",
       "    }\n",
       "\n",
       "    .dataframe tbody tr th {\n",
       "        vertical-align: top;\n",
       "    }\n",
       "\n",
       "    .dataframe thead th {\n",
       "        text-align: right;\n",
       "    }\n",
       "</style>\n",
       "<table border=\"1\" class=\"dataframe\">\n",
       "  <thead>\n",
       "    <tr style=\"text-align: right;\">\n",
       "      <th></th>\n",
       "      <th>value</th>\n",
       "      <th>true essential</th>\n",
       "    </tr>\n",
       "  </thead>\n",
       "  <tbody>\n",
       "    <tr>\n",
       "      <th>CAR1</th>\n",
       "      <td>0.880954</td>\n",
       "      <td>0.0</td>\n",
       "    </tr>\n",
       "    <tr>\n",
       "      <th>MRX12</th>\n",
       "      <td>0.842325</td>\n",
       "      <td>1.0</td>\n",
       "    </tr>\n",
       "    <tr>\n",
       "      <th>FLO9</th>\n",
       "      <td>0.780268</td>\n",
       "      <td>0.0</td>\n",
       "    </tr>\n",
       "    <tr>\n",
       "      <th>PRP18</th>\n",
       "      <td>0.736648</td>\n",
       "      <td>0.0</td>\n",
       "    </tr>\n",
       "    <tr>\n",
       "      <th>MAK11</th>\n",
       "      <td>0.732355</td>\n",
       "      <td>1.0</td>\n",
       "    </tr>\n",
       "    <tr>\n",
       "      <th>...</th>\n",
       "      <td>...</td>\n",
       "      <td>...</td>\n",
       "    </tr>\n",
       "    <tr>\n",
       "      <th>RPL23A</th>\n",
       "      <td>0.000000</td>\n",
       "      <td>0.0</td>\n",
       "    </tr>\n",
       "    <tr>\n",
       "      <th>RPL23B</th>\n",
       "      <td>0.000000</td>\n",
       "      <td>0.0</td>\n",
       "    </tr>\n",
       "    <tr>\n",
       "      <th>RPL24A</th>\n",
       "      <td>0.000000</td>\n",
       "      <td>0.0</td>\n",
       "    </tr>\n",
       "    <tr>\n",
       "      <th>RPL24B</th>\n",
       "      <td>0.000000</td>\n",
       "      <td>0.0</td>\n",
       "    </tr>\n",
       "    <tr>\n",
       "      <th>ASP3-4</th>\n",
       "      <td>0.000000</td>\n",
       "      <td>0.0</td>\n",
       "    </tr>\n",
       "  </tbody>\n",
       "</table>\n",
       "<p>6499 rows × 2 columns</p>\n",
       "</div>"
      ],
      "text/plain": [
       "           value  true essential\n",
       "CAR1    0.880954             0.0\n",
       "MRX12   0.842325             1.0\n",
       "FLO9    0.780268             0.0\n",
       "PRP18   0.736648             0.0\n",
       "MAK11   0.732355             1.0\n",
       "...          ...             ...\n",
       "RPL23A  0.000000             0.0\n",
       "RPL23B  0.000000             0.0\n",
       "RPL24A  0.000000             0.0\n",
       "RPL24B  0.000000             0.0\n",
       "ASP3-4  0.000000             0.0\n",
       "\n",
       "[6499 rows x 2 columns]"
      ]
     },
     "execution_count": 20,
     "metadata": {},
     "output_type": "execute_result"
    }
   ],
   "source": [
    "scores_wt.sort_values(by=\"value\",ascending=False,inplace=False)"
   ]
  },
  {
   "cell_type": "code",
   "execution_count": 21,
   "metadata": {},
   "outputs": [],
   "source": [
    "## Validate the  predicted scores for WT with the annotated essential genes for WT\n",
    "\n",
    "# import true essential genes from DEG http://origin.tubic.org/deg/public/index.php/organism/eukaryotes/DEG2001.html\n",
    "# true_essentials=pd.read_csv(\"../postprocessed-data/essentials_genes_yeast.txt\",header=None)\n",
    "# true_essentials.columns=[\"gene_name\"]\n",
    "# # compare \n",
    "# predicted_essentials_wt=scores_all_pd.loc[\"wt_merged\",\"value\"].index\n",
    "# scores_wt=scores_all_pd.loc[\"wt_merged\",:]\n",
    "# for true_genes in true_essentials[\"gene_name\"]:\n",
    "#     if true_genes in scores_wt.index:\n",
    "#         scores_wt.loc[true_genes,\"true essential\"]=1\n",
    "    \n",
    "# scores_wt.fillna(0,inplace=True)"
   ]
  },
  {
   "cell_type": "code",
   "execution_count": 22,
   "metadata": {},
   "outputs": [
    {
     "name": "stdout",
     "output_type": "stream",
     "text": [
      "The number of predicted essential genes for WT that are also annotated as essential genes is: 309 which means  28.55822550831793 %\n",
      "The number of non predicted essential genes, because they dont have essential domains, for WT that are  annotated as essential genes is: 609 which means  56.284658040665434 %\n",
      "The number of predicted essential genes for WT  is: 2037\n",
      "The number of annotated essential genes for WT  is: 1082\n"
     ]
    }
   ],
   "source": [
    "len_predicted_essentials_domains=len(scores_wt[(scores_wt[\"true essential\"]==1) \n",
    "& (scores_wt[\"value\"]>np.max(scores_wt[\"value\"])/4)])\n",
    "\n",
    "len_true_essentials=len(scores_wt[scores_wt[\"true essential\"]==1])\n",
    "\n",
    "print(\"The number of predicted essential genes for WT that are also annotated as essential genes is:\",\n",
    "len_predicted_essentials_domains,\"which means \",100*len_predicted_essentials_domains/len_true_essentials,\"%\")\n",
    "\n",
    "print(\"The number of non predicted essential genes, because they dont have essential domains, for WT that are  annotated as essential genes is:\",\n",
    "len(scores_wt[(scores_wt[\"true essential\"]==1) & (scores_wt[\"value\"]==0)]),\n",
    "\"which means \",100*len(scores_wt[(scores_wt[\"true essential\"]==1) & (scores_wt[\"value\"]==0)])/len(scores_wt[scores_wt[\"true essential\"]==1]),\n",
    "\"%\")\n",
    "\n",
    "print(\"The number of predicted essential genes for WT  is:\",len(predicted_essentials_wt))\n",
    "\n",
    "print(\"The number of annotated essential genes for WT  is:\",\n",
    "len(scores_wt[scores_wt[\"true essential\"]==1]))"
   ]
  },
  {
   "cell_type": "markdown",
   "metadata": {},
   "source": [
    "## Visualizations"
   ]
  },
  {
   "cell_type": "code",
   "execution_count": 23,
   "metadata": {},
   "outputs": [
    {
     "data": {
      "image/png": "[encoded data removed]",
      "text/plain": [
       "<Figure size 360x360 with 1 Axes>"
      ]
     },
     "metadata": {
      "needs_background": "light"
     },
     "output_type": "display_data"
    }
   ],
   "source": [
    "## Difference between benoit scores and mine\n",
    "\n",
    "a=scores_wt[\"value\"].values # wt_merged Leila data \n",
    "b=scores_wt_1[\"value\"].values[0:len(a)] # benoit\n",
    "g=sns.displot(a-b,bins=50,kde=True);\n",
    "plt.xlabel(\"WT-merged_score-WT_1_benoit_score\")\n",
    "sns.set(font_scale=1)\n",
    "#plt.savefig(\"../figures/fig_histplot_benoit_vs_mine_wt_merged.png\")"
   ]
  },
  {
   "cell_type": "code",
   "execution_count": 24,
   "metadata": {},
   "outputs": [
    {
     "data": {
      "text/plain": [
       "<matplotlib.legend.Legend at 0x7f19c3c77910>"
      ]
     },
     "execution_count": 24,
     "metadata": {},
     "output_type": "execute_result"
    },
    {
     "data": {
      "image/png": "[encoded data removed]",
      "text/plain": [
       "<Figure size 432x288 with 1 Axes>"
      ]
     },
     "metadata": {},
     "output_type": "display_data"
    }
   ],
   "source": [
    "sns.histplot(scores_wt_1.loc[:,\"value\"],bins=50,kde=True,label=\"WT_1_Benoit\");\n",
    "sns.histplot(scores_wt.loc[:,\"value\"],bins=50,kde=True,color=\"gray\",label=\"WT_merged\");\n",
    "plt.legend()\n",
    "#plt.savefig(\"../figures/fig_histplot_benoit_vs_mine_wt_1.png\")"
   ]
  },
  {
   "cell_type": "code",
   "execution_count": 25,
   "metadata": {},
   "outputs": [
    {
     "data": {
      "image/png": "[encoded data removed]",
      "text/plain": [
       "<Figure size 360x360 with 1 Axes>"
      ]
     },
     "metadata": {},
     "output_type": "display_data"
    }
   ],
   "source": [
    "## Plot of how essential genes vary across backgrounds\n",
    "fig, ax = plt.subplots(nrows=1, ncols=1, figsize=(5,5))\n",
    "values=[len(predicted_essentials_wt),len(predicted_essentials_bem1),\n",
    "len(predicted_essentials_bem1_bem3)]\n",
    "\n",
    "labels=[\"WT\",\"dbem1\",\"dbem1dbem3\"]\n",
    "\n",
    "plt.plot(labels,values,\"ro--\",alpha=0.5,markersize=13)\n",
    "plt.ylabel(\"# of predicted essential genes because they contain an essential domain\")\n",
    "plt.grid()\n",
    "\n",
    "#fig.savefig(\"../figures/fig_number_of_essential_genes_varying_backgrounds.png\",dpi=300)"
   ]
  },
  {
   "cell_type": "code",
   "execution_count": 26,
   "metadata": {},
   "outputs": [
    {
     "data": {
      "image/png": "[encoded data removed]",
      "text/plain": [
       "<Figure size 1800x360 with 7 Axes>"
      ]
     },
     "metadata": {},
     "output_type": "display_data"
    }
   ],
   "source": [
    "## Distributions of the scores per backgrounds\n",
    "\n",
    "fig, ax = plt.subplots(nrows=1, ncols=len(backgrounds), figsize=(25, 5))\n",
    "cm = plt.cm.get_cmap('RdYlBu_r')\n",
    "#color=cm(i/len(backgrounds))\n",
    "for i in np.arange(0,len(backgrounds)):\n",
    "    \n",
    "    ax[i].hist(scores_all_pd.loc[backgrounds[i]][\"value\"], bins=50, alpha=0.8, label=backgrounds[i], color=\"black\")\n",
    "    # plt.legend(loc='upper right')\n",
    "    ax[i].set_xlim([0,1.3])\n",
    "    ax[i].set_ylim([0,300])\n",
    "    ax[i].set_xlabel('Domain likelihood score')\n",
    "\n",
    "\n",
    "    ax[i].legend(loc='upper right')\n",
    "\n",
    "#fig.savefig(\"../figures/fig_histogram_domain_likelihood_score_per_background.png\",dpi=300)"
   ]
  },
  {
   "cell_type": "code",
   "execution_count": 27,
   "metadata": {},
   "outputs": [
    {
     "data": {
      "text/plain": [
       "<matplotlib.legend.Legend at 0x7ff2e21129a0>"
      ]
     },
     "execution_count": 27,
     "metadata": {},
     "output_type": "execute_result"
    },
    {
     "data": {
      "image/png": "[encoded data removed]",
      "text/plain": [
       "<Figure size 720x360 with 2 Axes>"
      ]
     },
     "metadata": {},
     "output_type": "display_data"
    }
   ],
   "source": [
    "## Differences in score between replicates histogram\n",
    "fig, ax = plt.subplots(nrows=1, ncols=2, figsize=(10, 5))\n",
    "cm = plt.cm.get_cmap('RdYlBu_r')\n",
    "#color=cm(i/len(backgrounds))\n",
    "tmp=np.abs(scores_all_pd.loc[\"bem1-aid_a\"][\"value\"]-scores_all_pd.loc[\"bem1-aid_b\"][\"value\"])\n",
    "ax[0].hist(tmp, bins=100, alpha=0.8, label=\"dbem1-differences\", color=\"black\")\n",
    "# plt.legend(loc='upper right')\n",
    "ax[0].set_xlim([-0.05,1.3])\n",
    "ax[0].set_ylim([0,300])\n",
    "ax[0].set_xlabel('Domain likelihood score difference')\n",
    "ax[0].legend(loc='upper right')\n",
    "\n",
    "tmp=np.abs(scores_all_pd.loc[\"dbem1dbem3_a\"][\"value\"]-scores_all_pd.loc[\"dbem1dbem3_b\"][\"value\"])\n",
    "ax[1].hist(tmp, bins=50, alpha=0.8, label=\"dbem1dbem3-differences\", color=\"black\")\n",
    "# plt.legend(loc='upper right')\n",
    "ax[1].set_xlim([-0.05,1.3])\n",
    "ax[1].set_ylim([0,300])\n",
    "ax[1].set_xlabel('Domain likelihood score difference')\n",
    "ax[1].legend(loc='upper right')\n",
    "    \n",
    "#fig.savefig(\"../figures/fig_histogram_domain_likelihood_score_differences_between_backgrounds.png\",dpi=300)"
   ]
  },
  {
   "cell_type": "code",
   "execution_count": 28,
   "metadata": {},
   "outputs": [],
   "source": [
    "## Differences in score between replicates scatter\n",
    "\n",
    "# fig, ax = plt.subplots(nrows=1, ncols=2, figsize=(10, 5))\n",
    "\n",
    "# ax[0].scatter(scores_all_pd.loc[\"bem1-aid_a\"][\"value\"][0:6239],scores_all_pd.loc[\"bem1-aid_b\"][\"value\"],color=\"black\",alpha=0.5,label=\"dbem1-replicates\")\n",
    "# ax[1].scatter(scores_all_pd.loc[\"dbem1dbem3_a\"][\"value\"][0:6220],scores_all_pd.loc[\"dbem1dbem3_b\"][\"value\"],color=\"black\",alpha=0.5,label=\"dbem1dbem3-replicates\")\n",
    "\n",
    "# ax[0].set_xlim([0,1.3])\n",
    "# ax[0].set_ylim([0,1.3])\n",
    "# ax[0].set_xlabel('dbem1_a scores')\n",
    "# ax[0].set_ylabel('dbem1_b scores')\n",
    "\n",
    "# ax[1].set_xlim([0,1.3])\n",
    "# ax[1].set_ylim([0,1.3])\n",
    "# ax[1].set_xlabel('dbem1dbem3_a scores')\n",
    "# ax[1].set_ylabel('dbem1dbem3_b scores')\n",
    "\n",
    "#fig.savefig(\"../figures/fig_scatter_domain_likelihood_score_differences_between_backgrounds.png\",dpi=300)"
   ]
  },
  {
   "cell_type": "code",
   "execution_count": 29,
   "metadata": {},
   "outputs": [
    {
     "data": {
      "image/png": "[encoded data removed]",
      "text/plain": [
       "<Figure size 360x360 with 2 Axes>"
      ]
     },
     "metadata": {},
     "output_type": "display_data"
    }
   ],
   "source": [
    "## heatmap variation of scores with backgrounds\n",
    "fig, ax = plt.subplots(nrows=1, ncols=1, figsize=(5, 5))\n",
    "\n",
    "n=20\n",
    "sns.heatmap(matrix_differential_score[0:n,:], xticklabels=backgrounds,\n",
    "yticklabels=all_genes_array_unique[0:n], cmap=\"seismic\", vmin=0, vmax=1.5)\n",
    "plt.tight_layout()\n",
    "#fig.savefig(\"../figures/fig_prototype_heatmap_domain_likelihood_score_per_background.png\",dpi=300)"
   ]
  },
  {
   "cell_type": "code",
   "execution_count": 30,
   "metadata": {},
   "outputs": [
    {
     "data": {
      "image/png": "[encoded data removed]",
      "text/plain": [
       "<Figure size 216x720 with 2 Axes>"
      ]
     },
     "metadata": {},
     "output_type": "display_data"
    }
   ],
   "source": [
    "## heatmap variation of scores with backgrounds with imshow\n",
    "n=20\n",
    "fig, ax = plt.subplots(nrows=1, ncols=1, figsize=(3, 10))\n",
    "plt.imshow(matrix_differential_score[n:2*n,:], interpolation='nearest', cmap=plt.cm.Reds)\n",
    "plt.xticks(range(len(backgrounds)), backgrounds,rotation=90);\n",
    "plt.yticks(range(n),all_genes_array_unique[n:2*n]);\n",
    "\n",
    "plt.colorbar();\n",
    "plt.tight_layout();\n",
    "# fig.savefig(\"../figures/fig_prototype_heatmap_domain_likelihood_score_per_background_100_200.png\",dpi=300)"
   ]
  },
  {
   "cell_type": "code",
   "execution_count": 31,
   "metadata": {},
   "outputs": [
    {
     "data": {
      "image/png": "[encoded data removed]",
      "text/plain": [
       "<Figure size 432x288 with 2 Axes>"
      ]
     },
     "metadata": {},
     "output_type": "display_data"
    }
   ],
   "source": [
    "#fig, ax = plt.subplots(nrows=1, ncols=1, figsize=(5,5))\n",
    "\n",
    "goi=[\"CLA4\",\"BEM2\",\"CDC24\",\"RDI1\",\"CDC10\",\"NRP1\",\"CDC42\",\"MEC1\",\"ACT1\",\"BEM1\"]\n",
    "tmp=[]\n",
    "for i in goi:\n",
    "    tmp.append(np.where(all_genes_array_unique==i)[0][0])\n",
    "\n",
    "goi_matrix=matrix_differential_score[tmp,:]\n",
    "sns.heatmap(goi_matrix, xticklabels=backgrounds, yticklabels=goi, \n",
    "cmap=\"RdGy\", vmin=0, vmax=1,alpha=0.8,annot_kws={\"fontsize\":4})\n",
    "sns.set(font_scale=1) # font size 2\n",
    "\n",
    "#g.savefig(\"../figures/fig_heatmap_domain_likelihood_score_per_background_goi.png\",dpi=300)\n"
   ]
  },
  {
   "cell_type": "code",
   "execution_count": 25,
   "metadata": {},
   "outputs": [
    {
     "data": {
      "text/plain": [
       "Text(0.5, 1.0, 'Essentials genes')"
      ]
     },
     "execution_count": 25,
     "metadata": {},
     "output_type": "execute_result"
    },
    {
     "data": {
      "image/png": "[encoded data removed]",
      "text/plain": [
       "<Figure size 720x144 with 2 Axes>"
      ]
     },
     "metadata": {},
     "output_type": "display_data"
    }
   ],
   "source": [
    "## Plot the essential genes vs scores on top of each other bar plot\n",
    "\n",
    "fig,ax=plt.subplots(nrows=2,ncols=1,figsize=(10,2))\n",
    "\n",
    "plt.subplots_adjust(hspace=0.01)\n",
    "\n",
    "import matplotlib.cm as cm\n",
    "from matplotlib.cm import ScalarMappable\n",
    "\n",
    "#data=scores_wt\n",
    "data=scores_wt_1\n",
    "N=len(data)\n",
    "\n",
    "#N=1000\n",
    "# Create fake data\n",
    "X = np.linspace(0,N,N)\n",
    "Y = data.loc[:,\"value\"][0:N]\n",
    "\n",
    "# Pick a cmap\n",
    "cmap = cm.get_cmap('jet')\n",
    "\n",
    "i=0\n",
    "data_colors=[]\n",
    "for x0,x1 in zip(Y,Y[1:]):\n",
    "    \n",
    "    c = cmap((x0-Y.min())/Y.max())\n",
    "    #print(x0,Y.min(),Y.max(),c)\n",
    "    data_colors.append(c)\n",
    "    ax[1].bar([x0,],0.5,0.01,\n",
    "            color=c,\n",
    "            linewidth=0)\n",
    "\n",
    "    ax[0].bar([x0,],data.loc[:,\"true essential\"][i],0.01,color=\"black\")\n",
    "    \n",
    "    i+=1\n",
    "\n",
    "# sm = ScalarMappable(cmap=cmap, norm=plt.Normalize(0,max(data_colors)[-1]))\n",
    "# sm.set_array([])\n",
    "# cbar = plt.colorbar(sm)\n",
    "# cbar.set_label('Score', rotation=270,labelpad=25)\n",
    "\n",
    "ax[1].set_xlim(Y.min()-0.1,Y.max()+0.1)\n",
    "ax[0].set_xlim(Y.min()-0.1,Y.max()+0.1)\n",
    "#ax[1].set_xticklabels(labels=np.round(X))\n",
    "ax[1].set_yticks([])\n",
    "ax[0].set_yticks([])\n",
    "ax[0].set_xticks([])\n",
    "ax[1].set_xlabel(\"Domain likelihood score\")\n",
    "ax[0].set_title(\"Essentials genes\")\n",
    "\n",
    "\n"
   ]
  },
  {
   "cell_type": "code",
   "execution_count": 36,
   "metadata": {},
   "outputs": [
    {
     "data": {
      "text/plain": [
       "<Figure size 432x288 with 0 Axes>"
      ]
     },
     "metadata": {},
     "output_type": "display_data"
    }
   ],
   "source": [
    "plt.tight_layout()\n",
    "fig.savefig(\"../figures/fig_benoit_wt_1_new_analysis_heatmap_dls_per_background_with_essentials.png\",\n",
    "dpi=300,bbox_inches='tight')"
   ]
  },
  {
   "cell_type": "code",
   "execution_count": 37,
   "metadata": {},
   "outputs": [
    {
     "data": {
      "image/png": "[encoded data removed]",
      "text/plain": [
       "<Figure size 360x360 with 6 Axes>"
      ]
     },
     "metadata": {},
     "output_type": "display_data"
    }
   ],
   "source": [
    "## Pairplot of essentials vs scores\n",
    "data=scores_wt\n",
    "\n",
    "fig=sns.pairplot(data,palette=\"Set1\",diag_kind=\"kde\",diag_kws={\"shade\":True})\n",
    "\n",
    "sns.set(font_scale=1) # font size 2\n",
    "plt.tight_layout()\n",
    "fig.savefig(\"../figures/fig_wt_pairplot_score_with_essentials.png\",dpi=300)\n"
   ]
  },
  {
   "cell_type": "code",
   "execution_count": null,
   "metadata": {},
   "outputs": [],
   "source": []
  }
 ],
 "metadata": {
  "interpreter": {
   "hash": "4e417b9778b47a28d8b1724066397982bdf41da0689af0bd29246ac5809779c3"
  },
  "kernelspec": {
   "display_name": "Python 3.9.7 64-bit ('transposonmapper': conda)",
   "language": "python",
   "name": "python3"
  },
  "language_info": {
   "codemirror_mode": {
    "name": "ipython",
    "version": 3
   },
   "file_extension": ".py",
   "mimetype": "text/x-python",
   "name": "python",
   "nbconvert_exporter": "python",
   "pygments_lexer": "ipython3",
   "version": "3.9.7"
  },
  "orig_nbformat": 4
 },
 "nbformat": 4,
 "nbformat_minor": 2
}
