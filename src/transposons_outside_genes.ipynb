{
 "cells": [
  {
   "cell_type": "markdown",
   "metadata": {},
   "source": [
    "TO DO:\n",
    "1.  Access to the number of transposons (Insertions) in the upstream and downstream 3KB regions of every gene.\n",
    "    - Count how many insertions are 300bp after the End location and before it.\n",
    "2.  Compute the average transposon density per library.\n",
    "    - Compute the total number of transposons in the genome over the length of the genome.\n",
    "3.  Compare if the number of transposons in the upstream and downstream 3KB regions of every gene is less than the average transposon density of the library * 3KB , then discard the gene for analysis of essentiality.\n",
    "    - if the number of insertions of step1 < average transposon density * 3KB , discard the gene for analysis of essentiality."
   ]
  },
  {
   "cell_type": "markdown",
   "metadata": {},
   "source": [
    "- import dataset : postproccessed_data_all_backgrounds.xlsx\n",
    "- compute transposon density : total bp/total insertions\n",
    "- compute number of insertions in the upstream and downstream 3KB regions of every gene , Feature_type=Gene; Dubious"
   ]
  },
  {
   "cell_type": "code",
   "execution_count": 1,
   "metadata": {},
   "outputs": [],
   "source": [
    "import pandas as pd\n",
    "import numpy as np\n",
    "import matplotlib.pyplot as plt\n",
    "import seaborn as sns\n",
    "from collections import defaultdict\n"
   ]
  },
  {
   "cell_type": "code",
   "execution_count": 53,
   "metadata": {},
   "outputs": [],
   "source": [
    "data_all=pd.read_excel('../postprocessed-data/postprocessed_data_all_backgrounds.xlsx',\n",
    "engine='openpyxl')"
   ]
  },
  {
   "cell_type": "code",
   "execution_count": 54,
   "metadata": {},
   "outputs": [],
   "source": [
    "## Refine data \n",
    "data_all.index=np.arange(0,len(data_all))\n",
    "data_all.drop(columns=['Unnamed: 1'],inplace=True)\n",
    "data_all.fillna(0,inplace=True)\n",
    "data_all.rename(columns={'Unnamed: 0':'background'},inplace=True)\n",
    "\n",
    "keys=['dbem3_b',\n",
    " 'dnrp1_b',\n",
    " 'bem1-aid_a',\n",
    " 'dnrp1_a',\n",
    " 'dbem1dbem3_b',\n",
    " 'wt_merged',\n",
    " 'dbem1dbem3_a',\n",
    " 'bem1-aid-dbem3_a',\n",
    " 'bem1-aid-dbem3_b',\n",
    " 'wt_b',\n",
    " 'wt_a',\n",
    " 'dnrp1_merged',\n",
    " 'bem1-aid_b',\n",
    " 'dbem3_merged',\n",
    " 'dbem3_a']"
   ]
  },
  {
   "cell_type": "code",
   "execution_count": 55,
   "metadata": {},
   "outputs": [],
   "source": [
    "indexes_back=[] # indexes for the start of each background\n",
    "\n",
    "for i in keys:\n",
    "    indexes_back.append(np.where(data_all.loc[:,\"background\"]==i)[0])\n"
   ]
  },
  {
   "cell_type": "code",
   "execution_count": 56,
   "metadata": {},
   "outputs": [],
   "source": [
    "# Filling the name of the background according to the index\n",
    "for k in np.arange(0,len(indexes_back)-1):\n",
    "    \n",
    "    data_all.loc[np.arange(indexes_back[k][0],indexes_back[k+1][0]),\"background\"]=keys[k]\n",
    "\n",
    "data_all.loc[np.arange(indexes_back[-1][0],len(data_all)),\"background\"]=keys[-1] # for the last key"
   ]
  },
  {
   "cell_type": "code",
   "execution_count": 57,
   "metadata": {},
   "outputs": [
    {
     "data": {
      "text/plain": [
       "background\n",
       "bem1-aid-dbem3_a    12760\n",
       "bem1-aid-dbem3_b    12760\n",
       "bem1-aid_a          12745\n",
       "bem1-aid_b          12760\n",
       "dbem1dbem3_a        12760\n",
       "dbem1dbem3_b        12760\n",
       "dbem3_a             12760\n",
       "dbem3_b             12760\n",
       "dbem3_merged        12760\n",
       "dnrp1_a             12745\n",
       "dnrp1_b             12760\n",
       "dnrp1_merged        12760\n",
       "wt_a                12760\n",
       "wt_b                12760\n",
       "wt_merged           12745\n",
       "dtype: int64"
      ]
     },
     "execution_count": 57,
     "metadata": {},
     "output_type": "execute_result"
    }
   ],
   "source": [
    "# Check\n",
    "data_all.groupby(['background']).size()"
   ]
  },
  {
   "cell_type": "code",
   "execution_count": 58,
   "metadata": {},
   "outputs": [],
   "source": [
    "# Compute average transposon density per background \n",
    "data_all_processed=data_all.copy()\n",
    "for key in keys:\n",
    "    sum_tr=data_all_processed[data_all_processed.loc[:,\"background\"]==key][\"Ninsertions\"].sum()\n",
    "    genome=data_all_processed[data_all_processed.loc[:,\"background\"]==key][\"Nbasepairs\"].sum()\n",
    "    data_all_processed.loc[data_all_processed.loc[:,\"background\"]==key,\"transposon_density\"]=sum_tr/genome"
   ]
  },
  {
   "cell_type": "code",
   "execution_count": 89,
   "metadata": {},
   "outputs": [],
   "source": [
    "# Threshold for the number of transposons in 3kB = 3000bp according the transposon density per background\n",
    "\n",
    "threshold_tr=defaultdict(dict)\n",
    "windows_size=3000\n",
    "for key in keys:\n",
    "    threshold_tr[key][\"threshold\"]=np.round(data_all_processed[data_all_processed.loc[:,\"background\"]==key][\"transposon_density\"].unique()[0]*windows_size,decimals=0)"
   ]
  },
  {
   "cell_type": "code",
   "execution_count": 90,
   "metadata": {},
   "outputs": [],
   "source": [
    "threshold_tr_pd=pd.DataFrame.from_dict(threshold_tr,orient='index')"
   ]
  },
  {
   "cell_type": "code",
   "execution_count": 91,
   "metadata": {},
   "outputs": [
    {
     "data": {
      "text/html": [
       "<div>\n",
       "<style scoped>\n",
       "    .dataframe tbody tr th:only-of-type {\n",
       "        vertical-align: middle;\n",
       "    }\n",
       "\n",
       "    .dataframe tbody tr th {\n",
       "        vertical-align: top;\n",
       "    }\n",
       "\n",
       "    .dataframe thead th {\n",
       "        text-align: right;\n",
       "    }\n",
       "</style>\n",
       "<table border=\"1\" class=\"dataframe\">\n",
       "  <thead>\n",
       "    <tr style=\"text-align: right;\">\n",
       "      <th></th>\n",
       "      <th>threshold</th>\n",
       "    </tr>\n",
       "  </thead>\n",
       "  <tbody>\n",
       "    <tr>\n",
       "      <th>bem1-aid-dbem3_a</th>\n",
       "      <td>82.0</td>\n",
       "    </tr>\n",
       "    <tr>\n",
       "      <th>bem1-aid-dbem3_b</th>\n",
       "      <td>122.0</td>\n",
       "    </tr>\n",
       "    <tr>\n",
       "      <th>bem1-aid_a</th>\n",
       "      <td>30.0</td>\n",
       "    </tr>\n",
       "    <tr>\n",
       "      <th>bem1-aid_b</th>\n",
       "      <td>61.0</td>\n",
       "    </tr>\n",
       "    <tr>\n",
       "      <th>dbem1dbem3_a</th>\n",
       "      <td>123.0</td>\n",
       "    </tr>\n",
       "    <tr>\n",
       "      <th>dbem1dbem3_b</th>\n",
       "      <td>116.0</td>\n",
       "    </tr>\n",
       "    <tr>\n",
       "      <th>dbem3_a</th>\n",
       "      <td>148.0</td>\n",
       "    </tr>\n",
       "    <tr>\n",
       "      <th>dbem3_b</th>\n",
       "      <td>159.0</td>\n",
       "    </tr>\n",
       "    <tr>\n",
       "      <th>dbem3_merged</th>\n",
       "      <td>248.0</td>\n",
       "    </tr>\n",
       "    <tr>\n",
       "      <th>dnrp1_a</th>\n",
       "      <td>115.0</td>\n",
       "    </tr>\n",
       "    <tr>\n",
       "      <th>dnrp1_b</th>\n",
       "      <td>126.0</td>\n",
       "    </tr>\n",
       "    <tr>\n",
       "      <th>dnrp1_merged</th>\n",
       "      <td>232.0</td>\n",
       "    </tr>\n",
       "    <tr>\n",
       "      <th>wt_a</th>\n",
       "      <td>105.0</td>\n",
       "    </tr>\n",
       "    <tr>\n",
       "      <th>wt_b</th>\n",
       "      <td>102.0</td>\n",
       "    </tr>\n",
       "    <tr>\n",
       "      <th>wt_merged</th>\n",
       "      <td>124.0</td>\n",
       "    </tr>\n",
       "  </tbody>\n",
       "</table>\n",
       "</div>"
      ],
      "text/plain": [
       "                  threshold\n",
       "bem1-aid-dbem3_a       82.0\n",
       "bem1-aid-dbem3_b      122.0\n",
       "bem1-aid_a             30.0\n",
       "bem1-aid_b             61.0\n",
       "dbem1dbem3_a          123.0\n",
       "dbem1dbem3_b          116.0\n",
       "dbem3_a               148.0\n",
       "dbem3_b               159.0\n",
       "dbem3_merged          248.0\n",
       "dnrp1_a               115.0\n",
       "dnrp1_b               126.0\n",
       "dnrp1_merged          232.0\n",
       "wt_a                  105.0\n",
       "wt_b                  102.0\n",
       "wt_merged             124.0"
      ]
     },
     "execution_count": 91,
     "metadata": {},
     "output_type": "execute_result"
    }
   ],
   "source": [
    "threshold_tr_pd"
   ]
  },
  {
   "cell_type": "code",
   "execution_count": null,
   "metadata": {},
   "outputs": [],
   "source": []
  }
 ],
 "metadata": {
  "interpreter": {
   "hash": "4e417b9778b47a28d8b1724066397982bdf41da0689af0bd29246ac5809779c3"
  },
  "kernelspec": {
   "display_name": "Python 3.9.7 64-bit ('transposonmapper': conda)",
   "language": "python",
   "name": "python3"
  },
  "language_info": {
   "codemirror_mode": {
    "name": "ipython",
    "version": 3
   },
   "file_extension": ".py",
   "mimetype": "text/x-python",
   "name": "python",
   "nbconvert_exporter": "python",
   "pygments_lexer": "ipython3",
   "version": "3.9.7"
  },
  "orig_nbformat": 4
 },
 "nbformat": 4,
 "nbformat_minor": 2
}
