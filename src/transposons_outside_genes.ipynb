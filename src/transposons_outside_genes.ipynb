{
 "cells": [
  {
   "cell_type": "markdown",
   "metadata": {},
   "source": [
    "TO DO:\n",
    "1.  Access to the number of transposons (Insertions) in the upstream and downstream 3KB regions of every gene.\n",
    "    - Count how many insertions are 300bp after the End location and before it.\n",
    "2.  Compute the average transposon density per library.\n",
    "    - Compute the total number of transposons in the genome over the length of the genome.\n",
    "3.  Compare if the number of transposons in the upstream and downstream 3KB regions of every gene is less than the average transposon density of the library * 3KB , then discard the gene for analysis of essentiality.\n",
    "    - if the number of insertions of step1 < average transposon density * 3KB , discard the gene for analysis of essentiality."
   ]
  },
  {
   "cell_type": "markdown",
   "metadata": {},
   "source": [
    "- import dataset : postproccessed_data_all_backgrounds.xlsx\n",
    "- compute transposon density : total bp/total insertions\n",
    "- compute number of insertions in the upstream and downstream 3KB regions of every gene , Feature_type=Gene; Dubious"
   ]
  },
  {
   "cell_type": "code",
   "execution_count": 1,
   "metadata": {},
   "outputs": [],
   "source": [
    "import pandas as pd\n",
    "import numpy as np\n",
    "import matplotlib.pyplot as plt\n",
    "import seaborn as sns\n",
    "import os,sys\n",
    "from collections import defaultdict\n"
   ]
  },
  {
   "cell_type": "code",
   "execution_count": 2,
   "metadata": {},
   "outputs": [],
   "source": [
    "data_all=pd.read_excel('../postprocessed-data/postprocessed_data_all_backgrounds.xlsx',engine=\"openpyxl\")"
   ]
  },
  {
   "cell_type": "code",
   "execution_count": 3,
   "metadata": {},
   "outputs": [],
   "source": [
    "## Refine data \n",
    "data_all.index=np.arange(0,len(data_all))\n",
    "data_all.drop(columns=['Unnamed: 1'],inplace=True)\n",
    "data_all.fillna(0,inplace=True)\n",
    "data_all.rename(columns={'Unnamed: 0':'background'},inplace=True)\n",
    "\n",
    "keys=['dbem3_b',\n",
    " 'dnrp1_b',\n",
    " 'bem1-aid_a',\n",
    " 'dnrp1_a',\n",
    " 'dbem1dbem3_b',\n",
    " 'wt_merged',\n",
    " 'dbem1dbem3_a',\n",
    " 'bem1-aid-dbem3_a',\n",
    " 'bem1-aid-dbem3_b',\n",
    " 'wt_b',\n",
    " 'wt_a',\n",
    " 'dnrp1_merged',\n",
    " 'bem1-aid_b',\n",
    " 'dbem3_merged',\n",
    " 'dbem3_a']"
   ]
  },
  {
   "cell_type": "code",
   "execution_count": 4,
   "metadata": {},
   "outputs": [],
   "source": [
    "indexes_back=[] # indexes for the start of each background\n",
    "\n",
    "for i in keys:\n",
    "    indexes_back.append(np.where(data_all.loc[:,\"background\"]==i)[0])\n"
   ]
  },
  {
   "cell_type": "code",
   "execution_count": 5,
   "metadata": {},
   "outputs": [],
   "source": [
    "# Filling the name of the background according to the index\n",
    "for k in np.arange(0,len(indexes_back)-1):\n",
    "    \n",
    "    data_all.loc[np.arange(indexes_back[k][0],indexes_back[k+1][0]),\"background\"]=keys[k]\n",
    "\n",
    "data_all.loc[np.arange(indexes_back[-1][0],len(data_all)),\"background\"]=keys[-1] # for the last key"
   ]
  },
  {
   "cell_type": "code",
   "execution_count": 6,
   "metadata": {},
   "outputs": [
    {
     "data": {
      "text/plain": [
       "background\n",
       "bem1-aid-dbem3_a    12760\n",
       "bem1-aid-dbem3_b    12760\n",
       "bem1-aid_a          12745\n",
       "bem1-aid_b          12760\n",
       "dbem1dbem3_a        12760\n",
       "dbem1dbem3_b        12760\n",
       "dbem3_a             12760\n",
       "dbem3_b             12760\n",
       "dbem3_merged        12760\n",
       "dnrp1_a             12745\n",
       "dnrp1_b             12760\n",
       "dnrp1_merged        12760\n",
       "wt_a                12760\n",
       "wt_b                12760\n",
       "wt_merged           12745\n",
       "dtype: int64"
      ]
     },
     "execution_count": 6,
     "metadata": {},
     "output_type": "execute_result"
    }
   ],
   "source": [
    "# Check\n",
    "data_all.groupby(['background']).size()"
   ]
  },
  {
   "cell_type": "code",
   "execution_count": 7,
   "metadata": {},
   "outputs": [],
   "source": [
    "# Compute average transposon density per background \n",
    "data_all_processed=data_all.copy()\n",
    "for key in keys:\n",
    "    sum_tr=data_all_processed[data_all_processed.loc[:,\"background\"]==key][\"Ninsertions\"].sum()\n",
    "    genome=data_all_processed[data_all_processed.loc[:,\"background\"]==key][\"Nbasepairs\"].sum()\n",
    "    data_all_processed.loc[data_all_processed.loc[:,\"background\"]==key,\"transposon_density\"]=sum_tr/genome"
   ]
  },
  {
   "cell_type": "code",
   "execution_count": 8,
   "metadata": {},
   "outputs": [],
   "source": [
    "# Threshold for the number of transposons in 3kB = 3000bp according the transposon density per background\n",
    "\n",
    "threshold_tr=defaultdict(dict)\n",
    "windows_size=3000\n",
    "for key in keys:\n",
    "    threshold_tr[key][\"threshold\"]=np.round(data_all_processed[data_all_processed.loc[:,\"background\"]==key][\"transposon_density\"].unique()[0]*windows_size,decimals=0)"
   ]
  },
  {
   "cell_type": "code",
   "execution_count": 9,
   "metadata": {},
   "outputs": [
    {
     "data": {
      "text/html": [
       "<div>\n",
       "<style scoped>\n",
       "    .dataframe tbody tr th:only-of-type {\n",
       "        vertical-align: middle;\n",
       "    }\n",
       "\n",
       "    .dataframe tbody tr th {\n",
       "        vertical-align: top;\n",
       "    }\n",
       "\n",
       "    .dataframe thead th {\n",
       "        text-align: right;\n",
       "    }\n",
       "</style>\n",
       "<table border=\"1\" class=\"dataframe\">\n",
       "  <thead>\n",
       "    <tr style=\"text-align: right;\">\n",
       "      <th></th>\n",
       "      <th>threshold</th>\n",
       "    </tr>\n",
       "  </thead>\n",
       "  <tbody>\n",
       "    <tr>\n",
       "      <th>bem1-aid-dbem3_a</th>\n",
       "      <td>82.0</td>\n",
       "    </tr>\n",
       "    <tr>\n",
       "      <th>bem1-aid-dbem3_b</th>\n",
       "      <td>122.0</td>\n",
       "    </tr>\n",
       "    <tr>\n",
       "      <th>bem1-aid_a</th>\n",
       "      <td>30.0</td>\n",
       "    </tr>\n",
       "    <tr>\n",
       "      <th>bem1-aid_b</th>\n",
       "      <td>61.0</td>\n",
       "    </tr>\n",
       "    <tr>\n",
       "      <th>dbem1dbem3_a</th>\n",
       "      <td>123.0</td>\n",
       "    </tr>\n",
       "    <tr>\n",
       "      <th>dbem1dbem3_b</th>\n",
       "      <td>116.0</td>\n",
       "    </tr>\n",
       "    <tr>\n",
       "      <th>dbem3_a</th>\n",
       "      <td>148.0</td>\n",
       "    </tr>\n",
       "    <tr>\n",
       "      <th>dbem3_b</th>\n",
       "      <td>159.0</td>\n",
       "    </tr>\n",
       "    <tr>\n",
       "      <th>dbem3_merged</th>\n",
       "      <td>248.0</td>\n",
       "    </tr>\n",
       "    <tr>\n",
       "      <th>dnrp1_a</th>\n",
       "      <td>115.0</td>\n",
       "    </tr>\n",
       "    <tr>\n",
       "      <th>dnrp1_b</th>\n",
       "      <td>126.0</td>\n",
       "    </tr>\n",
       "    <tr>\n",
       "      <th>dnrp1_merged</th>\n",
       "      <td>232.0</td>\n",
       "    </tr>\n",
       "    <tr>\n",
       "      <th>wt_a</th>\n",
       "      <td>105.0</td>\n",
       "    </tr>\n",
       "    <tr>\n",
       "      <th>wt_b</th>\n",
       "      <td>102.0</td>\n",
       "    </tr>\n",
       "    <tr>\n",
       "      <th>wt_merged</th>\n",
       "      <td>124.0</td>\n",
       "    </tr>\n",
       "  </tbody>\n",
       "</table>\n",
       "</div>"
      ],
      "text/plain": [
       "                  threshold\n",
       "bem1-aid-dbem3_a       82.0\n",
       "bem1-aid-dbem3_b      122.0\n",
       "bem1-aid_a             30.0\n",
       "bem1-aid_b             61.0\n",
       "dbem1dbem3_a          123.0\n",
       "dbem1dbem3_b          116.0\n",
       "dbem3_a               148.0\n",
       "dbem3_b               159.0\n",
       "dbem3_merged          248.0\n",
       "dnrp1_a               115.0\n",
       "dnrp1_b               126.0\n",
       "dnrp1_merged          232.0\n",
       "wt_a                  105.0\n",
       "wt_b                  102.0\n",
       "wt_merged             124.0"
      ]
     },
     "execution_count": 9,
     "metadata": {},
     "output_type": "execute_result"
    }
   ],
   "source": [
    "threshold_tr_pd=pd.DataFrame.from_dict(threshold_tr,orient='index')\n",
    "threshold_tr_pd"
   ]
  },
  {
   "cell_type": "code",
   "execution_count": 10,
   "metadata": {},
   "outputs": [
    {
     "data": {
      "text/plain": [
       "75152"
      ]
     },
     "execution_count": 10,
     "metadata": {},
     "output_type": "execute_result"
    }
   ],
   "source": [
    "len(data_all_processed[(data_all_processed.loc[:,\"background\"]== keys[1]) & (data_all_processed.loc[:,\"Feature_type\"]== \"Gene; Dubious\") | (data_all_processed.loc[:,\"Feature_type\"]== \"Gene; Verified\")])"
   ]
  },
  {
   "cell_type": "code",
   "execution_count": 11,
   "metadata": {},
   "outputs": [],
   "source": [
    "## Importing pergene files , to know the name of all genes to analyze \n",
    "\n",
    "pergene_files=[]\n",
    "#data_dir= \"../satay/data_files/data_unmerged/\"\n",
    "#data_dir=\"../transposonmapper/data_files/files4test/\"\n",
    "data_dir=\"../postprocessed-data/\"\n",
    "#data_dir=\"../transposonmapper/data_files/\"\n",
    "for root, dirs, files in os.walk(data_dir):\n",
    "    for file in files:\n",
    "        if file.endswith(\"pergene_insertions.xlsx\"):\n",
    "            pergene_files.append(os.path.join(root, file))\n",
    "\n",
    "list_data=[]\n",
    "for i in pergene_files:\n",
    "    list_data.append(pd.read_excel(i,engine='openpyxl',index_col=\"Unnamed: 0\"))\n",
    "\n",
    "keys=[]\n",
    "for i in np.arange(0,len(pergene_files)):\n",
    "    keys.append(pergene_files[i].split(\"/\")[-1].split(\"_\")[0]+\"_\"+pergene_files[i].split(\"/\")[-1].split(\"_\")[1])\n",
    "\n",
    "list_data_pd=pd.concat(list_data,axis=0,keys=keys)"
   ]
  },
  {
   "cell_type": "code",
   "execution_count": 12,
   "metadata": {},
   "outputs": [
    {
     "data": {
      "text/html": [
       "<div>\n",
       "<style scoped>\n",
       "    .dataframe tbody tr th:only-of-type {\n",
       "        vertical-align: middle;\n",
       "    }\n",
       "\n",
       "    .dataframe tbody tr th {\n",
       "        vertical-align: top;\n",
       "    }\n",
       "\n",
       "    .dataframe thead th {\n",
       "        text-align: right;\n",
       "    }\n",
       "</style>\n",
       "<table border=\"1\" class=\"dataframe\">\n",
       "  <thead>\n",
       "    <tr style=\"text-align: right;\">\n",
       "      <th></th>\n",
       "      <th></th>\n",
       "      <th>Gene name</th>\n",
       "      <th>Chromosome</th>\n",
       "      <th>Start location</th>\n",
       "      <th>End location</th>\n",
       "      <th>Insertion locations</th>\n",
       "      <th>Reads per insertion location</th>\n",
       "      <th>Reads</th>\n",
       "      <th>Insertions</th>\n",
       "    </tr>\n",
       "  </thead>\n",
       "  <tbody>\n",
       "    <tr>\n",
       "      <th rowspan=\"2\" valign=\"top\">dbem3_b</th>\n",
       "      <th>0</th>\n",
       "      <td>YAL069W</td>\n",
       "      <td>I</td>\n",
       "      <td>335</td>\n",
       "      <td>649</td>\n",
       "      <td>[336, 340, 349, 372, 377, 382, 386, 386, 387, ...</td>\n",
       "      <td>[3, 327, 87, 1, 3, 12, 39, 1, 43, 6, 3, 45, 1,...</td>\n",
       "      <td>2353</td>\n",
       "      <td>55</td>\n",
       "    </tr>\n",
       "    <tr>\n",
       "      <th>1</th>\n",
       "      <td>YAL068W-A</td>\n",
       "      <td>I</td>\n",
       "      <td>538</td>\n",
       "      <td>792</td>\n",
       "      <td>[559, 561, 564, 565, 569, 570, 570, 571, 573, ...</td>\n",
       "      <td>[6, 1, 2, 2, 147, 9, 154, 17, 177, 1, 132, 5, ...</td>\n",
       "      <td>694</td>\n",
       "      <td>25</td>\n",
       "    </tr>\n",
       "  </tbody>\n",
       "</table>\n",
       "</div>"
      ],
      "text/plain": [
       "           Gene name Chromosome  Start location  End location  \\\n",
       "dbem3_b 0    YAL069W          I             335           649   \n",
       "        1  YAL068W-A          I             538           792   \n",
       "\n",
       "                                         Insertion locations  \\\n",
       "dbem3_b 0  [336, 340, 349, 372, 377, 382, 386, 386, 387, ...   \n",
       "        1  [559, 561, 564, 565, 569, 570, 570, 571, 573, ...   \n",
       "\n",
       "                                Reads per insertion location  Reads  \\\n",
       "dbem3_b 0  [3, 327, 87, 1, 3, 12, 39, 1, 43, 6, 3, 45, 1,...   2353   \n",
       "        1  [6, 1, 2, 2, 147, 9, 154, 17, 177, 1, 132, 5, ...    694   \n",
       "\n",
       "           Insertions  \n",
       "dbem3_b 0          55  \n",
       "        1          25  "
      ]
     },
     "execution_count": 12,
     "metadata": {},
     "output_type": "execute_result"
    }
   ],
   "source": [
    "list_data_pd.head(2)\n"
   ]
  },
  {
   "cell_type": "markdown",
   "metadata": {},
   "source": [
    "## Procedure :\n",
    "\n",
    "- Take from the processed data only the elements that fall under the category of \n",
    "\"Feature_type=Gene; Dubious\" or \"Feature_type=Gene; Verified\" or \"Feature_type=Gene; Uncharacterized\" or \"Feature_type=Gene; Verified|silenced_gene\""
   ]
  },
  {
   "cell_type": "code",
   "execution_count": 13,
   "metadata": {},
   "outputs": [
    {
     "data": {
      "text/plain": [
       "array(['PAU8', 'SEO1', 'FLO9', ..., 'HMLALPHA1', 'HMRA2', 'HMRA1'],\n",
       "      dtype=object)"
      ]
     },
     "execution_count": 13,
     "metadata": {},
     "output_type": "execute_result"
    }
   ],
   "source": [
    "genes_names=data_all_processed[data_all_processed.loc[:,\"Feature_type\"]==\"Gene; Verified\"][\"Standard_name\"].unique()\n",
    "np.append(genes_names,data_all_processed[data_all_processed.loc[:,\"Feature_type\"]==\"Gene; Dubious\"][\"Standard_name\"].unique())\n",
    "np.append(genes_names,data_all_processed[data_all_processed.loc[:,\"Feature_type\"]==\"Gene; Uncharacterized\"][\"Standard_name\"].unique())\n",
    "np.append(genes_names,data_all_processed[data_all_processed.loc[:,\"Feature_type\"]==\"Gene; Verified|silenced_gene\"][\"Standard_name\"].unique())"
   ]
  },
  {
   "cell_type": "code",
   "execution_count": 14,
   "metadata": {},
   "outputs": [],
   "source": [
    "data_all_processed.index=data_all_processed.loc[:,\"Standard_name\"]"
   ]
  },
  {
   "cell_type": "code",
   "execution_count": 100,
   "metadata": {},
   "outputs": [],
   "source": [
    "## Steps:\n",
    "# 1. Convert all positions to floats\n",
    "# 2. Find all the positions that fall such that the start and the end are within 300bp more than \n",
    "#    the end of the gene (downstream search)\n",
    "# 3. Find all the positions that fall such that the start and the end are within 300bp less than\n",
    "#    the start of the gene (upstream search)\n",
    "\n",
    "# Convert all positions to float\n",
    "from from_excel_to_list import from_excel_to_list\n",
    "n=0\n",
    "background=keys[n]\n",
    "data=data_all_processed[data_all_processed.loc[:,\"background\"]==background]\n",
    "\n",
    "positions_float=defaultdict(dict)\n",
    "for i in data.index:\n",
    "    if type(data.loc[i,\"Position\"])==pd.core.series.Series:\n",
    "        tmp=[]\n",
    "        for j in np.arange(0,len(data.loc[i,\"Position\"])):\n",
    "            tmp.append(from_excel_to_list(data.loc[i,\"Position\"][j]))\n",
    "            positions_float[i][\"Positions_float\"]=tmp\n",
    "    else:\n",
    "        positions_float[i][\"Positions_float\"]=(from_excel_to_list(data.loc[i,\"Position\"]))\n",
    "    \n"
   ]
  },
  {
   "cell_type": "code",
   "execution_count": 86,
   "metadata": {},
   "outputs": [
    {
     "data": {
      "text/html": [
       "<div>\n",
       "<style scoped>\n",
       "    .dataframe tbody tr th:only-of-type {\n",
       "        vertical-align: middle;\n",
       "    }\n",
       "\n",
       "    .dataframe tbody tr th {\n",
       "        vertical-align: top;\n",
       "    }\n",
       "\n",
       "    .dataframe thead th {\n",
       "        text-align: right;\n",
       "    }\n",
       "</style>\n",
       "<table border=\"1\" class=\"dataframe\">\n",
       "  <thead>\n",
       "    <tr style=\"text-align: right;\">\n",
       "      <th></th>\n",
       "      <th>Positions_float</th>\n",
       "    </tr>\n",
       "  </thead>\n",
       "  <tbody>\n",
       "    <tr>\n",
       "      <th>AAC1</th>\n",
       "      <td>[387316.0, 388245.0]</td>\n",
       "    </tr>\n",
       "    <tr>\n",
       "      <th>AAC3</th>\n",
       "      <td>[415984.0, 416907.0]</td>\n",
       "    </tr>\n",
       "  </tbody>\n",
       "</table>\n",
       "</div>"
      ],
      "text/plain": [
       "           Positions_float\n",
       "AAC1  [387316.0, 388245.0]\n",
       "AAC3  [415984.0, 416907.0]"
      ]
     },
     "execution_count": 86,
     "metadata": {},
     "output_type": "execute_result"
    }
   ],
   "source": [
    "positions_float_pd=pd.DataFrame.from_dict(positions_float,orient='index')\n",
    "positions_float_pd.head(2)"
   ]
  },
  {
   "cell_type": "code",
   "execution_count": 87,
   "metadata": {},
   "outputs": [],
   "source": [
    "#2. Find all the positions that fall such that the start and the end are within 300bp more than \n",
    "#    the end of the gene (downstream search)\n",
    "\n",
    "pos_target=0\n",
    "target=positions_float_pd.loc[genes_names[pos_target],\"Positions_float\"]\n",
    "\n",
    "for i in genes_names:\n",
    "    tmp=positions_float_pd.loc[i,\"Positions_float\"]\n",
    "    if tmp[1]<target[1]+300 :\n",
    "        positions_float_pd.loc[0,\"Genes downstream\"]=i"
   ]
  },
  {
   "cell_type": "code",
   "execution_count": 98,
   "metadata": {},
   "outputs": [
    {
     "data": {
      "text/plain": [
       "<function list.index(value, start=0, stop=9223372036854775807, /)>"
      ]
     },
     "execution_count": 98,
     "metadata": {},
     "output_type": "execute_result"
    }
   ],
   "source": [
    "positions_float_pd.loc[:,\"Positions_float\"][0]"
   ]
  },
  {
   "cell_type": "code",
   "execution_count": null,
   "metadata": {},
   "outputs": [],
   "source": []
  }
 ],
 "metadata": {
  "interpreter": {
   "hash": "4e417b9778b47a28d8b1724066397982bdf41da0689af0bd29246ac5809779c3"
  },
  "kernelspec": {
   "display_name": "Python 3.9.7 64-bit ('transposonmapper': conda)",
   "language": "python",
   "name": "python3"
  },
  "language_info": {
   "codemirror_mode": {
    "name": "ipython",
    "version": 3
   },
   "file_extension": ".py",
   "mimetype": "text/x-python",
   "name": "python",
   "nbconvert_exporter": "python",
   "pygments_lexer": "ipython3",
   "version": "3.9.7"
  },
  "orig_nbformat": 4
 },
 "nbformat": 4,
 "nbformat_minor": 2
}
