{
 "cells": [
  {
   "cell_type": "code",
   "execution_count": 1,
   "metadata": {},
   "outputs": [],
   "source": [
    "\n",
    "## Importing the required python libraries \n",
    "import os, sys\n",
    "import warnings\n",
    "import timeit\n",
    "import numpy as np\n",
    "import pandas as pd \n",
    "import pkg_resources\n",
    "import matplotlib.pyplot as plt\n",
    "import re\n",
    "import seaborn as sns\n",
    "from collections import defaultdict\n"
   ]
  },
  {
   "cell_type": "code",
   "execution_count": 2,
   "metadata": {},
   "outputs": [],
   "source": [
    "pergene_files=[]\n",
    "#data_dir= \"../satay/data_files/data_unmerged/\"\n",
    "#data_dir=\"../transposonmapper/data_files/files4test/\"\n",
    "data_dir=\"../postprocessed-data/\"\n",
    "#data_dir=\"../transposonmapper/data_files/\"\n",
    "for root, dirs, files in os.walk(data_dir):\n",
    "    for file in files:\n",
    "        if file.endswith(\"pergene_insertions.xlsx\"):\n",
    "            pergene_files.append(os.path.join(root, file))\n",
    "\n",
    "list_data=[]\n",
    "for i in pergene_files:\n",
    "    list_data.append(pd.read_excel(i,engine='openpyxl',index_col=\"Unnamed: 0\"))\n",
    "\n",
    "keys=[]\n",
    "for i in np.arange(0,len(pergene_files)):\n",
    "    keys.append(pergene_files[i].split(\"/\")[-1].split(\"_\")[0]+\"_\"+pergene_files[i].split(\"/\")[-1].split(\"_\")[1])\n",
    "\n",
    "list_data_pd=pd.concat(list_data,axis=0,keys=keys)"
   ]
  },
  {
   "cell_type": "code",
   "execution_count": 5,
   "metadata": {},
   "outputs": [
    {
     "data": {
      "text/html": [
       "<div>\n",
       "<style scoped>\n",
       "    .dataframe tbody tr th:only-of-type {\n",
       "        vertical-align: middle;\n",
       "    }\n",
       "\n",
       "    .dataframe tbody tr th {\n",
       "        vertical-align: top;\n",
       "    }\n",
       "\n",
       "    .dataframe thead th {\n",
       "        text-align: right;\n",
       "    }\n",
       "</style>\n",
       "<table border=\"1\" class=\"dataframe\">\n",
       "  <thead>\n",
       "    <tr style=\"text-align: right;\">\n",
       "      <th></th>\n",
       "      <th></th>\n",
       "      <th>Gene name</th>\n",
       "      <th>Chromosome</th>\n",
       "      <th>Start location</th>\n",
       "      <th>End location</th>\n",
       "      <th>Insertion locations</th>\n",
       "      <th>Reads per insertion location</th>\n",
       "      <th>Reads</th>\n",
       "      <th>Insertions</th>\n",
       "    </tr>\n",
       "  </thead>\n",
       "  <tbody>\n",
       "    <tr>\n",
       "      <th rowspan=\"5\" valign=\"top\">dbem3_b</th>\n",
       "      <th>0</th>\n",
       "      <td>YAL069W</td>\n",
       "      <td>I</td>\n",
       "      <td>335</td>\n",
       "      <td>649</td>\n",
       "      <td>[336, 340, 349, 372, 377, 382, 386, 386, 387, ...</td>\n",
       "      <td>[3, 327, 87, 1, 3, 12, 39, 1, 43, 6, 3, 45, 1,...</td>\n",
       "      <td>2353</td>\n",
       "      <td>55</td>\n",
       "    </tr>\n",
       "    <tr>\n",
       "      <th>1</th>\n",
       "      <td>YAL068W-A</td>\n",
       "      <td>I</td>\n",
       "      <td>538</td>\n",
       "      <td>792</td>\n",
       "      <td>[559, 561, 564, 565, 569, 570, 570, 571, 573, ...</td>\n",
       "      <td>[6, 1, 2, 2, 147, 9, 154, 17, 177, 1, 132, 5, ...</td>\n",
       "      <td>694</td>\n",
       "      <td>25</td>\n",
       "    </tr>\n",
       "    <tr>\n",
       "      <th>2</th>\n",
       "      <td>PAU8</td>\n",
       "      <td>I</td>\n",
       "      <td>1807</td>\n",
       "      <td>2169</td>\n",
       "      <td>[1810, 1819, 1826, 1831, 1833, 1838, 1846, 188...</td>\n",
       "      <td>[3, 30, 16, 2, 8, 1, 12, 50, 1, 3, 2, 1, 44, 2...</td>\n",
       "      <td>416</td>\n",
       "      <td>29</td>\n",
       "    </tr>\n",
       "    <tr>\n",
       "      <th>3</th>\n",
       "      <td>YAL067W-A</td>\n",
       "      <td>I</td>\n",
       "      <td>2480</td>\n",
       "      <td>2707</td>\n",
       "      <td>[2494, 2534, 2552, 2560, 2561, 2561, 2574, 257...</td>\n",
       "      <td>[20, 1, 7, 6, 8, 1, 4, 4, 2, 21, 2, 1, 3, 4, 4...</td>\n",
       "      <td>90</td>\n",
       "      <td>17</td>\n",
       "    </tr>\n",
       "    <tr>\n",
       "      <th>4</th>\n",
       "      <td>SEO1</td>\n",
       "      <td>I</td>\n",
       "      <td>7235</td>\n",
       "      <td>9016</td>\n",
       "      <td>[7294, 7299, 7326, 7403, 7403, 7404, 7408, 744...</td>\n",
       "      <td>[38, 1, 1, 84, 1, 12, 32, 1, 3, 5, 1, 6, 52, 4...</td>\n",
       "      <td>1394</td>\n",
       "      <td>70</td>\n",
       "    </tr>\n",
       "  </tbody>\n",
       "</table>\n",
       "</div>"
      ],
      "text/plain": [
       "           Gene name Chromosome  Start location  End location  \\\n",
       "dbem3_b 0    YAL069W          I             335           649   \n",
       "        1  YAL068W-A          I             538           792   \n",
       "        2       PAU8          I            1807          2169   \n",
       "        3  YAL067W-A          I            2480          2707   \n",
       "        4       SEO1          I            7235          9016   \n",
       "\n",
       "                                         Insertion locations  \\\n",
       "dbem3_b 0  [336, 340, 349, 372, 377, 382, 386, 386, 387, ...   \n",
       "        1  [559, 561, 564, 565, 569, 570, 570, 571, 573, ...   \n",
       "        2  [1810, 1819, 1826, 1831, 1833, 1838, 1846, 188...   \n",
       "        3  [2494, 2534, 2552, 2560, 2561, 2561, 2574, 257...   \n",
       "        4  [7294, 7299, 7326, 7403, 7403, 7404, 7408, 744...   \n",
       "\n",
       "                                Reads per insertion location  Reads  \\\n",
       "dbem3_b 0  [3, 327, 87, 1, 3, 12, 39, 1, 43, 6, 3, 45, 1,...   2353   \n",
       "        1  [6, 1, 2, 2, 147, 9, 154, 17, 177, 1, 132, 5, ...    694   \n",
       "        2  [3, 30, 16, 2, 8, 1, 12, 50, 1, 3, 2, 1, 44, 2...    416   \n",
       "        3  [20, 1, 7, 6, 8, 1, 4, 4, 2, 21, 2, 1, 3, 4, 4...     90   \n",
       "        4  [38, 1, 1, 84, 1, 12, 32, 1, 3, 5, 1, 6, 52, 4...   1394   \n",
       "\n",
       "           Insertions  \n",
       "dbem3_b 0          55  \n",
       "        1          25  \n",
       "        2          29  \n",
       "        3          17  \n",
       "        4          70  "
      ]
     },
     "execution_count": 5,
     "metadata": {},
     "output_type": "execute_result"
    }
   ],
   "source": [
    "list_data_pd.head()"
   ]
  },
  {
   "cell_type": "code",
   "execution_count": null,
   "metadata": {},
   "outputs": [],
   "source": [
    "## Plot reads per tranposons over the genes in essential genes  \n",
    "\n",
    "essential_genes=[\"CDC42\",\"ACT1\",\"CDC24\", \"CDC19\",\"CDC15\"]"
   ]
  },
  {
   "cell_type": "code",
   "execution_count": 36,
   "metadata": {},
   "outputs": [
    {
     "data": {
      "image/png": "[encoded data removed]",
      "text/plain": [
       "<Figure size 432x288 with 1 Axes>"
      ]
     },
     "metadata": {
      "needs_background": "light"
     },
     "output_type": "display_data"
    }
   ],
   "source": [
    " ## prototype for one gene\n",
    "from from_excel_to_list import from_excel_to_list\n",
    "\n",
    "a=list_data_pd.loc[keys[0],\"Gene name\"]\n",
    "\n",
    "np.where(a==\"CDC42\")[0][0]\n",
    "\n",
    "plt.bar(from_excel_to_list( list_data_pd.loc[keys[0],\"Insertion locations\"][4292]),\n",
    "from_excel_to_list( list_data_pd.loc[keys[0],\"Reads per insertion location\"][4292]))\n",
    "\n",
    "length=list_data_pd.loc[keys[0],\"End location\"][4292]-list_data_pd.loc[keys[0],\"Start location\"][4292]\n",
    "\n",
    "length_10_first=0.1*length\n",
    "length_10_last=0.9*length\n",
    "\n",
    "#plt.vlines(ymax=10,ymin=0,x=604350+length_10_first,color=\"red\")\n",
    "#plt.vlines(ymax=10,ymin=0,x=604350+length_10_last,color=\"red\")\n",
    "\n",
    "#plt.xlim(604330,604750)"
   ]
  },
  {
   "cell_type": "code",
   "execution_count": null,
   "metadata": {},
   "outputs": [],
   "source": [
    "## Make subplots for all genes showing the reads distribution along the gene \n",
    "\n",
    "    ## highlight the first 10% of the gene and the last 10% of the gene in the plot "
   ]
  }
 ],
 "metadata": {
  "interpreter": {
   "hash": "4e417b9778b47a28d8b1724066397982bdf41da0689af0bd29246ac5809779c3"
  },
  "kernelspec": {
   "display_name": "Python 3.9.7 64-bit ('transposonmapper': conda)",
   "language": "python",
   "name": "python3"
  },
  "language_info": {
   "codemirror_mode": {
    "name": "ipython",
    "version": 3
   },
   "file_extension": ".py",
   "mimetype": "text/x-python",
   "name": "python",
   "nbconvert_exporter": "python",
   "pygments_lexer": "ipython3",
   "version": "3.9.7"
  },
  "orig_nbformat": 4
 },
 "nbformat": 4,
 "nbformat_minor": 2
}
